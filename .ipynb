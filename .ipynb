{
 "cells": [
  {
   "cell_type": "markdown",
   "metadata": {},
   "source": [
    "# [SOC-5] Lecture 18: Inferential Statistics\n",
    " \n",
    "---\n",
    "\n",
    "![](jupyter-header-1.png)\n",
    "\n",
    "\n",
    "### Professor David Harding\n",
    "\n",
    "This notebook focuses on exploring confidence intervals and hypothesis testing. We will do this through exploring the age data of UC Berkeley students and the General Social Survey data with widgets.\n",
    "\n",
    "---\n",
    "\n",
    "### Topics Covered\n",
    "- Sampling Error & Margin of Error\n",
    "- Law of Large Numbers\n",
    "- Central Limit Theorem & Normal Distributions\n",
    "- Confidence Intervals\n",
    "\n",
    "### Table of Contents\n",
    "\n",
    "[The Data](#data)<br>\n",
    "\n",
    "1 - [Sampling Error & Margin of Error](#1)<br>\n",
    "\n",
    "2 - [Law of Large Numbers](#2)<br>\n",
    "\n",
    "3 - [Central Limit Theorem & Normal Distributions](#3)<br>\n",
    "\n",
    "4 - [Confidence Intervals](#4)<br>\n",
    "\n",
    "&nbsp;&nbsp;&nbsp;&nbsp;&nbsp;&nbsp; 4.1 - [CI via Resampling](#s1)\n",
    "\n",
    "&nbsp;&nbsp;&nbsp;&nbsp;&nbsp;&nbsp; 4.2 - [CI with Regression Coefficient](#s2)\n",
    "\n",
    "&nbsp;&nbsp;&nbsp;&nbsp;&nbsp;&nbsp; 4.3 - [Statistical Testing via CI](#s3)\n",
    "\n",
    "\n",
    "\n",
    "The code in this notebook is hidden for readability. If you would like to look at the code, click the button below.\n",
    "\n",
    "<div class=\"alert alert-warning\">\n",
    "In order to make sure that all of the interactive widgets appear, please click \"Kernel\" in the top bar, then select \"Restart & Run All\", then confirm \"Restart and Run All Cells\". This will hide all of the code cells, but if you want to look at the code come back to the cell below and click the button.\n",
    "</div>\n"
   ]
  },
  {
   "cell_type": "code",
   "execution_count": 53,
   "metadata": {
    "scrolled": true
   },
   "outputs": [
    {
     "data": {
      "text/html": [
       "<script>\n",
       "code_show=true; \n",
       "function code_toggle() {\n",
       "  if (code_show) {\n",
       "    $('div.input').each(function(id) {\n",
       "      el = $(this).find('.cm-variable:first');\n",
       "      if (id == 0 || el.text() == 'hide_me') {\n",
       "        $(this).hide();\n",
       "      }\n",
       "    });\n",
       "    $('div.output_prompt').css('opacity', 0);\n",
       "  } else {\n",
       "    $('div.input').each(function(id) {\n",
       "      $(this).show();\n",
       "    });\n",
       "    $('div.output_prompt').css('opacity', 1);\n",
       "  }\n",
       "  code_show = !code_show\n",
       "} \n",
       "$( document ).ready(code_toggle);\n",
       "</script>\n",
       "<form action=\"javascript:code_toggle()\"><input style=\"opacity:1\" type=\"submit\" value=\"Click here to reveal the raw code.\"></form>"
      ],
      "text/plain": [
       "<IPython.core.display.HTML object>"
      ]
     },
     "execution_count": 53,
     "metadata": {},
     "output_type": "execute_result"
    }
   ],
   "source": [
    "from IPython.display import HTML\n",
    "\n",
    "hide_me = ''\n",
    "HTML('''<script>\n",
    "code_show=true; \n",
    "function code_toggle() {\n",
    "  if (code_show) {\n",
    "    $('div.input').each(function(id) {\n",
    "      el = $(this).find('.cm-variable:first');\n",
    "      if (id == 0 || el.text() == 'hide_me') {\n",
    "        $(this).hide();\n",
    "      }\n",
    "    });\n",
    "    $('div.output_prompt').css('opacity', 0);\n",
    "  } else {\n",
    "    $('div.input').each(function(id) {\n",
    "      $(this).show();\n",
    "    });\n",
    "    $('div.output_prompt').css('opacity', 1);\n",
    "  }\n",
    "  code_show = !code_show\n",
    "} \n",
    "$( document ).ready(code_toggle);\n",
    "</script>\n",
    "<form action=\"javascript:code_toggle()\"><input style=\"opacity:1\" type=\"submit\" value=\"Click here to reveal the raw code.\"></form>''')\n",
    "\n",
    "#derived from the style modules notebook (by Keeley Takimoto)"
   ]
  },
  {
   "cell_type": "code",
   "execution_count": 54,
   "metadata": {
    "scrolled": true
   },
   "outputs": [],
   "source": [
    "hide_me \n",
    "# DEPENDENCIES\n",
    "# Just run this cell\n",
    "# This is some code that allows us to manipulate data. You don't need to worry about this now.\n",
    "import ipywidgets as widgets\n",
    "from ipywidgets import interact, interactive, fixed, interact_manual\n",
    "\n",
    "import warnings\n",
    "warnings.filterwarnings('ignore')\n",
    "\n",
    "import numpy as np\n",
    "\n",
    "import pandas as pd\n",
    "from scipy import stats\n",
    "from datascience import *\n",
    "\n",
    "import seaborn as sns\n",
    "import matplotlib.pyplot as plt\n",
    "%matplotlib inline"
   ]
  },
  {
   "cell_type": "markdown",
   "metadata": {},
   "source": [
    "---\n",
    "\n",
    "## The Data <a id='data'></a>\n",
    "\n",
    "In this notebook, we will be exploring age data of UC Berkeley students, drawn from the <a href = https://nces.ed.gov/ipeds/use-the-data> National Center for Education Statistics</a>. Additionally, we will continue working with the data from the <a href = https://gss.norc.org> General Social Survey</a>. This notebook utilizes the same GSS data we've used in past notebooks, which include a subset of the variables that were collected. If you are interested in the many other variables the GSS collects, feel free to explore at the link above.\n",
    "\n",
    "---"
   ]
  },
  {
   "cell_type": "markdown",
   "metadata": {},
   "source": [
    "# Sampling Error & Margin of Error  <a id='1'></a>\n",
    "\n",
    "Let's review what sampling error and margin of error are. But first, let's define some statistical terms. \n",
    "\n",
    "We consider the *sample statistic* to be a value that we generate from our sample, which is a subset of the population. This can be something like the mean age of a sample of 100 adults who are drawn from the population of all adults. The *population parameter* is a number that is taken to be the true, real value. This would be the mean age of every single adult in the entire human population. In most cases, we don't know the actual value of the population parameter, because it is impossible (or not feasable) to measure every single individual in our population.\n",
    "\n",
    "**Sampling Error:** The difference between our *sample statistic* and the *population parameter*.\n",
    "\n",
    "When we take a random sample, we are not guaranteed to get a sample that is perfectly representative of the population. This results in sampling error, since our sample most likely has different attributes than the population as a whole.\n",
    "\n",
    "**Margin of Error:** A value that helps us quantify the extent to which our *sample statistic* can be different than the *population parameter*. \n",
    "\n",
    "For example, say that you took a random sample of UC Berkeley students and asked them how many hours they spent on Facebook each day. Your sample mean could be 1.37 hours, but if you have a margin of error equal to 0.14 at a 95% confidence level, you can be 95% confident that the true number of hours UC Berkeley students spend on Facebook each day (the population parameter) is somewhere between 1.23 and 1.51 hours (1.37 -/+ 0.14). This range of [1.23, 1.51] is known as a *confidence interval*, which we will talk about later in this notebook.\n",
    "\n",
    "---\n",
    "\n",
    "Let's apply this knowledge. Say we have the following values:\n",
    "``` python\n",
    "sample_stat = 2.73\n",
    "population_param = 2.68\n",
    "margin_of_error = 0.1\n",
    "```"
   ]
  },
  {
   "cell_type": "markdown",
   "metadata": {},
   "source": [
    "<div class=\"alert alert-info\">\n",
    "<b> Questions about the above example:</b>  \n",
    "\n",
    "a) What is the sampling error? \n",
    "\n",
    "b) What is the interval in which we are confident that the true population parameter lies (assuming it wasn't just given to us)? \n",
    "\n",
    "c) Does our confidence interval with our given margin of error include the true population parameter?\n",
    "</div>"
   ]
  },
  {
   "cell_type": "markdown",
   "metadata": {},
   "source": [
    "*Double click this cell to begin typing your answer*"
   ]
  },
  {
   "cell_type": "markdown",
   "metadata": {},
   "source": [
    "---"
   ]
  },
  {
   "cell_type": "markdown",
   "metadata": {},
   "source": [
    "# Law of Large Numbers <a id='2'></a>\n",
    "\n",
    "The **law of large numbers** states that the larger our sample size, the closer our sample statistic will be to the population parameter. Think about it - let's say the entire population is 500 people living in a small town, and the metric you are looking at is the average age. If you select only 1 person for your sample and it happens to be the one 2-year-old, then your sample mean is 2. However, if you select 495 people for your sample, it's much more likely that your sample mean will be closer to the true mean age of everybody in the town.\n",
    "\n",
    "Let's look at an example with some real world sociological data - the age of UC Berkeley undergrads in Fall 2017! (Note that these data are displayed a little bit differently than the GSS data in prior notebooks. Here we have one row with counts of the number of students in different age groups.)"
   ]
  },
  {
   "cell_type": "code",
   "execution_count": 55,
   "metadata": {
    "scrolled": true
   },
   "outputs": [
    {
     "data": {
      "text/html": [
       "<div>\n",
       "<style scoped>\n",
       "    .dataframe tbody tr th:only-of-type {\n",
       "        vertical-align: middle;\n",
       "    }\n",
       "\n",
       "    .dataframe tbody tr th {\n",
       "        vertical-align: top;\n",
       "    }\n",
       "\n",
       "    .dataframe thead th {\n",
       "        text-align: right;\n",
       "    }\n",
       "</style>\n",
       "<table border=\"1\" class=\"dataframe\">\n",
       "  <thead>\n",
       "    <tr style=\"text-align: right;\">\n",
       "      <th></th>\n",
       "      <th>Grand total (EF2017B  Undergraduate  Age under 18)</th>\n",
       "      <th>Grand total (EF2017B  Undergraduate  Age 18-19)</th>\n",
       "      <th>Grand total (EF2017B  Undergraduate  Age 20-21)</th>\n",
       "      <th>Grand total (EF2017B  Undergraduate  Age 22-24)</th>\n",
       "      <th>Grand total (EF2017B  Undergraduate  Age 25-29)</th>\n",
       "      <th>Grand total (EF2017B  Undergraduate  Age 30-34)</th>\n",
       "      <th>Grand total (EF2017B  Undergraduate  Age 35-39)</th>\n",
       "      <th>Grand total (EF2017B  Undergraduate  Age 40-49)</th>\n",
       "      <th>Grand total (EF2017B  Undergraduate  Age 50-64)</th>\n",
       "      <th>Grand total (EF2017B  Undergraduate  Age 65 and over)</th>\n",
       "      <th>Grand total (EF2017B  Undergraduate  Age unknown)</th>\n",
       "    </tr>\n",
       "  </thead>\n",
       "  <tbody>\n",
       "    <tr>\n",
       "      <th>UC Berkeley</th>\n",
       "      <td>651</td>\n",
       "      <td>12040</td>\n",
       "      <td>12434</td>\n",
       "      <td>3762</td>\n",
       "      <td>1091</td>\n",
       "      <td>311</td>\n",
       "      <td>143</td>\n",
       "      <td>89</td>\n",
       "      <td>48</td>\n",
       "      <td>5</td>\n",
       "      <td>NaN</td>\n",
       "    </tr>\n",
       "  </tbody>\n",
       "</table>\n",
       "</div>"
      ],
      "text/plain": [
       "             Grand total (EF2017B  Undergraduate  Age under 18)  \\\n",
       "UC Berkeley                                                651    \n",
       "\n",
       "             Grand total (EF2017B  Undergraduate  Age 18-19)  \\\n",
       "UC Berkeley                                            12040   \n",
       "\n",
       "             Grand total (EF2017B  Undergraduate  Age 20-21)  \\\n",
       "UC Berkeley                                            12434   \n",
       "\n",
       "             Grand total (EF2017B  Undergraduate  Age 22-24)  \\\n",
       "UC Berkeley                                             3762   \n",
       "\n",
       "             Grand total (EF2017B  Undergraduate  Age 25-29)  \\\n",
       "UC Berkeley                                             1091   \n",
       "\n",
       "             Grand total (EF2017B  Undergraduate  Age 30-34)  \\\n",
       "UC Berkeley                                              311   \n",
       "\n",
       "             Grand total (EF2017B  Undergraduate  Age 35-39)  \\\n",
       "UC Berkeley                                              143   \n",
       "\n",
       "             Grand total (EF2017B  Undergraduate  Age 40-49)  \\\n",
       "UC Berkeley                                               89   \n",
       "\n",
       "             Grand total (EF2017B  Undergraduate  Age 50-64)  \\\n",
       "UC Berkeley                                               48   \n",
       "\n",
       "             Grand total (EF2017B  Undergraduate  Age 65 and over)  \\\n",
       "UC Berkeley                                                  5       \n",
       "\n",
       "             Grand total (EF2017B  Undergraduate  Age unknown)  \n",
       "UC Berkeley                                                NaN  "
      ]
     },
     "execution_count": 55,
     "metadata": {},
     "output_type": "execute_result"
    }
   ],
   "source": [
    "hide_me \n",
    "# The data is given with the number of students in an age range\n",
    "# For the purposes of this exploration, we'll assume an equal distribution for each age in a range and assign\n",
    "# an equal number of individuals to each age in the range \n",
    "# (if 2 people are in the range 18-19, we'll assume 1 person is 18 and 1 person is 19)\n",
    "# Because the age range for under 18 and 65 and over is so large, we will exclude those categories from our sample\n",
    "# We will also round the number of students so that we end up with a whole number of students after separating out for age\n",
    "ages_df = pd.read_csv('ipeds-berkeley-age-data.csv')\n",
    "ages_df = ages_df[[x for x in ages_df.columns if 'Grand total' in x]].rename(index = {0:'UC Berkeley'})\n",
    "ages_df"
   ]
  },
  {
   "cell_type": "code",
   "execution_count": 56,
   "metadata": {
    "scrolled": true
   },
   "outputs": [
    {
     "name": "stdout",
     "output_type": "stream",
     "text": [
      "The total number of individuals in our dataset is 29916 ignoring those under 18 and over 65.\n"
     ]
    }
   ],
   "source": [
    "hide_me \n",
    "# create an array that roughly consists of the age of each student, following rules defined in cell above\n",
    "repeats = [ages_df.iloc[0][1]/2, ages_df.iloc[0][1]/2, ages_df.iloc[0][2]/2, ages_df.iloc[0][2]/2,\n",
    "           ages_df.iloc[0][3]/3, ages_df.iloc[0][3]/3, ages_df.iloc[0][3]/3,\n",
    "           (ages_df.iloc[0][4]-1)/5, (ages_df.iloc[0][4]-1)/5, (ages_df.iloc[0][4]-1)/5, \n",
    "           (ages_df.iloc[0][4]-1)/5, (ages_df.iloc[0][4]-1)/5, (ages_df.iloc[0][5]-1)/5,\n",
    "           (ages_df.iloc[0][5]-1)/5, (ages_df.iloc[0][5]-1)/5, (ages_df.iloc[0][5]-1)/5, \n",
    "           (ages_df.iloc[0][5]-1)/5, (ages_df.iloc[0][6]+2)/5, (ages_df.iloc[0][6]+2)/5, \n",
    "           (ages_df.iloc[0][6]+2)/5, (ages_df.iloc[0][6]+2)/5, (ages_df.iloc[0][6]+2)/5,\n",
    "           9, 9, 9, 9, 9, 9, 9, 9, 9, 9, 3, 3, 3, 3, 3, 3, 3, 3, 3, 3, 3, 3, 3, 3, 3]\n",
    "ages = np.arange(18, 65)\n",
    "\n",
    "all_ages = np.repeat(ages, repeats)\n",
    "total = len(all_ages) \n",
    "print('The total number of individuals in our dataset is', total, 'ignoring those under 18 and over 65.')"
   ]
  },
  {
   "cell_type": "markdown",
   "metadata": {},
   "source": [
    "We'll treat that as the population. Let's take a small sample of two individuals from our dataset and see what the average age is. "
   ]
  },
  {
   "cell_type": "code",
   "execution_count": 57,
   "metadata": {
    "scrolled": false
   },
   "outputs": [
    {
     "name": "stdout",
     "output_type": "stream",
     "text": [
      "Our sample: [57 42]\n",
      "Mean: 49.5\n"
     ]
    }
   ],
   "source": [
    "hide_me \n",
    "np.random.seed(6044) # magic! choose a random seed that gets values you want\n",
    "small_sample = np.random.choice(all_ages, 2)\n",
    "\n",
    "print(\"Our sample:\", small_sample)\n",
    "print(\"Mean:\", np.mean(small_sample))"
   ]
  },
  {
   "cell_type": "code",
   "execution_count": 58,
   "metadata": {
    "scrolled": true
   },
   "outputs": [],
   "source": [
    "hide_me \n",
    "# We'll be doing a lot of plotting and sampling, so we'll define some functions to help us.\n",
    "def sample_ages(n, r = 1):\n",
    "    \"\"\"Take a random sample of size n from the array of student ages.\"\"\"\n",
    "    np.random.seed(r) # allow for different samples when iterating many times\n",
    "    return np.random.choice(all_ages, n)\n",
    "\n",
    "def plot_ages(sample):\n",
    "    \"\"\"Creates a histogram of the values in the sample.\"\"\"\n",
    "    plt.hist(sample, 65, range=[17, 65])\n",
    "    plt.axvline(np.mean(sample), c='red')\n",
    "    plt.title('Distribution of Ages for ' + str(len(sample)) + ' Students')\n",
    "    plt.xlabel('Age')\n",
    "    plt.ylabel('Frequency');\n",
    "    \n",
    "def plot_two_sample_means_ages(sample_1, sample_2):\n",
    "    \"\"\"Creates a histogram of the means of the given two samples.\"\"\"\n",
    "    plt.hist([np.mean(sample_1), np.mean(sample_2)], 30, range=[18, 22])\n",
    "    plt.title('Distribution of Sample Means for 2 Samples')\n",
    "    plt.xlabel('Age')\n",
    "    plt.ylabel('Frequency');\n",
    "\n",
    "def plot_many_sample_means_ages(n):\n",
    "    \"\"\"Creates n samples, where each sample consists of a simulated population of students.\n",
    "    Plots the distribution of the sample means for the n samples.\"\"\"\n",
    "    sample_means = np.array([])\n",
    "    for i in range(n):\n",
    "        np.random.seed(i)\n",
    "        sample = np.random.choice(all_ages, n)\n",
    "        sample_means = np.append(sample_means, np.mean(sample))\n",
    "        \n",
    "    plt.hist(sample_means, 50, range=[19, 22])\n",
    "#     plt.axvline(x=np.mean(sample_means), c='red') # a line for the mean of all the means\n",
    "    plt.title('Distribution of Sample Means for ' + str(n) + ' samples')\n",
    "    plt.xlabel('Sample Mean')\n",
    "    plt.ylabel('Frequency');"
   ]
  },
  {
   "cell_type": "markdown",
   "metadata": {},
   "source": [
    "Below we take a look at the distribution of our small sample, with a red line for the sample mean."
   ]
  },
  {
   "cell_type": "code",
   "execution_count": 59,
   "metadata": {
    "scrolled": false
   },
   "outputs": [
    {
     "data": {
      "image/png": "[encoded data removed]",
      "text/plain": [
       "<Figure size 432x288 with 1 Axes>"
      ]
     },
     "metadata": {
      "needs_background": "light"
     },
     "output_type": "display_data"
    }
   ],
   "source": [
    "hide_me \n",
    "plot_ages(small_sample)"
   ]
  },
  {
   "cell_type": "markdown",
   "metadata": {},
   "source": [
    "Let's create a larger sample so that we can see how the distribution and mean changes. We'll simulate choosing a sample of 500 students."
   ]
  },
  {
   "cell_type": "code",
   "execution_count": 60,
   "metadata": {
    "scrolled": true
   },
   "outputs": [
    {
     "name": "stdout",
     "output_type": "stream",
     "text": [
      "Large sample of 500 students\n",
      "Mean: 20.786\n"
     ]
    }
   ],
   "source": [
    "hide_me \n",
    "np.random.seed(6044) # Choose a random seed for consistency\n",
    "large_sample = np.random.choice(all_ages, 500)\n",
    "print(\"Large sample of 500 students\")\n",
    "print(\"Mean:\", np.mean(large_sample))"
   ]
  },
  {
   "cell_type": "markdown",
   "metadata": {},
   "source": [
    "As we can see, the calculated mean of our large sample appears much closer what we would expect for the average age of college students than the mean we got for our sample of 2 students. Let's visualize the distribution of our large sample. Again, the red line shows the sample mean for our large sample."
   ]
  },
  {
   "cell_type": "code",
   "execution_count": 61,
   "metadata": {
    "scrolled": true
   },
   "outputs": [
    {
     "data": {
      "image/png": "[encoded data removed]",
      "text/plain": [
       "<Figure size 432x288 with 1 Axes>"
      ]
     },
     "metadata": {
      "needs_background": "light"
     },
     "output_type": "display_data"
    }
   ],
   "source": [
    "hide_me \n",
    "plot_ages(large_sample)"
   ]
  },
  {
   "cell_type": "markdown",
   "metadata": {},
   "source": [
    "<div class=\"alert alert-info\">\n",
    "<b> Question:</b>  What do you notice about the overall distribution of the large sample versus the small sample? What effect did sample size have on the mean of the sample?\n",
    "</div>"
   ]
  },
  {
   "cell_type": "markdown",
   "metadata": {},
   "source": [
    "*Double click this cell to begin typing your answer*"
   ]
  },
  {
   "cell_type": "markdown",
   "metadata": {},
   "source": [
    "# Central Limit Theorem <a id='3'></a>\n",
    "The central limit theorem tells us that the distribution of sample means approximates a normal distribution as the sample size (n) increases. Let's unpack what that means. \n",
    "\n",
    "Suppose we have a population, and we take many many large random samples (statisticians usually say large is n>30, but this can vary). The CLT says that if we take the sample mean of the first sample, the sample mean of the second sample, and so on for every sample, then plot the distribution of all of the means, the resulting distribution should look like a normal distribution. Sometimes the mean will be high, sometimes the sample mean will be low, and a majority of the time the mean will be somewhat close to the population mean. This is why we say that the distribution of sample means approximates a normal distribution that is centered around the population mean. Recall that oftentimes we don't know the true value of the population mean - this is why having sample means centered around a value is useful!\n",
    "\n",
    "We will head back to our student ages example to visualize the Central Limit Theorem in action. \n",
    "\n",
    "Below, we create two different samples of size 50. This satisfies the requirement that our samples must be large. We will then compare the sample means of the two samples."
   ]
  },
  {
   "cell_type": "code",
   "execution_count": 62,
   "metadata": {
    "scrolled": true
   },
   "outputs": [
    {
     "name": "stdout",
     "output_type": "stream",
     "text": [
      "Mean of Sample 1:  20.56\n",
      "Mean of Sample 2:  19.96\n"
     ]
    }
   ],
   "source": [
    "hide_me \n",
    "sample_1 = sample_ages(50)\n",
    "sample_2 = sample_ages(50, r=19) # the extra argument ensures the 2nd sample is different from the first\n",
    "print(\"Mean of Sample 1: \", np.mean(sample_1))\n",
    "print(\"Mean of Sample 2: \", np.mean(sample_2))"
   ]
  },
  {
   "cell_type": "markdown",
   "metadata": {},
   "source": [
    "Let's take a look at a plot of the sample means."
   ]
  },
  {
   "cell_type": "code",
   "execution_count": 63,
   "metadata": {
    "scrolled": true
   },
   "outputs": [
    {
     "data": {
      "image/png": "[encoded data removed]",
      "text/plain": [
       "<Figure size 432x288 with 1 Axes>"
      ]
     },
     "metadata": {
      "needs_background": "light"
     },
     "output_type": "display_data"
    }
   ],
   "source": [
    "hide_me \n",
    "plot_two_sample_means_ages(sample_1, sample_2)"
   ]
  },
  {
   "cell_type": "markdown",
   "metadata": {},
   "source": [
    "<div class=\"alert alert-info\">\n",
    "<b> Question:</b>  What do you notice about the distribution of the two sample means?\n",
    "</div>"
   ]
  },
  {
   "cell_type": "markdown",
   "metadata": {},
   "source": [
    "*Double click this cell to begin typing your answer*"
   ]
  },
  {
   "cell_type": "markdown",
   "metadata": {},
   "source": [
    "Let's see what happens when we use 30 samples instead."
   ]
  },
  {
   "cell_type": "code",
   "execution_count": 64,
   "metadata": {
    "scrolled": true
   },
   "outputs": [
    {
     "data": {
      "image/png": "[encoded data removed]",
      "text/plain": [
       "<Figure size 432x288 with 1 Axes>"
      ]
     },
     "metadata": {
      "needs_background": "light"
     },
     "output_type": "display_data"
    }
   ],
   "source": [
    "hide_me \n",
    "plot_many_sample_means_ages(30)"
   ]
  },
  {
   "cell_type": "markdown",
   "metadata": {},
   "source": [
    "We can see that we are getting closer to something resembling a normal distribution. Let's go up one more time to running our method with 500 samples."
   ]
  },
  {
   "cell_type": "code",
   "execution_count": 65,
   "metadata": {
    "scrolled": true
   },
   "outputs": [
    {
     "data": {
      "image/png": "[encoded data removed]",
      "text/plain": [
       "<Figure size 432x288 with 1 Axes>"
      ]
     },
     "metadata": {
      "needs_background": "light"
     },
     "output_type": "display_data"
    }
   ],
   "source": [
    "hide_me \n",
    "plot_many_sample_means_ages(500)"
   ]
  },
  {
   "cell_type": "markdown",
   "metadata": {},
   "source": [
    "<div class=\"alert alert-info\">\n",
    "<b> Question:</b>  What do you notice about the histogram for 500 sample means compared to the histogram for 30 sample means? What can you say about the standard deviation of the distribution of 500 sample means compared to the standard deviation of the distribution with 30 sample means?\n",
    "</div>"
   ]
  },
  {
   "cell_type": "markdown",
   "metadata": {},
   "source": [
    "*Double click this cell to begin typing your answer*"
   ]
  },
  {
   "cell_type": "markdown",
   "metadata": {},
   "source": [
    "Below, we have a widget which allows you to adjust the number of samples you are taking. Try adjusting the slider and notice how the histogram changes!\n",
    "\n",
    "<div class=\"alert alert-warning\">\n",
    "Make sure to run the cell below to use the interactive widget.\n",
    "</div>"
   ]
  },
  {
   "cell_type": "code",
   "execution_count": 66,
   "metadata": {
    "scrolled": true
   },
   "outputs": [
    {
     "data": {
      "application/vnd.jupyter.widget-view+json": {
       "model_id": "7de1babb6503491b827fc87721ce2ccf",
       "version_major": 2,
       "version_minor": 0
      },
      "text/plain": [
       "interactive(children=(IntSlider(value=500, description='n', max=1500, step=50), Output()), _dom_classes=('widg…"
      ]
     },
     "metadata": {},
     "output_type": "display_data"
    }
   ],
   "source": [
    "hide_me \n",
    "interact(plot_many_sample_means_ages, n=widgets.IntSlider(min=0, max=1500, step=50, value=500));"
   ]
  },
  {
   "cell_type": "markdown",
   "metadata": {},
   "source": [
    "# A Note on Normal Distributions\n",
    "\n",
    "You may be wondering why it's significant that as we increase the number of samples we take, the distribution of sample means approches a normal distribution. A normal distribution has several special properties, as illustrated by the image below.\n",
    "\n",
    "\n",
    "<img src=\"normal-curve.JPG\" width=\"500\"/>\n",
    "\n",
    "<center> <b>Figure 1</b>. Normal Distribution. <a href = https://www.syncfusion.com/ebooks/statistics/normal-distribution> [Source]</a>\n",
    "\n",
    "Normal distributions have the property that approximately 68% of values lie within 1 standard deviation (represented as $\\sigma$) of the mean (represented as $\\mu$), approximately 95% of values are within 2 standard deviations, and 99.7% of values lie within 3 standard deviations of the mean.\n",
    "\n",
    "Knowing this about normal distributions, and having a distribution of sample means that approximate a normal distribution, we are able to come to conclusions with a certain amount of confidence about what we think the population parameter is. This brings us to confidence intervals, which we discuss next. "
   ]
  },
  {
   "cell_type": "markdown",
   "metadata": {},
   "source": [
    "# Confidence Intervals<a id='4'></a>\n",
    "\n",
    "Using what we know about normal distributions, we can come up with confidence intervals. A **confidence interval** is an interval based on the sample statistic, which we are confident that the true population parameter falls into. For each confidence interval, we also have a **confidence level**. The confidence level tells us how confident we are that the population parameter is actually within our confidence interval.\n",
    "\n",
    "Heading back to our student ages example, if we want to be very confident that the population parameter falls within our confidence interval, we are going to have to make our confidence interval wide. The wider our confidence interval is, the more confident we are. Think about it like this - if the youngest student is 15 and the oldest student is 68 and we want to be 100% confident that the true average age is within our interval, we can set our interval as [15, 68]. This interval contains all possible values, so the average age of everyone in the population must be within the interval. While this lets us be confident in our answer, it doesn't really let us draw any conclusions. When our confidence level is lower, our interval will be narrower. If we are only 60% sure that the true mean is within our confidence interval, our interval may look something like $[20.87, 21.03]$.\n",
    "\n",
    "### Calculating Confidence Intervals\n",
    "\n",
    "Recall that we said a normal distribution contains approximately 95% of values within 2 standard deviations of the mean. Using this, we can create a 95% confidence interval by taking the average of the sample means, calculating the standard deviation of the sample means, and using those values to figure out the values 2SD below the mean and 2SD above the mean. Thus, our 95% confidence interval would be [$\\mu - 2\\sigma$, $\\mu + 2\\sigma$] ($\\mu$ is the mean and $\\sigma$ is the standard deviation).\n",
    "\n",
    "What happens when we are using a real life dataset and have a large target population, such as all the entire US population? It's very hard to get 500 large samples of real live people, especially when these large samples should have at least 30 people each. That's at least 1500 people, which would take a lot of time and resources to survey! There are two ways to solve this problem. One is to estimate the standard deviation of the distribution of sample means from the one sample we have based on the standard deviation of the cases in that one sample, using a formula and some assumptions (if you have taken an introductory statistics course before, this is probably what you learned). The other option, which we can do these days due to advances in computing power, is something called **resampling** which we will explore in the section below."
   ]
  },
  {
   "cell_type": "markdown",
   "metadata": {},
   "source": [
    "## Confidence Intervals via Resampling<a id='s1'></a>\n",
    "\n",
    "Recall that in the last two notebooks we worked with the GSS data. In this case, we only have one sample of individuals per year! So how can we create a confidence interval when we only have 1 sample?\n",
    "\n",
    "We do this through a technique called **resampling**. Resampling is when we use our sample to generate more samples, so that we can calculate things like confidence intervals. The process of resampling involves taking a random sample from our current sample, with replacement. Sampling with replacement means that after we sample a case, we put it back in the pool again so that it could be sampled again (and again). (In contrast, sampling *without* replacement means each case can be sampled only once). Taking a sample *with* replacement is necessary, since when we resample we use the same sample size of the original sample. If we sampled *without* replacement we would always just end up with the original sample every time we sampled from it.  \n",
    "\n",
    "As an example, suppose we have a sample of 30 Americans who took our survey. We want to create multiple samples from our 30 respondents, so we decide to resample. For consistency, all of our resamples should be the **same** size as the original sample. However, what happens if we take a sample of 30 from our 30 respondents, without replacement? We end up with the same group of individuals! They may be sampled in a different order, but when we are calculating statistics the order doesn't matter. For this reason, we **sample with replacement**. Yes, that means that some people from our original sample will show up multiple times in our resample, but our hope is that this is representative of the whole population (where it's possible multiple people can give the same answers)."
   ]
  },
  {
   "cell_type": "markdown",
   "metadata": {},
   "source": [
    "<div class=\"alert alert-info\">\n",
    "<b> Question:</b>  Why do we sample with replacement when generating resamples?\n",
    "</div>"
   ]
  },
  {
   "cell_type": "markdown",
   "metadata": {},
   "source": [
    "*Double click this cell to begin typing your answer*"
   ]
  },
  {
   "cell_type": "markdown",
   "metadata": {},
   "source": [
    "Let's take a look at the GSS data and see how we can generate a confidence interval via resampling. For simplicity, we'll focus on the data from 2018. Below the first 5 rows of the data are displayed."
   ]
  },
  {
   "cell_type": "code",
   "execution_count": 67,
   "metadata": {
    "scrolled": true
   },
   "outputs": [
    {
     "data": {
      "text/html": [
       "<div>\n",
       "<style scoped>\n",
       "    .dataframe tbody tr th:only-of-type {\n",
       "        vertical-align: middle;\n",
       "    }\n",
       "\n",
       "    .dataframe tbody tr th {\n",
       "        vertical-align: top;\n",
       "    }\n",
       "\n",
       "    .dataframe thead th {\n",
       "        text-align: right;\n",
       "    }\n",
       "</style>\n",
       "<table border=\"1\" class=\"dataframe\">\n",
       "  <thead>\n",
       "    <tr style=\"text-align: right;\">\n",
       "      <th></th>\n",
       "      <th>Unnamed: 0</th>\n",
       "      <th>YEAR</th>\n",
       "      <th>REALINC ($)</th>\n",
       "      <th>TVHOURS</th>\n",
       "      <th>POLHITOK</th>\n",
       "      <th>CLASS</th>\n",
       "      <th>HAPPY</th>\n",
       "      <th>VISIONS</th>\n",
       "      <th>ESP</th>\n",
       "      <th>DEJAVU</th>\n",
       "      <th>REGION</th>\n",
       "      <th>RACE</th>\n",
       "      <th>DEGREE</th>\n",
       "      <th>EDUC</th>\n",
       "      <th>CHILDS</th>\n",
       "      <th>SIBS</th>\n",
       "      <th>HRS1</th>\n",
       "      <th>REALRINC</th>\n",
       "    </tr>\n",
       "  </thead>\n",
       "  <tbody>\n",
       "    <tr>\n",
       "      <th>62466</th>\n",
       "      <td>62466</td>\n",
       "      <td>2018</td>\n",
       "      <td>0.0000</td>\n",
       "      <td>3.0</td>\n",
       "      <td>Not applicable</td>\n",
       "      <td>Working class</td>\n",
       "      <td>Pretty happy</td>\n",
       "      <td>Not applicable</td>\n",
       "      <td>Not applicable</td>\n",
       "      <td>Not applicable</td>\n",
       "      <td>New england</td>\n",
       "      <td>White</td>\n",
       "      <td>Junior college</td>\n",
       "      <td>14.0</td>\n",
       "      <td>0.0</td>\n",
       "      <td>4.0</td>\n",
       "      <td>NaN</td>\n",
       "      <td>0.0</td>\n",
       "    </tr>\n",
       "    <tr>\n",
       "      <th>62467</th>\n",
       "      <td>62467</td>\n",
       "      <td>2018</td>\n",
       "      <td>14755.0000</td>\n",
       "      <td>NaN</td>\n",
       "      <td>No</td>\n",
       "      <td>Working class</td>\n",
       "      <td>Very happy</td>\n",
       "      <td>Not applicable</td>\n",
       "      <td>Not applicable</td>\n",
       "      <td>Not applicable</td>\n",
       "      <td>New england</td>\n",
       "      <td>White</td>\n",
       "      <td>High school</td>\n",
       "      <td>10.0</td>\n",
       "      <td>3.0</td>\n",
       "      <td>4.0</td>\n",
       "      <td>NaN</td>\n",
       "      <td>0.0</td>\n",
       "    </tr>\n",
       "    <tr>\n",
       "      <th>62468</th>\n",
       "      <td>62468</td>\n",
       "      <td>2018</td>\n",
       "      <td>72640.0000</td>\n",
       "      <td>1.0</td>\n",
       "      <td>No</td>\n",
       "      <td>Middle class</td>\n",
       "      <td>Very happy</td>\n",
       "      <td>Not applicable</td>\n",
       "      <td>Not applicable</td>\n",
       "      <td>Not applicable</td>\n",
       "      <td>New england</td>\n",
       "      <td>White</td>\n",
       "      <td>Bachelor</td>\n",
       "      <td>16.0</td>\n",
       "      <td>2.0</td>\n",
       "      <td>2.0</td>\n",
       "      <td>40.0</td>\n",
       "      <td>45400.0</td>\n",
       "    </tr>\n",
       "    <tr>\n",
       "      <th>62469</th>\n",
       "      <td>62469</td>\n",
       "      <td>2018</td>\n",
       "      <td>119879.4173</td>\n",
       "      <td>1.0</td>\n",
       "      <td>Yes</td>\n",
       "      <td>Middle class</td>\n",
       "      <td>Very happy</td>\n",
       "      <td>Not applicable</td>\n",
       "      <td>Not applicable</td>\n",
       "      <td>Not applicable</td>\n",
       "      <td>New england</td>\n",
       "      <td>White</td>\n",
       "      <td>Bachelor</td>\n",
       "      <td>16.0</td>\n",
       "      <td>2.0</td>\n",
       "      <td>3.0</td>\n",
       "      <td>40.0</td>\n",
       "      <td>54480.0</td>\n",
       "    </tr>\n",
       "    <tr>\n",
       "      <th>62470</th>\n",
       "      <td>62470</td>\n",
       "      <td>2018</td>\n",
       "      <td>119879.4173</td>\n",
       "      <td>NaN</td>\n",
       "      <td>Yes</td>\n",
       "      <td>Upper class</td>\n",
       "      <td>Pretty happy</td>\n",
       "      <td>Not applicable</td>\n",
       "      <td>Not applicable</td>\n",
       "      <td>Not applicable</td>\n",
       "      <td>New england</td>\n",
       "      <td>Black</td>\n",
       "      <td>Graduate</td>\n",
       "      <td>18.0</td>\n",
       "      <td>0.0</td>\n",
       "      <td>3.0</td>\n",
       "      <td>NaN</td>\n",
       "      <td>0.0</td>\n",
       "    </tr>\n",
       "  </tbody>\n",
       "</table>\n",
       "</div>"
      ],
      "text/plain": [
       "       Unnamed: 0  YEAR  REALINC ($)  TVHOURS        POLHITOK          CLASS  \\\n",
       "62466       62466  2018       0.0000      3.0  Not applicable  Working class   \n",
       "62467       62467  2018   14755.0000      NaN              No  Working class   \n",
       "62468       62468  2018   72640.0000      1.0              No   Middle class   \n",
       "62469       62469  2018  119879.4173      1.0             Yes   Middle class   \n",
       "62470       62470  2018  119879.4173      NaN             Yes    Upper class   \n",
       "\n",
       "              HAPPY         VISIONS             ESP          DEJAVU  \\\n",
       "62466  Pretty happy  Not applicable  Not applicable  Not applicable   \n",
       "62467    Very happy  Not applicable  Not applicable  Not applicable   \n",
       "62468    Very happy  Not applicable  Not applicable  Not applicable   \n",
       "62469    Very happy  Not applicable  Not applicable  Not applicable   \n",
       "62470  Pretty happy  Not applicable  Not applicable  Not applicable   \n",
       "\n",
       "            REGION   RACE          DEGREE  EDUC  CHILDS  SIBS  HRS1  REALRINC  \n",
       "62466  New england  White  Junior college  14.0     0.0   4.0   NaN       0.0  \n",
       "62467  New england  White     High school  10.0     3.0   4.0   NaN       0.0  \n",
       "62468  New england  White        Bachelor  16.0     2.0   2.0  40.0   45400.0  \n",
       "62469  New england  White        Bachelor  16.0     2.0   3.0  40.0   54480.0  \n",
       "62470  New england  Black        Graduate  18.0     0.0   3.0   NaN       0.0  "
      ]
     },
     "execution_count": 67,
     "metadata": {},
     "output_type": "execute_result"
    }
   ],
   "source": [
    "hide_me \n",
    "gss = pd.read_csv('cleaned_data.csv')\n",
    "gss = gss[gss['YEAR'] == 2018]\n",
    "gss = gss.replace({-1:np.nan})\n",
    "gss.head()"
   ]
  },
  {
   "cell_type": "code",
   "execution_count": 68,
   "metadata": {
    "scrolled": true
   },
   "outputs": [
    {
     "name": "stdout",
     "output_type": "stream",
     "text": [
      "Average years of education:  13.73\n"
     ]
    }
   ],
   "source": [
    "hide_me \n",
    "avg_educ = np.round(np.mean(gss['EDUC']), 2)\n",
    "print(\"Average years of education: \", avg_educ)"
   ]
  },
  {
   "cell_type": "code",
   "execution_count": 69,
   "metadata": {
    "scrolled": true
   },
   "outputs": [
    {
     "name": "stdout",
     "output_type": "stream",
     "text": [
      "For 2018\n",
      "Sample Size: 2348\n",
      "Average Education (years): 13.73\n"
     ]
    }
   ],
   "source": [
    "hide_me \n",
    "# prevent hardcoding in markdown if values or data changes\n",
    "print(\"For 2018\")\n",
    "print(\"Sample Size:\", gss.shape[0])\n",
    "print(\"Average Education (years):\", avg_educ)"
   ]
  },
  {
   "cell_type": "markdown",
   "metadata": {},
   "source": [
    "In 2018, we had more than 2000 individuals complete the survey, with an average education of just under 14 years. This roughly corresponds to the fact that the average American in 2018 completed just under 2 years of higher education. However, this is just a sample statistic, and we are interested in what the true population parameter is - this is where resampling and confidence intervals come in. Let's create one resample and see how it differs from our original sample."
   ]
  },
  {
   "cell_type": "code",
   "execution_count": 70,
   "metadata": {
    "scrolled": true
   },
   "outputs": [
    {
     "name": "stdout",
     "output_type": "stream",
     "text": [
      "Mean of one resample:  13.88\n"
     ]
    }
   ],
   "source": [
    "hide_me \n",
    "np.random.seed(24)\n",
    "resample1 = np.random.choice(gss['EDUC'], 2348)\n",
    "print(\"Mean of one resample: \", np.round(np.nanmean(resample1),2))"
   ]
  },
  {
   "cell_type": "markdown",
   "metadata": {},
   "source": [
    "We can see that by taking 1 resample, we get an average education that is a little bit higher than our original calculation for average years of education.\n",
    "\n",
    "<div class=\"alert alert-info\">\n",
    "<b> Question:</b>  What do you think will happen to the distribution of sample means as we take more and more resamples?\n",
    "</div>"
   ]
  },
  {
   "cell_type": "markdown",
   "metadata": {},
   "source": [
    "*Double click this cell to begin typing your answer*"
   ]
  },
  {
   "cell_type": "markdown",
   "metadata": {},
   "source": [
    "Recall from the first lecture that in the GSS data we have the following numeric (interval or ratio) variables:\n",
    "\n",
    "|Variable   | Description |\n",
    "|--------------|---------|\n",
    "|REALINC ($) | Family income  |\n",
    "|TVHOURS | Hours per day watching TV |\n",
    "|EDUC |  Highest year of school completed|\n",
    "|CHILDS |  Number of children|\n",
    "|SIBS |  Number of brothers and sisters|\n",
    "|HRS1 | Number of hours worked last week|\n",
    "|REALRINC |  Respondent's income|\n",
    "\n",
    "The widget below lets you interact with the 2018 GSS data and a few of the numerical variables. Pay attention to how the confidence interval and the graph change as you switch between variables and sample sizes. The confidence interval is the middle 95 percent of sample means from the distribution of sample means created. It is calculated as described above, using the mean and standard deviation of the sample means. \n",
    "\n",
    "<div class=\"alert alert-warning\">\n",
    "Make sure to run the cell below to use the interactive widget.\n",
    "</div"
   ]
  },
  {
   "cell_type": "code",
   "execution_count": 71,
   "metadata": {
    "scrolled": true
   },
   "outputs": [],
   "source": [
    "hide_me \n",
    "def ci_95(data):\n",
    "    \"\"\"Generates a 95% confidence interval for the given data. Data should be an array.\"\"\"\n",
    "    n = len(data)\n",
    "    sd = np.nanstd(data)\n",
    "    m = np.nanmean(data)\n",
    "    return (np.round(m - 2*sd, 2), np.round(m + 2*sd, 2))"
   ]
  },
  {
   "cell_type": "code",
   "execution_count": 72,
   "metadata": {
    "scrolled": true
   },
   "outputs": [],
   "source": [
    "hide_me \n",
    "def gss_plot_resample_means(n, column):\n",
    "    \"\"\"Creates n resamples from the given column of the GSS data. \n",
    "        n: int, number of resamples\n",
    "        column: str, column name for GSS variable to explore\"\"\"\n",
    "    resample_means = np.array([])\n",
    "    for i in range(n):\n",
    "        np.random.seed(i)\n",
    "        sample = np.random.choice(gss[column], len(gss[column]))\n",
    "        resample_means = np.append(resample_means, np.nanmean(sample))\n",
    "    sns.distplot(resample_means, bins=30)\n",
    "    plt.axvline(x = np.nanmean(gss[column]), c='red')\n",
    "    plt.xlabel('Sample Means')\n",
    "    plt.ylabel('Frequency')\n",
    "    plt.title('Distribution of Sample Means for 2018 ' + column + ', ' + str(n) + ' resamples')\n",
    "    ci = ci_95(resample_means)\n",
    "    print('95% Confidence Interval: ', ci)"
   ]
  },
  {
   "cell_type": "code",
   "execution_count": 73,
   "metadata": {
    "scrolled": true
   },
   "outputs": [
    {
     "data": {
      "application/vnd.jupyter.widget-view+json": {
       "model_id": "477b85538867434798e7959a18d3de60",
       "version_major": 2,
       "version_minor": 0
      },
      "text/plain": [
       "interactive(children=(IntSlider(value=500, description='n', max=1500, step=50), ToggleButtons(description='col…"
      ]
     },
     "metadata": {},
     "output_type": "display_data"
    }
   ],
   "source": [
    "hide_me \n",
    "warnings.filterwarnings('ignore') # this is to hide a warning that an argument name is deprecated\n",
    "variable_buttons = widgets.ToggleButtons(options=[\"REALINC ($)\", \"TVHOURS\", \"EDUC\", \n",
    "                                                  \"CHILDS\", \"SIBS\", \"HRS1\", \"REALRINC\"],\n",
    "                         value=\"EDUC\")\n",
    "interact(gss_plot_resample_means, n=widgets.IntSlider(min=0, max=1500, step=50, value=500),\n",
    "         column = variable_buttons);"
   ]
  },
  {
   "cell_type": "markdown",
   "metadata": {},
   "source": [
    "<div class=\"alert alert-info\">\n",
    "<b> Question:</b>  How does the size of the confidence interval change as you increase or decrease the sample size for a particular variable?\n",
    "</div>"
   ]
  },
  {
   "cell_type": "markdown",
   "metadata": {},
   "source": [
    "*Double click this cell to begin typing your answer*"
   ]
  },
  {
   "cell_type": "markdown",
   "metadata": {},
   "source": [
    "## Confidence Intervals with Regression Coefficient<a id='s2'></a>\n",
    "Confidence intervals are a useful tool to see how one statistic may change over multiple samples. However, what if we want to look at the relationship between two variables? How can we use the power of confidence intervals in this scenario?\n",
    "\n",
    "Recall from Lecture 17 that a **regression line** shows us the relationship between two variables, and we can draw conclusions on this relationship based on the sign and magnitude of the slope of the regression line. Recall also that the slope is the number of units that the dependent variable (Y) changes when the independent variable (X) changes by 1 unit. In the widget below, we will look at an example in which Y is family income (REALINC) and X is years of education (EDUC). The slope in that example tells us the change in family income (in dollars) associated with one additional year of education.  \n",
    "\n",
    "We can also create a confidence interval for the slope, so we can get a sense of how much sampling error there might be in our one estimate of the slope. \n",
    "\n",
    "Let's take a look at an example from the GSS. Pretend that we consider the GSS data our \"population\" (in reality, the GSS data is a sample of the true population - all adults in America). Taking several samples from our population of GSS respondents will allow us to see how the regression line changes with different samples. We have 2,348 respondents in our population, so we will create many samples of size 100. **Remember that this is different than resampling** - in resampling, we'd be taking samples that also have 2,348 individuals - we'll talk about this shortly.\n",
    "\n",
    "Below, there is a widget that allows you to see how the regression line changes with multiple samples. Play with it and see if you can build some intuition about how it may change across many resamples of the same population.\n",
    "\n",
    "<div class=\"alert alert-warning\">\n",
    "Make sure to run the cells below to use the interactive widget.\n",
    "</div"
   ]
  },
  {
   "cell_type": "code",
   "execution_count": 74,
   "metadata": {
    "scrolled": true
   },
   "outputs": [],
   "source": [
    "hide_me \n",
    "def gss_sample(num, rand):\n",
    "    \"\"\"Create num resamples from the GSS dataset.\"\"\"\n",
    "    sample = gss.sample(n = num, replace = True, random_state = rand)\n",
    "    return sample"
   ]
  },
  {
   "cell_type": "code",
   "execution_count": 75,
   "metadata": {
    "scrolled": true
   },
   "outputs": [],
   "source": [
    "hide_me \n",
    "def gss_plot_samples_regression(num_samples, x_col, y_col, sample_size):\n",
    "    \"\"\"Generate a regression line for each of num_samples samples, and plot the lines and points of each sample.\n",
    "        Additionally display the confidence interval for the slope of the regression line.\"\"\"\n",
    "    slopes = np.array([])\n",
    "    for i in range(num_samples):\n",
    "        sample = gss_sample(sample_size, i)\n",
    "        slope, intercept, r, p, se = stats.linregress(sample[x_col],sample[y_col])\n",
    "        slopes = np.append(slopes, slope)\n",
    "        line = [slope*x + intercept for x in sample[x_col]]\n",
    "        plt.scatter(x = sample[x_col], y = sample[y_col], s = 2)\n",
    "        plt.plot(sample[x_col], line)\n",
    "        plt.xlabel(x_col)\n",
    "        plt.ylabel(y_col)\n",
    "    plt.title(x_col + ' by ' + y_col + ' over ' + str(num_samples) + ' resamples, samples of size ' + str(sample_size))\n",
    "    ci_slopes = ci_95(slopes)\n",
    "    print('95% Confidence Interval for Slope: ', ci_slopes)"
   ]
  },
  {
   "cell_type": "code",
   "execution_count": 76,
   "metadata": {
    "scrolled": true
   },
   "outputs": [
    {
     "data": {
      "application/vnd.jupyter.widget-view+json": {
       "model_id": "74691a91bedd417f8fe5eb214cdaed2c",
       "version_major": 2,
       "version_minor": 0
      },
      "text/plain": [
       "interactive(children=(IntSlider(value=3, description='num_samples', max=10), IntSlider(value=100, description=…"
      ]
     },
     "metadata": {},
     "output_type": "display_data"
    }
   ],
   "source": [
    "hide_me \n",
    "interact(gss_plot_samples_regression, sample_size =widgets.IntSlider(min=0, max=350, step=50, value=100),\n",
    "         num_samples=widgets.IntSlider(min=0, max=10, step=1, value=3),\n",
    "         x_col = fixed('EDUC'), y_col = fixed('REALINC ($)'));"
   ]
  },
  {
   "cell_type": "markdown",
   "metadata": {},
   "source": [
    "<div class=\"alert alert-info\">\n",
    "<b> Question:</b>  What happens to the relationship between EDUC and REALINC ($) as you increase the number of samples you are taking? What happens when you increase the sample size of each of the samples?\n",
    "</div>"
   ]
  },
  {
   "cell_type": "markdown",
   "metadata": {},
   "source": [
    "*Double click this cell to begin typing your answer*"
   ]
  },
  {
   "cell_type": "markdown",
   "metadata": {},
   "source": [
    "## Statistical Testing via Confidence Intervals <a id='s3'></a>\n",
    "\n",
    "In many of the examples above when you set the widget to display the relationship between different variables, you can see a generally positive or negative slope. Before, we created a confidence interval for sample means, so that we could gain confidence in the true average of the population. Now, we are interested in the true relationships between different variables in our dataset. With the same resampling methodology as before, we can create a confidence interval for the slope of the line for the relationship between two variables.\n",
    "\n",
    "However, if we create a confidence interval that tells us our slope is between [-1, 3], does this really let us draw any conclusions? We are saying that we're confident that the slope is *either* positive or negative. So which is it? We don't know!\n",
    "\n",
    "When we do a statistical test based on a confidence interval, we must be wary of our confidence interval containing the value 0. For example, if we are looking at the relationship between years of education and family income, and our confidence interval for the slope of the regression line includes 0, then we can't draw any conclusions on the true relationship. The data are consistent with a true population slope that is negative, zero, or positive. "
   ]
  },
  {
   "cell_type": "markdown",
   "metadata": {},
   "source": [
    "<div class=\"alert alert-info\">\n",
    "<b> Question:</b>  What conclusions can we draw when our confidence interval for the slope of a regression line includes 0?\n",
    "</div>"
   ]
  },
  {
   "cell_type": "markdown",
   "metadata": {},
   "source": [
    "*Double click this cell to begin typing your answer*"
   ]
  },
  {
   "cell_type": "markdown",
   "metadata": {},
   "source": [
    "As we saw before, we can create confidence intervals for metrics such as mean or slope for the relationship between two variables. This leads us into statistical testing, where we can create a null hypothesis and an alternative hypothesis and use our confidence interval to decide whether our findings are *statistically* significant! Below we have again the widget which shows the confidence interval for the slope for years of education (X) and number of children (Y). (This widget only works correctly for sample sizes of 50 and 100, even though it is possible to set the sample size to other values.)\n",
    "\n",
    "\n",
    "<div class=\"alert alert-warning\">\n",
    "Make sure to run the cells below to use the interactive widget.\n",
    "</div"
   ]
  },
  {
   "cell_type": "code",
   "execution_count": 77,
   "metadata": {
    "scrolled": true
   },
   "outputs": [
    {
     "data": {
      "application/vnd.jupyter.widget-view+json": {
       "model_id": "a16874a0b8fc4f37a79cdd42b5148c81",
       "version_major": 2,
       "version_minor": 0
      },
      "text/plain": [
       "interactive(children=(IntSlider(value=3, description='num_samples', max=15), IntSlider(value=100, description=…"
      ]
     },
     "metadata": {},
     "output_type": "display_data"
    }
   ],
   "source": [
    "hide_me \n",
    "interact(gss_plot_samples_regression, sample_size =widgets.IntSlider(min=0, max=250, step=50, value=100),\n",
    "         num_samples=widgets.IntSlider(min=0, max=15, step=1, value=3),\n",
    "         x_col = fixed('EDUC'), y_col = fixed('CHILDS'));"
   ]
  },
  {
   "cell_type": "markdown",
   "metadata": {},
   "source": [
    "Say that we create a null hypothesis that the true population parameter for the slope of the relationship between number of years of education and number of children is 0, meaning there is *no* association between years of education and number of children. Our alternative hypothesis states that the true population parameter for the slope of the education-children relationship is not 0 (i.e. there *is* a relationship). When we generate a 95% confidence interval, if 0 is in that interval, then we \"fail to reject\" the null hypothesis, meaning the data are consistent with the slope of 0 specified by the null hypothesis. If 0 is not in the interval, then we'll \"reject\" the null hypothesis and can conclude that the slope is something other than zero."
   ]
  },
  {
   "cell_type": "markdown",
   "metadata": {},
   "source": [
    "<div class=\"alert alert-info\">\n",
    "<b> Question:</b>  Based on the confidence interval provided by the widget above, do we reject or fail to reject the null hypothesis? What does that mean? Does your answer depend on whether you have chosen a sample size of 50 or 100? Why?\n",
    "</div>"
   ]
  },
  {
   "cell_type": "markdown",
   "metadata": {},
   "source": [
    "*Double click this cell to begin typing your answer*"
   ]
  },
  {
   "cell_type": "markdown",
   "metadata": {},
   "source": [
    "## Conclusion"
   ]
  },
  {
   "cell_type": "markdown",
   "metadata": {},
   "source": [
    "<div class=\"alert alert-warning\">\n",
    "\n",
    "That's it! Hopefully you were able to gain an intution of how confidence intervals and resampling work, without being overwhelmed by a bunch of statistical jargon and code. Please take a moment to fill out the following feedback form so we know what to improve for future classes!\n",
    "\n",
    "[](https://docs.google.com/forms/d/e/1FAIpQLSfahkYSKqlEEfC6WMKlaqeIxRVj0r7T4N5lgBf9bRVwRG58wQ/viewform)\n",
    "</div>"
   ]
  },
  {
   "cell_type": "markdown",
   "metadata": {},
   "source": [
    "---\n",
    "\n",
    "## Bibliography"
   ]
  },
  {
   "cell_type": "markdown",
   "metadata": {},
   "source": [
    "- Syncfusion - Image of Normal Distributions. https://www.syncfusion.com/ebooks/statistics/normal-distribution\n",
    "- National Center for Education Statistics: Postsecondary Education Data System (IPEDS) - Age demographics of UC Berkeley students. https://nces.ed.gov/ipeds/use-the-data"
   ]
  },
  {
   "cell_type": "markdown",
   "metadata": {},
   "source": [
    "---\n",
    "Notebook developed by: Keilyn Yuzuki\n",
    "\n",
    "Notebook edited by: Karla Palos Castellanos\n",
    "\n",
    "Data Science Modules: http://data.berkeley.edu/education/modules\n"
   ]
  }
 ],
 "metadata": {
  "anaconda-cloud": {},
  "kernelspec": {
   "display_name": "Python 3",
   "language": "python",
   "name": "python3"
  },
  "language_info": {
   "codemirror_mode": {
    "name": "ipython",
    "version": 3
   },
   "file_extension": ".py",
   "mimetype": "text/x-python",
   "name": "python",
   "nbconvert_exporter": "python",
   "pygments_lexer": "ipython3",
   "version": "3.6.6"
  },
  "widgets": {
   "application/vnd.jupyter.widget-state+json": {
    "state": {
     "01d110b87d304db38b64bcbd834a3bf6": {
      "model_module": "@jupyter-widgets/controls",
      "model_module_version": "1.2.0",
      "model_name": "TextModel",
      "state": {
       "description": "column",
       "layout": "IPY_MODEL_b984b264493a441aa980aa9cf4dd2b58",
       "style": "IPY_MODEL_7d7e7301b1ef43f8a486517e44810347",
       "value": "CHILDS"
      }
     },
     "0391b23ea76b452aa9979d10f6658485": {
      "model_module": "@jupyter-widgets/controls",
      "model_module_version": "1.2.0",
      "model_name": "ToggleButtonsStyleModel",
      "state": {
       "button_width": "",
       "description_width": ""
      }
     },
     "03975423ff684e8484b165d7ff3ff9b5": {
      "model_module": "@jupyter-widgets/base",
      "model_module_version": "1.0.0",
      "model_name": "LayoutModel",
      "state": {}
     },
     "052f8130a9cb40b1b8024c1c2ef9c244": {
      "model_module": "@jupyter-widgets/base",
      "model_module_version": "1.0.0",
      "model_name": "LayoutModel",
      "state": {}
     },
     "05b70fc5bbe14bf98c9d9e1c6c98eb7c": {
      "model_module": "@jupyter-widgets/base",
      "model_module_version": "1.0.0",
      "model_name": "LayoutModel",
      "state": {}
     },
     "08edffb02fc24766a7b2284a0b6d4f6b": {
      "model_module": "@jupyter-widgets/controls",
      "model_module_version": "1.2.0",
      "model_name": "ToggleButtonsStyleModel",
      "state": {
       "button_width": "",
       "description_width": ""
      }
     },
     "0923d8e8b80044c1ae6b54e00c77d7d5": {
      "model_module": "@jupyter-widgets/controls",
      "model_module_version": "1.2.0",
      "model_name": "ToggleButtonsStyleModel",
      "state": {
       "button_width": "",
       "description_width": ""
      }
     },
     "0bedf31790d94200910052fa297115ea": {
      "model_module": "@jupyter-widgets/base",
      "model_module_version": "1.0.0",
      "model_name": "LayoutModel",
      "state": {}
     },
     "102d77d9a42e45f793e7e84a012dccd6": {
      "model_module": "@jupyter-widgets/controls",
      "model_module_version": "1.2.0",
      "model_name": "VBoxModel",
      "state": {
       "_dom_classes": [
        "widget-interact"
       ],
       "children": [
        "IPY_MODEL_a7c1308e3e60405fba97a72ffe8274dd",
        "IPY_MODEL_af6eaed319554264a9c0b26c1364795d",
        "IPY_MODEL_a7db9332a13542a8b59a50e5143402a9"
       ],
       "layout": "IPY_MODEL_409ba1458b83415788349204ced38ce0"
      }
     },
     "12f8028c07a24e60b6e9735ae209c69d": {
      "model_module": "@jupyter-widgets/base",
      "model_module_version": "1.0.0",
      "model_name": "LayoutModel",
      "state": {}
     },
     "143bca58b63e42c1b123268e3dd6fc96": {
      "model_module": "@jupyter-widgets/controls",
      "model_module_version": "1.2.0",
      "model_name": "SliderStyleModel",
      "state": {
       "description_width": ""
      }
     },
     "14d035b05c884a9bab0a7c03405b76f5": {
      "model_module": "@jupyter-widgets/controls",
      "model_module_version": "1.2.0",
      "model_name": "SliderStyleModel",
      "state": {
       "description_width": ""
      }
     },
     "162b01d236d84acda0588bfdf0a9cbae": {
      "model_module": "@jupyter-widgets/controls",
      "model_module_version": "1.2.0",
      "model_name": "IntSliderModel",
      "state": {
       "description": "n",
       "layout": "IPY_MODEL_e89dcaa659254da8b80e64831640227c",
       "max": 1500,
       "step": 50,
       "style": "IPY_MODEL_193b724ea9f54c8d9c598b8bf821e166",
       "value": 500
      }
     },
     "193b724ea9f54c8d9c598b8bf821e166": {
      "model_module": "@jupyter-widgets/controls",
      "model_module_version": "1.2.0",
      "model_name": "SliderStyleModel",
      "state": {
       "description_width": ""
      }
     },
     "1952a9da3f8143d5bda81b3f606ec68a": {
      "model_module": "@jupyter-widgets/base",
      "model_module_version": "1.0.0",
      "model_name": "LayoutModel",
      "state": {}
     },
     "19576a762a4149e8ba642c1c19cf50bb": {
      "model_module": "@jupyter-widgets/controls",
      "model_module_version": "1.2.0",
      "model_name": "SliderStyleModel",
      "state": {
       "description_width": ""
      }
     },
     "1964ba90b4e1411ba9e7329fdebfc949": {
      "model_module": "@jupyter-widgets/base",
      "model_module_version": "1.0.0",
      "model_name": "LayoutModel",
      "state": {}
     },
     "1bf0425adab0448db8cee482a902d9a5": {
      "model_module": "@jupyter-widgets/controls",
      "model_module_version": "1.2.0",
      "model_name": "SliderStyleModel",
      "state": {
       "description_width": ""
      }
     },
     "1c227606217944b394c41de73b6467e6": {
      "model_module": "@jupyter-widgets/controls",
      "model_module_version": "1.2.0",
      "model_name": "IntSliderModel",
      "state": {
       "description": "n",
       "layout": "IPY_MODEL_d5ef99d3e4e04bb5ac972f5166af78ca",
       "max": 1500,
       "step": 50,
       "style": "IPY_MODEL_d69e9857e3f144fdb05be5878f5e8dea",
       "value": 1500
      }
     },
     "1cb645d117104c63bad2f8f993ffa33e": {
      "model_module": "@jupyter-widgets/controls",
      "model_module_version": "1.2.0",
      "model_name": "ToggleButtonsModel",
      "state": {
       "_options_labels": [
        "EDUC",
        "REALINC ($)",
        "CHILDS",
        "SIBS"
       ],
       "button_style": "",
       "description": "column",
       "icons": [],
       "index": 0,
       "layout": "IPY_MODEL_8b19edbd06d941548c92a33aa727750b",
       "style": "IPY_MODEL_db4f3637207143a3be1bb90b72a23fa4",
       "tooltips": []
      }
     },
     "21832cf3c434404baf818d56a938f38c": {
      "model_module": "@jupyter-widgets/controls",
      "model_module_version": "1.2.0",
      "model_name": "IntSliderModel",
      "state": {
       "description": "n",
       "layout": "IPY_MODEL_a7561551f03e41f2a901faa3aa4a8c2d",
       "max": 1500,
       "step": 50,
       "style": "IPY_MODEL_19576a762a4149e8ba642c1c19cf50bb",
       "value": 500
      }
     },
     "22a9316361194517a6eb00cac973f7da": {
      "model_module": "@jupyter-widgets/controls",
      "model_module_version": "1.2.0",
      "model_name": "ToggleButtonsModel",
      "state": {
       "_options_labels": [
        "REALINC ($)",
        "EDUC",
        "CHILDS",
        "SIBS"
       ],
       "button_style": "",
       "description": "column",
       "icons": [],
       "index": 1,
       "layout": "IPY_MODEL_fd13f2e0a03543cf8f6f8ff8ace32625",
       "style": "IPY_MODEL_0923d8e8b80044c1ae6b54e00c77d7d5",
       "tooltips": []
      }
     },
     "240c33c84323437eb96a60e27d71ae00": {
      "model_module": "@jupyter-widgets/controls",
      "model_module_version": "1.2.0",
      "model_name": "VBoxModel",
      "state": {
       "_dom_classes": [
        "widget-interact"
       ],
       "children": [
        "IPY_MODEL_faae9d034ec24677ace2d08d4304100e",
        "IPY_MODEL_01d110b87d304db38b64bcbd834a3bf6",
        "IPY_MODEL_ab28ae81dad74dae9fd5254aa0f4815c"
       ],
       "layout": "IPY_MODEL_c6cd415eda2a4d27b1f450900e5afd40"
      }
     },
     "24118128cd324e43907a6deab31be309": {
      "model_module": "@jupyter-widgets/controls",
      "model_module_version": "1.2.0",
      "model_name": "SliderStyleModel",
      "state": {
       "description_width": ""
      }
     },
     "2629657042c94d988e5ac564ded819d4": {
      "model_module": "@jupyter-widgets/output",
      "model_module_version": "1.0.0",
      "model_name": "OutputModel",
      "state": {
       "layout": "IPY_MODEL_6e2aade89c1747cb8a9ce25e0b84bbb1",
       "outputs": [
        {
         "name": "stdout",
         "output_type": "stream",
         "text": "95% Confidence Interval:  (13.59, 13.84)\n"
        },
        {
         "data": {
          "image/png": "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\n",
          "text/plain": "<Figure size 432x288 with 1 Axes>"
         },
         "metadata": {},
         "output_type": "display_data"
        }
       ]
      }
     },
     "277534fde19948f9bbdda6aec925b94b": {
      "model_module": "@jupyter-widgets/base",
      "model_module_version": "1.0.0",
      "model_name": "LayoutModel",
      "state": {}
     },
     "2a8bf9a7fc4440448f76597c5013a2c7": {
      "model_module": "@jupyter-widgets/controls",
      "model_module_version": "1.2.0",
      "model_name": "SliderStyleModel",
      "state": {
       "description_width": ""
      }
     },
     "2addf768c68b4dbc880459de830814dc": {
      "model_module": "@jupyter-widgets/controls",
      "model_module_version": "1.2.0",
      "model_name": "VBoxModel",
      "state": {
       "_dom_classes": [
        "widget-interact"
       ],
       "children": [
        "IPY_MODEL_7eb8c8dabf4d4e5fb6a47f017db4e12f",
        "IPY_MODEL_eecbf293f65947cebddd93c4375f4cf7"
       ],
       "layout": "IPY_MODEL_cc6246250fe4463e8fa68fc8a542f87c"
      }
     },
     "2c3bdc363be74693b781164665ae7f4d": {
      "model_module": "@jupyter-widgets/base",
      "model_module_version": "1.0.0",
      "model_name": "LayoutModel",
      "state": {}
     },
     "2c5a9e29ce704b6ca455f168d5fb24e6": {
      "model_module": "@jupyter-widgets/controls",
      "model_module_version": "1.2.0",
      "model_name": "SliderStyleModel",
      "state": {
       "description_width": ""
      }
     },
     "2db54b1f7d05487986564e0dd5fff9f8": {
      "model_module": "@jupyter-widgets/output",
      "model_module_version": "1.0.0",
      "model_name": "OutputModel",
      "state": {
       "layout": "IPY_MODEL_0bedf31790d94200910052fa297115ea",
       "outputs": [
        {
         "data": {
          "image/png": "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\n",
          "text/plain": "<Figure size 432x288 with 1 Axes>"
         },
         "metadata": {},
         "output_type": "display_data"
        }
       ]
      }
     },
     "2e799cbeaae649a8adde502c534f6c24": {
      "model_module": "@jupyter-widgets/output",
      "model_module_version": "1.0.0",
      "model_name": "OutputModel",
      "state": {
       "layout": "IPY_MODEL_6347f1be049e4ef28d813623473dbb3a",
       "outputs": [
        {
         "name": "stderr",
         "output_type": "stream",
         "text": "C:\\Users\\Keilyn\\Anaconda3\\lib\\site-packages\\matplotlib\\axes\\_axes.py:6462: UserWarning: The 'normed' kwarg is deprecated, and has been replaced by the 'density' kwarg.\n  warnings.warn(\"The 'normed' kwarg is deprecated, and has been \"\n"
        },
        {
         "data": {
          "image/png": "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\n",
          "text/plain": "<Figure size 432x288 with 1 Axes>"
         },
         "metadata": {},
         "output_type": "display_data"
        }
       ]
      }
     },
     "2eb78760e8f14674b6964f3d713dae7e": {
      "model_module": "@jupyter-widgets/controls",
      "model_module_version": "1.2.0",
      "model_name": "ToggleButtonsModel",
      "state": {
       "_options_labels": [
        "REALINC ($)",
        "TVHOURS",
        "EDUC",
        "CHILDS",
        "SIBS",
        "HRS1",
        "REALRINC"
       ],
       "button_style": "",
       "description": "column",
       "icons": [],
       "index": 2,
       "layout": "IPY_MODEL_a15625f86f41453182513ac081d8d3f1",
       "style": "IPY_MODEL_0391b23ea76b452aa9979d10f6658485",
       "tooltips": []
      }
     },
     "3208d46eb6d54bd08859ab5259e87d33": {
      "model_module": "@jupyter-widgets/controls",
      "model_module_version": "1.2.0",
      "model_name": "VBoxModel",
      "state": {
       "_dom_classes": [
        "widget-interact"
       ],
       "children": [
        "IPY_MODEL_ce4785d7ef2040eb98afa698cf440627",
        "IPY_MODEL_eb6a4426f5b1475199af34c1dc2d0d0d",
        "IPY_MODEL_2629657042c94d988e5ac564ded819d4"
       ],
       "layout": "IPY_MODEL_e3da352a41c6450e9ea620adad299c5b"
      }
     },
     "328f313e0e814a209923b48be1416a1e": {
      "model_module": "@jupyter-widgets/controls",
      "model_module_version": "1.2.0",
      "model_name": "ToggleButtonsStyleModel",
      "state": {
       "button_width": "",
       "description_width": ""
      }
     },
     "389e22727d694f0aa058473ad292f295": {
      "model_module": "@jupyter-widgets/base",
      "model_module_version": "1.0.0",
      "model_name": "LayoutModel",
      "state": {}
     },
     "391a78e7dbec43aa8d51332699ed1e80": {
      "model_module": "@jupyter-widgets/controls",
      "model_module_version": "1.2.0",
      "model_name": "IntSliderModel",
      "state": {
       "description": "n",
       "layout": "IPY_MODEL_8f72a8693c4447a4bece843e7666150e",
       "max": 1500,
       "step": 50,
       "style": "IPY_MODEL_7edca69048c04f02a0a4eb375aecc535",
       "value": 1200
      }
     },
     "39925ec7f65c430a92cbbabcbb63b1fe": {
      "model_module": "@jupyter-widgets/base",
      "model_module_version": "1.0.0",
      "model_name": "LayoutModel",
      "state": {}
     },
     "3bdb4bff7b7c41e58edb64282ea9732a": {
      "model_module": "@jupyter-widgets/controls",
      "model_module_version": "1.2.0",
      "model_name": "SliderStyleModel",
      "state": {
       "description_width": ""
      }
     },
     "3d1fb0aa301c431ca02de9f2b02d0c9d": {
      "model_module": "@jupyter-widgets/base",
      "model_module_version": "1.0.0",
      "model_name": "LayoutModel",
      "state": {}
     },
     "3de73e2d26db449aa0139f4788a822cf": {
      "model_module": "@jupyter-widgets/controls",
      "model_module_version": "1.2.0",
      "model_name": "VBoxModel",
      "state": {
       "_dom_classes": [
        "widget-interact"
       ],
       "children": [
        "IPY_MODEL_814c990db3e74497abcc2e2d714b52f7",
        "IPY_MODEL_9a2633398ab5475ebed811ba6eaf6f6e",
        "IPY_MODEL_a8d39950dfce467cbe058d3c51c225c8"
       ],
       "layout": "IPY_MODEL_e69b2fdfa2cf4c37a54427c61ba64c82"
      }
     },
     "409ba1458b83415788349204ced38ce0": {
      "model_module": "@jupyter-widgets/base",
      "model_module_version": "1.0.0",
      "model_name": "LayoutModel",
      "state": {}
     },
     "40f463d566784de59f7891f0b02c569b": {
      "model_module": "@jupyter-widgets/base",
      "model_module_version": "1.0.0",
      "model_name": "LayoutModel",
      "state": {}
     },
     "41d13f3f76ab4632a9fe34fd9bae62b2": {
      "model_module": "@jupyter-widgets/controls",
      "model_module_version": "1.2.0",
      "model_name": "DropdownModel",
      "state": {
       "_options_labels": [
        "REALINC ($)",
        "EDUC",
        "CHILDS",
        "SIBS"
       ],
       "description": "column",
       "index": 0,
       "layout": "IPY_MODEL_7a224761f0a54b458b1e27be82eb070a",
       "style": "IPY_MODEL_900a6fa6236447fda707331a256ddc93"
      }
     },
     "434ba5d4f2684b20956d7053ae2d3ec6": {
      "model_module": "@jupyter-widgets/controls",
      "model_module_version": "1.2.0",
      "model_name": "ToggleButtonsModel",
      "state": {
       "_options_labels": [
        "EDUC",
        "REALINC ($)",
        "CHILDS",
        "SIBS"
       ],
       "button_style": "",
       "description": "column",
       "icons": [],
       "index": 0,
       "layout": "IPY_MODEL_1964ba90b4e1411ba9e7329fdebfc949",
       "style": "IPY_MODEL_08edffb02fc24766a7b2284a0b6d4f6b",
       "tooltips": []
      }
     },
     "4463882f5f1c44658fbd914d8c0dae73": {
      "model_module": "@jupyter-widgets/base",
      "model_module_version": "1.0.0",
      "model_name": "LayoutModel",
      "state": {}
     },
     "4620d23716584bdf994228078ffb95be": {
      "model_module": "@jupyter-widgets/base",
      "model_module_version": "1.0.0",
      "model_name": "LayoutModel",
      "state": {}
     },
     "46b68baa6f8249afbe9c07054056d2d7": {
      "model_module": "@jupyter-widgets/controls",
      "model_module_version": "1.2.0",
      "model_name": "ToggleButtonsModel",
      "state": {
       "_options_labels": [
        "EDUC",
        "REALINC ($)",
        "CHILDS",
        "SIBS"
       ],
       "button_style": "",
       "description": "column",
       "icons": [],
       "index": 3,
       "layout": "IPY_MODEL_7cb1d25af87d4d96b23009100a10ef60",
       "style": "IPY_MODEL_c90f767783424b4ba354f1c7368d8437",
       "tooltips": []
      }
     },
     "4c4cd0767ac14412bf3580b2162814bd": {
      "model_module": "@jupyter-widgets/base",
      "model_module_version": "1.0.0",
      "model_name": "LayoutModel",
      "state": {}
     },
     "4daeb2c1c513430c91157c15b25b509c": {
      "model_module": "@jupyter-widgets/controls",
      "model_module_version": "1.2.0",
      "model_name": "ToggleButtonsStyleModel",
      "state": {
       "button_width": "",
       "description_width": ""
      }
     },
     "4e335cc9a3b4435ca68bfecae664d241": {
      "model_module": "@jupyter-widgets/base",
      "model_module_version": "1.0.0",
      "model_name": "LayoutModel",
      "state": {}
     },
     "4e41d28e253745df9dd0bee87ba08cb5": {
      "model_module": "@jupyter-widgets/controls",
      "model_module_version": "1.2.0",
      "model_name": "ToggleButtonsModel",
      "state": {
       "_options_labels": [
        "EDUC",
        "REALINC ($)",
        "CHILDS",
        "SIBS"
       ],
       "button_style": "",
       "description": "column",
       "icons": [],
       "index": 0,
       "layout": "IPY_MODEL_711707881d9746aa829d8a51f0a50763",
       "style": "IPY_MODEL_328f313e0e814a209923b48be1416a1e",
       "tooltips": []
      }
     },
     "4e489e17fa044dfd93e08292177194c4": {
      "model_module": "@jupyter-widgets/base",
      "model_module_version": "1.0.0",
      "model_name": "LayoutModel",
      "state": {}
     },
     "4faf6cfea14840e9942ded2895b06256": {
      "model_module": "@jupyter-widgets/base",
      "model_module_version": "1.0.0",
      "model_name": "LayoutModel",
      "state": {}
     },
     "57a34a9ecc51479bbefa62f3d96ee526": {
      "model_module": "@jupyter-widgets/base",
      "model_module_version": "1.0.0",
      "model_name": "LayoutModel",
      "state": {}
     },
     "57b2b892b91642cf844dc7f958a91704": {
      "model_module": "@jupyter-widgets/controls",
      "model_module_version": "1.2.0",
      "model_name": "IntSliderModel",
      "state": {
       "description": "n",
       "layout": "IPY_MODEL_e176d59f2c9a41af8e0309efa934713b",
       "max": 1500,
       "step": 50,
       "style": "IPY_MODEL_1bf0425adab0448db8cee482a902d9a5",
       "value": 500
      }
     },
     "58005fadfce84ba89fa06dcb834ffae2": {
      "model_module": "@jupyter-widgets/controls",
      "model_module_version": "1.2.0",
      "model_name": "SliderStyleModel",
      "state": {
       "description_width": ""
      }
     },
     "593503c7440b457989ad0e417b932f8d": {
      "model_module": "@jupyter-widgets/controls",
      "model_module_version": "1.2.0",
      "model_name": "IntSliderModel",
      "state": {
       "description": "n",
       "layout": "IPY_MODEL_05b70fc5bbe14bf98c9d9e1c6c98eb7c",
       "max": 1500,
       "step": 50,
       "style": "IPY_MODEL_97966fa5d889435582ef1e6dd87e8d47",
       "value": 500
      }
     },
     "5978f5948c6945c88becd9931fb42de5": {
      "model_module": "@jupyter-widgets/base",
      "model_module_version": "1.0.0",
      "model_name": "LayoutModel",
      "state": {}
     },
     "59a7a1bb4c424b61842912623eb8a11c": {
      "model_module": "@jupyter-widgets/output",
      "model_module_version": "1.0.0",
      "model_name": "OutputModel",
      "state": {
       "layout": "IPY_MODEL_d5c398fdbefb45f0b4481540b52a8624",
       "outputs": [
        {
         "name": "stdout",
         "output_type": "stream",
         "text": "95% Confidence Interval:  (13.58, 13.84)\n"
        },
        {
         "name": "stderr",
         "output_type": "stream",
         "text": "C:\\Users\\Keilyn\\Anaconda3\\lib\\site-packages\\matplotlib\\axes\\_axes.py:6462: UserWarning: The 'normed' kwarg is deprecated, and has been replaced by the 'density' kwarg.\n  warnings.warn(\"The 'normed' kwarg is deprecated, and has been \"\n"
        },
        {
         "data": {
          "image/png": "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\n",
          "text/plain": "<Figure size 432x288 with 1 Axes>"
         },
         "metadata": {},
         "output_type": "display_data"
        }
       ]
      }
     },
     "5a9a6c07bf784226bb8331fcc0665826": {
      "model_module": "@jupyter-widgets/base",
      "model_module_version": "1.0.0",
      "model_name": "LayoutModel",
      "state": {}
     },
     "5b18b76c32114f9daf47eb93003ccbf6": {
      "model_module": "@jupyter-widgets/controls",
      "model_module_version": "1.2.0",
      "model_name": "ToggleButtonsStyleModel",
      "state": {
       "button_width": "",
       "description_width": ""
      }
     },
     "5c019b9eac414a9592a824e7371df989": {
      "model_module": "@jupyter-widgets/controls",
      "model_module_version": "1.2.0",
      "model_name": "IntSliderModel",
      "state": {
       "description": "n",
       "layout": "IPY_MODEL_5978f5948c6945c88becd9931fb42de5",
       "max": 1500,
       "step": 50,
       "style": "IPY_MODEL_86fc54ef267c4707ae951bb192a39865",
       "value": 800
      }
     },
     "5dbde075ac2d49658e535072b8a91208": {
      "model_module": "@jupyter-widgets/base",
      "model_module_version": "1.0.0",
      "model_name": "LayoutModel",
      "state": {}
     },
     "618f6855af7f4b758349eccf49863f5a": {
      "model_module": "@jupyter-widgets/base",
      "model_module_version": "1.0.0",
      "model_name": "LayoutModel",
      "state": {}
     },
     "6347f1be049e4ef28d813623473dbb3a": {
      "model_module": "@jupyter-widgets/base",
      "model_module_version": "1.0.0",
      "model_name": "LayoutModel",
      "state": {}
     },
     "63cbdc1790734a3c9182a719ce79956d": {
      "model_module": "@jupyter-widgets/base",
      "model_module_version": "1.0.0",
      "model_name": "LayoutModel",
      "state": {}
     },
     "65febb3d21754e07afe66f4246ea8eb3": {
      "model_module": "@jupyter-widgets/base",
      "model_module_version": "1.0.0",
      "model_name": "LayoutModel",
      "state": {}
     },
     "660427fd4625463d888d872f881e9139": {
      "model_module": "@jupyter-widgets/controls",
      "model_module_version": "1.2.0",
      "model_name": "VBoxModel",
      "state": {
       "_dom_classes": [
        "widget-interact"
       ],
       "children": [
        "IPY_MODEL_ce65c1f382ec40ff8ea8adecf60548af",
        "IPY_MODEL_41d13f3f76ab4632a9fe34fd9bae62b2",
        "IPY_MODEL_bf4b9a83634d4757bd4a285bbd8d7b65"
       ],
       "layout": "IPY_MODEL_4620d23716584bdf994228078ffb95be"
      }
     },
     "682670d157dd4d508a4434b6dc9d9aa2": {
      "model_module": "@jupyter-widgets/output",
      "model_module_version": "1.0.0",
      "model_name": "OutputModel",
      "state": {
       "layout": "IPY_MODEL_39925ec7f65c430a92cbbabcbb63b1fe",
       "outputs": [
        {
         "data": {
          "image/png": "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\n",
          "text/plain": "<Figure size 432x288 with 1 Axes>"
         },
         "metadata": {},
         "output_type": "display_data"
        }
       ]
      }
     },
     "699a1f6db04d40e2b86b7ff28f1cdcfe": {
      "model_module": "@jupyter-widgets/controls",
      "model_module_version": "1.2.0",
      "model_name": "IntSliderModel",
      "state": {
       "description": "n",
       "layout": "IPY_MODEL_1952a9da3f8143d5bda81b3f606ec68a",
       "max": 1500,
       "step": 50,
       "style": "IPY_MODEL_143bca58b63e42c1b123268e3dd6fc96",
       "value": 500
      }
     },
     "6a76d07605874841b5f393ee08b257dc": {
      "model_module": "@jupyter-widgets/controls",
      "model_module_version": "1.2.0",
      "model_name": "ToggleButtonsStyleModel",
      "state": {
       "button_width": "",
       "description_width": ""
      }
     },
     "6b95d28540b349498a853a1d82843234": {
      "model_module": "@jupyter-widgets/controls",
      "model_module_version": "1.2.0",
      "model_name": "IntSliderModel",
      "state": {
       "description": "n",
       "layout": "IPY_MODEL_7d5acfffb54048a999d5c4f2f0618c48",
       "max": 1500,
       "step": 50,
       "style": "IPY_MODEL_14d035b05c884a9bab0a7c03405b76f5",
       "value": 1300
      }
     },
     "6bb4d4d280f9476d99caa423cba53a51": {
      "model_module": "@jupyter-widgets/base",
      "model_module_version": "1.0.0",
      "model_name": "LayoutModel",
      "state": {}
     },
     "6e2aade89c1747cb8a9ce25e0b84bbb1": {
      "model_module": "@jupyter-widgets/base",
      "model_module_version": "1.0.0",
      "model_name": "LayoutModel",
      "state": {}
     },
     "6fb7e42b179a4570842152afba1e2f5e": {
      "model_module": "@jupyter-widgets/base",
      "model_module_version": "1.0.0",
      "model_name": "LayoutModel",
      "state": {}
     },
     "70322adc157d4c06be04d9cff05bc67f": {
      "model_module": "@jupyter-widgets/base",
      "model_module_version": "1.0.0",
      "model_name": "LayoutModel",
      "state": {}
     },
     "70613d99cd1d4f4285fa950a12880013": {
      "model_module": "@jupyter-widgets/controls",
      "model_module_version": "1.2.0",
      "model_name": "VBoxModel",
      "state": {
       "_dom_classes": [
        "widget-interact"
       ],
       "children": [
        "IPY_MODEL_21832cf3c434404baf818d56a938f38c",
        "IPY_MODEL_2eb78760e8f14674b6964f3d713dae7e",
        "IPY_MODEL_826149b4b55242a79ef40c3fbd4dc247"
       ],
       "layout": "IPY_MODEL_4e489e17fa044dfd93e08292177194c4"
      }
     },
     "711707881d9746aa829d8a51f0a50763": {
      "model_module": "@jupyter-widgets/base",
      "model_module_version": "1.0.0",
      "model_name": "LayoutModel",
      "state": {}
     },
     "71eff44d0f7b4d42a2fd2a720fdfadf0": {
      "model_module": "@jupyter-widgets/base",
      "model_module_version": "1.0.0",
      "model_name": "LayoutModel",
      "state": {}
     },
     "7489c93f1a0e492393d104c69c36010c": {
      "model_module": "@jupyter-widgets/controls",
      "model_module_version": "1.2.0",
      "model_name": "SliderStyleModel",
      "state": {
       "description_width": ""
      }
     },
     "74db1813c59e433886830f55621adcb7": {
      "model_module": "@jupyter-widgets/base",
      "model_module_version": "1.0.0",
      "model_name": "LayoutModel",
      "state": {}
     },
     "754d37d87d134581be99086bc7c3a1b7": {
      "model_module": "@jupyter-widgets/controls",
      "model_module_version": "1.2.0",
      "model_name": "VBoxModel",
      "state": {
       "_dom_classes": [
        "widget-interact"
       ],
       "children": [
        "IPY_MODEL_57b2b892b91642cf844dc7f958a91704",
        "IPY_MODEL_1cb645d117104c63bad2f8f993ffa33e",
        "IPY_MODEL_b805b5615db7484181db0b92335d3af7"
       ],
       "layout": "IPY_MODEL_12f8028c07a24e60b6e9735ae209c69d"
      }
     },
     "773e7fdf12194c03ac2a80583c4c58a5": {
      "model_module": "@jupyter-widgets/controls",
      "model_module_version": "1.2.0",
      "model_name": "VBoxModel",
      "state": {
       "_dom_classes": [
        "widget-interact"
       ],
       "children": [
        "IPY_MODEL_5c019b9eac414a9592a824e7371df989",
        "IPY_MODEL_ecb12d0a70af40fda586866bd798054e",
        "IPY_MODEL_aff3726b651f42db9d2e2d94c997cadd"
       ],
       "layout": "IPY_MODEL_4faf6cfea14840e9942ded2895b06256"
      }
     },
     "77d8e9bf20e142f683004bc19e5e2775": {
      "model_module": "@jupyter-widgets/base",
      "model_module_version": "1.0.0",
      "model_name": "LayoutModel",
      "state": {}
     },
     "7a224761f0a54b458b1e27be82eb070a": {
      "model_module": "@jupyter-widgets/base",
      "model_module_version": "1.0.0",
      "model_name": "LayoutModel",
      "state": {}
     },
     "7cb1d25af87d4d96b23009100a10ef60": {
      "model_module": "@jupyter-widgets/base",
      "model_module_version": "1.0.0",
      "model_name": "LayoutModel",
      "state": {}
     },
     "7d5acfffb54048a999d5c4f2f0618c48": {
      "model_module": "@jupyter-widgets/base",
      "model_module_version": "1.0.0",
      "model_name": "LayoutModel",
      "state": {}
     },
     "7d7e7301b1ef43f8a486517e44810347": {
      "model_module": "@jupyter-widgets/controls",
      "model_module_version": "1.2.0",
      "model_name": "DescriptionStyleModel",
      "state": {
       "description_width": ""
      }
     },
     "7e3639f2403c401b818eaec57b47dc2b": {
      "model_module": "@jupyter-widgets/base",
      "model_module_version": "1.0.0",
      "model_name": "LayoutModel",
      "state": {}
     },
     "7eb8c8dabf4d4e5fb6a47f017db4e12f": {
      "model_module": "@jupyter-widgets/controls",
      "model_module_version": "1.2.0",
      "model_name": "IntSliderModel",
      "state": {
       "description": "n",
       "layout": "IPY_MODEL_6bb4d4d280f9476d99caa423cba53a51",
       "max": 1500,
       "step": 50,
       "style": "IPY_MODEL_e3e49addef2b4b09b232c9d65c8925fc",
       "value": 500
      }
     },
     "7edca69048c04f02a0a4eb375aecc535": {
      "model_module": "@jupyter-widgets/controls",
      "model_module_version": "1.2.0",
      "model_name": "SliderStyleModel",
      "state": {
       "description_width": ""
      }
     },
     "80a5b396780948f1b2bc6c6f95051eb3": {
      "model_module": "@jupyter-widgets/controls",
      "model_module_version": "1.2.0",
      "model_name": "VBoxModel",
      "state": {
       "_dom_classes": [
        "widget-interact"
       ],
       "children": [
        "IPY_MODEL_593503c7440b457989ad0e417b932f8d",
        "IPY_MODEL_bff8b4e6d4054812bc1b7d1218f8d308",
        "IPY_MODEL_59a7a1bb4c424b61842912623eb8a11c"
       ],
       "layout": "IPY_MODEL_2c3bdc363be74693b781164665ae7f4d"
      }
     },
     "814c990db3e74497abcc2e2d714b52f7": {
      "model_module": "@jupyter-widgets/controls",
      "model_module_version": "1.2.0",
      "model_name": "IntSliderModel",
      "state": {
       "description": "n",
       "layout": "IPY_MODEL_7e3639f2403c401b818eaec57b47dc2b",
       "max": 1500,
       "step": 50,
       "style": "IPY_MODEL_2c5a9e29ce704b6ca455f168d5fb24e6",
       "value": 600
      }
     },
     "826149b4b55242a79ef40c3fbd4dc247": {
      "model_module": "@jupyter-widgets/output",
      "model_module_version": "1.0.0",
      "model_name": "OutputModel",
      "state": {
       "layout": "IPY_MODEL_6fb7e42b179a4570842152afba1e2f5e",
       "outputs": [
        {
         "name": "stdout",
         "output_type": "stream",
         "text": "95% Confidence Interval:  (13.58, 13.84)\n"
        },
        {
         "name": "stderr",
         "output_type": "stream",
         "text": "C:\\Users\\Keilyn\\Anaconda3\\lib\\site-packages\\matplotlib\\axes\\_axes.py:6462: UserWarning: The 'normed' kwarg is deprecated, and has been replaced by the 'density' kwarg.\n  warnings.warn(\"The 'normed' kwarg is deprecated, and has been \"\n"
        },
        {
         "data": {
          "image/png": "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\n",
          "text/plain": "<Figure size 432x288 with 1 Axes>"
         },
         "metadata": {},
         "output_type": "display_data"
        }
       ]
      }
     },
     "86fc54ef267c4707ae951bb192a39865": {
      "model_module": "@jupyter-widgets/controls",
      "model_module_version": "1.2.0",
      "model_name": "SliderStyleModel",
      "state": {
       "description_width": ""
      }
     },
     "89ed77adc16140c18c628fbede7be883": {
      "model_module": "@jupyter-widgets/controls",
      "model_module_version": "1.2.0",
      "model_name": "VBoxModel",
      "state": {
       "_dom_classes": [
        "widget-interact"
       ],
       "children": [
        "IPY_MODEL_f563687feec14093a8e6545ee769d8e8",
        "IPY_MODEL_434ba5d4f2684b20956d7053ae2d3ec6",
        "IPY_MODEL_2e799cbeaae649a8adde502c534f6c24"
       ],
       "layout": "IPY_MODEL_b57e91576f464bc28cc55e855b9e4647"
      }
     },
     "8b19edbd06d941548c92a33aa727750b": {
      "model_module": "@jupyter-widgets/base",
      "model_module_version": "1.0.0",
      "model_name": "LayoutModel",
      "state": {}
     },
     "8d6fd710fb2647b1888b2c9e74cd4edc": {
      "model_module": "@jupyter-widgets/base",
      "model_module_version": "1.0.0",
      "model_name": "LayoutModel",
      "state": {}
     },
     "8f72a8693c4447a4bece843e7666150e": {
      "model_module": "@jupyter-widgets/base",
      "model_module_version": "1.0.0",
      "model_name": "LayoutModel",
      "state": {}
     },
     "900a6fa6236447fda707331a256ddc93": {
      "model_module": "@jupyter-widgets/controls",
      "model_module_version": "1.2.0",
      "model_name": "DescriptionStyleModel",
      "state": {
       "description_width": ""
      }
     },
     "939eddc20a5940a2a34febada55cb9ef": {
      "model_module": "@jupyter-widgets/base",
      "model_module_version": "1.0.0",
      "model_name": "LayoutModel",
      "state": {}
     },
     "95efc1c1843245bd92f289104d7afb79": {
      "model_module": "@jupyter-widgets/controls",
      "model_module_version": "1.2.0",
      "model_name": "VBoxModel",
      "state": {
       "_dom_classes": [
        "widget-interact"
       ],
       "children": [
        "IPY_MODEL_699a1f6db04d40e2b86b7ff28f1cdcfe",
        "IPY_MODEL_4e41d28e253745df9dd0bee87ba08cb5",
        "IPY_MODEL_ae26d7d3a0634d1ea6be7ea9695204b2"
       ],
       "layout": "IPY_MODEL_40f463d566784de59f7891f0b02c569b"
      }
     },
     "978e482f021d474b82d53be42cbc09ce": {
      "model_module": "@jupyter-widgets/base",
      "model_module_version": "1.0.0",
      "model_name": "LayoutModel",
      "state": {}
     },
     "97966fa5d889435582ef1e6dd87e8d47": {
      "model_module": "@jupyter-widgets/controls",
      "model_module_version": "1.2.0",
      "model_name": "SliderStyleModel",
      "state": {
       "description_width": ""
      }
     },
     "98f68f7b2ce245be988f3824b1ea44bc": {
      "model_module": "@jupyter-widgets/base",
      "model_module_version": "1.0.0",
      "model_name": "LayoutModel",
      "state": {}
     },
     "997a015d9a1c4467bf5974cb79aac240": {
      "model_module": "@jupyter-widgets/base",
      "model_module_version": "1.0.0",
      "model_name": "LayoutModel",
      "state": {}
     },
     "9a2633398ab5475ebed811ba6eaf6f6e": {
      "model_module": "@jupyter-widgets/controls",
      "model_module_version": "1.2.0",
      "model_name": "ToggleButtonsModel",
      "state": {
       "_options_labels": [
        "REALINC ($)",
        "TVHOURS",
        "EDUC",
        "CHILDS",
        "SIBS",
        "HRS1",
        "REALRINC"
       ],
       "button_style": "",
       "description": "column",
       "icons": [],
       "index": 2,
       "layout": "IPY_MODEL_4c4cd0767ac14412bf3580b2162814bd",
       "style": "IPY_MODEL_ed49d8b2706440c286d40264dcad49e8",
       "tooltips": []
      }
     },
     "9b8fb16a98544574a1dc362e1d8140e6": {
      "model_module": "@jupyter-widgets/controls",
      "model_module_version": "1.2.0",
      "model_name": "IntSliderModel",
      "state": {
       "description": "n",
       "layout": "IPY_MODEL_978e482f021d474b82d53be42cbc09ce",
       "max": 1500,
       "step": 50,
       "style": "IPY_MODEL_7489c93f1a0e492393d104c69c36010c",
       "value": 500
      }
     },
     "a0531bfff3af4267916df5803d3c0773": {
      "model_module": "@jupyter-widgets/controls",
      "model_module_version": "1.2.0",
      "model_name": "VBoxModel",
      "state": {
       "_dom_classes": [
        "widget-interact"
       ],
       "children": [
        "IPY_MODEL_391a78e7dbec43aa8d51332699ed1e80",
        "IPY_MODEL_46b68baa6f8249afbe9c07054056d2d7",
        "IPY_MODEL_682670d157dd4d508a4434b6dc9d9aa2"
       ],
       "layout": "IPY_MODEL_74db1813c59e433886830f55621adcb7"
      }
     },
     "a15625f86f41453182513ac081d8d3f1": {
      "model_module": "@jupyter-widgets/base",
      "model_module_version": "1.0.0",
      "model_name": "LayoutModel",
      "state": {}
     },
     "a1872124195c40019afa53a6e104981b": {
      "model_module": "@jupyter-widgets/controls",
      "model_module_version": "1.2.0",
      "model_name": "ToggleButtonsStyleModel",
      "state": {
       "button_width": "",
       "description_width": ""
      }
     },
     "a496d800e8c440c691331c5acb8be0b7": {
      "model_module": "@jupyter-widgets/controls",
      "model_module_version": "1.2.0",
      "model_name": "SliderStyleModel",
      "state": {
       "description_width": ""
      }
     },
     "a7561551f03e41f2a901faa3aa4a8c2d": {
      "model_module": "@jupyter-widgets/base",
      "model_module_version": "1.0.0",
      "model_name": "LayoutModel",
      "state": {}
     },
     "a7c1308e3e60405fba97a72ffe8274dd": {
      "model_module": "@jupyter-widgets/controls",
      "model_module_version": "1.2.0",
      "model_name": "IntSliderModel",
      "state": {
       "description": "n",
       "layout": "IPY_MODEL_f8c43cf93f0846efa43bbcdefcb79e01",
       "max": 1500,
       "step": 50,
       "style": "IPY_MODEL_58005fadfce84ba89fa06dcb834ffae2",
       "value": 500
      }
     },
     "a7db9332a13542a8b59a50e5143402a9": {
      "model_module": "@jupyter-widgets/output",
      "model_module_version": "1.0.0",
      "model_name": "OutputModel",
      "state": {
       "layout": "IPY_MODEL_d2a5b594f6e34c4f8b9a78d949089bc3",
       "outputs": [
        {
         "data": {
          "image/png": "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\n",
          "text/plain": "<Figure size 432x288 with 1 Axes>"
         },
         "metadata": {},
         "output_type": "display_data"
        }
       ]
      }
     },
     "a8d39950dfce467cbe058d3c51c225c8": {
      "model_module": "@jupyter-widgets/output",
      "model_module_version": "1.0.0",
      "model_name": "OutputModel",
      "state": {
       "layout": "IPY_MODEL_4463882f5f1c44658fbd914d8c0dae73",
       "outputs": [
        {
         "name": "stdout",
         "output_type": "stream",
         "text": "95% Confidence Interval:  (13.59, 13.84)\n"
        },
        {
         "data": {
          "image/png": "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\n",
          "text/plain": "<Figure size 432x288 with 1 Axes>"
         },
         "metadata": {},
         "output_type": "display_data"
        }
       ]
      }
     },
     "a8ec414c2a55474fb7c5d4e24f0b1f47": {
      "model_module": "@jupyter-widgets/base",
      "model_module_version": "1.0.0",
      "model_name": "LayoutModel",
      "state": {}
     },
     "ab28ae81dad74dae9fd5254aa0f4815c": {
      "model_module": "@jupyter-widgets/output",
      "model_module_version": "1.0.0",
      "model_name": "OutputModel",
      "state": {
       "layout": "IPY_MODEL_997a015d9a1c4467bf5974cb79aac240",
       "outputs": [
        {
         "data": {
          "image/png": "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\n",
          "text/plain": "<Figure size 432x288 with 1 Axes>"
         },
         "metadata": {},
         "output_type": "display_data"
        }
       ]
      }
     },
     "ad9ff0611c3c4fa4b35559fed56e4822": {
      "model_module": "@jupyter-widgets/controls",
      "model_module_version": "1.2.0",
      "model_name": "VBoxModel",
      "state": {
       "_dom_classes": [
        "widget-interact"
       ],
       "children": [
        "IPY_MODEL_e370dc45d0e4473b80d59c35beffdf0e",
        "IPY_MODEL_22a9316361194517a6eb00cac973f7da",
        "IPY_MODEL_b35593d18c904115b90bf8cbdcd7ea95"
       ],
       "layout": "IPY_MODEL_a8ec414c2a55474fb7c5d4e24f0b1f47"
      }
     },
     "ae26d7d3a0634d1ea6be7ea9695204b2": {
      "model_module": "@jupyter-widgets/output",
      "model_module_version": "1.0.0",
      "model_name": "OutputModel",
      "state": {
       "layout": "IPY_MODEL_77d8e9bf20e142f683004bc19e5e2775",
       "outputs": [
        {
         "name": "stderr",
         "output_type": "stream",
         "text": "C:\\Users\\Keilyn\\Anaconda3\\lib\\site-packages\\matplotlib\\axes\\_axes.py:6462: UserWarning: The 'normed' kwarg is deprecated, and has been replaced by the 'density' kwarg.\n  warnings.warn(\"The 'normed' kwarg is deprecated, and has been \"\n"
        },
        {
         "data": {
          "image/png": "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\n",
          "text/plain": "<Figure size 432x288 with 1 Axes>"
         },
         "metadata": {},
         "output_type": "display_data"
        }
       ]
      }
     },
     "af0a4ccd90974a20963da7a403e0ec5b": {
      "model_module": "@jupyter-widgets/base",
      "model_module_version": "1.0.0",
      "model_name": "LayoutModel",
      "state": {}
     },
     "af6eaed319554264a9c0b26c1364795d": {
      "model_module": "@jupyter-widgets/controls",
      "model_module_version": "1.2.0",
      "model_name": "ToggleButtonsModel",
      "state": {
       "_options_labels": [
        "EDUC",
        "REALINC ($)",
        "CHILDS",
        "SIBS"
       ],
       "button_style": "",
       "description": "column",
       "icons": [],
       "index": 3,
       "layout": "IPY_MODEL_98f68f7b2ce245be988f3824b1ea44bc",
       "style": "IPY_MODEL_a1872124195c40019afa53a6e104981b",
       "tooltips": []
      }
     },
     "aff3726b651f42db9d2e2d94c997cadd": {
      "model_module": "@jupyter-widgets/output",
      "model_module_version": "1.0.0",
      "model_name": "OutputModel",
      "state": {
       "layout": "IPY_MODEL_fefa770a25394c229083d4b5b3517dbb",
       "outputs": [
        {
         "name": "stdout",
         "output_type": "stream",
         "text": "95% Confidence Interval:  (1.72, 1.86)\n"
        },
        {
         "data": {
          "image/png": "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\n",
          "text/plain": "<Figure size 432x288 with 1 Axes>"
         },
         "metadata": {},
         "output_type": "display_data"
        }
       ]
      }
     },
     "b35593d18c904115b90bf8cbdcd7ea95": {
      "model_module": "@jupyter-widgets/output",
      "model_module_version": "1.0.0",
      "model_name": "OutputModel",
      "state": {
       "layout": "IPY_MODEL_4e335cc9a3b4435ca68bfecae664d241",
       "outputs": [
        {
         "data": {
          "image/png": "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\n",
          "text/plain": "<Figure size 432x288 with 1 Axes>"
         },
         "metadata": {},
         "output_type": "display_data"
        }
       ]
      }
     },
     "b57e91576f464bc28cc55e855b9e4647": {
      "model_module": "@jupyter-widgets/base",
      "model_module_version": "1.0.0",
      "model_name": "LayoutModel",
      "state": {}
     },
     "b805b5615db7484181db0b92335d3af7": {
      "model_module": "@jupyter-widgets/output",
      "model_module_version": "1.0.0",
      "model_name": "OutputModel",
      "state": {
       "layout": "IPY_MODEL_57a34a9ecc51479bbefa62f3d96ee526",
       "outputs": [
        {
         "name": "stdout",
         "output_type": "stream",
         "text": "95% Confidence Interval:  (13.58, 13.84)\n"
        },
        {
         "data": {
          "image/png": "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\n",
          "text/plain": "<Figure size 432x288 with 1 Axes>"
         },
         "metadata": {},
         "output_type": "display_data"
        }
       ]
      }
     },
     "b85a59d0bb6040f782a02417980f10ec": {
      "model_module": "@jupyter-widgets/controls",
      "model_module_version": "1.2.0",
      "model_name": "DescriptionStyleModel",
      "state": {
       "description_width": ""
      }
     },
     "b984b264493a441aa980aa9cf4dd2b58": {
      "model_module": "@jupyter-widgets/base",
      "model_module_version": "1.0.0",
      "model_name": "LayoutModel",
      "state": {}
     },
     "bb364903689a4e30a7f70a300e5ec782": {
      "model_module": "@jupyter-widgets/controls",
      "model_module_version": "1.2.0",
      "model_name": "VBoxModel",
      "state": {
       "_dom_classes": [
        "widget-interact"
       ],
       "children": [
        "IPY_MODEL_6b95d28540b349498a853a1d82843234",
        "IPY_MODEL_c6f125c48dbd46069e32baeab28e79fa"
       ],
       "layout": "IPY_MODEL_e8c6f0f1d3b74d0499f711905b8488c3"
      }
     },
     "bf4b9a83634d4757bd4a285bbd8d7b65": {
      "model_module": "@jupyter-widgets/output",
      "model_module_version": "1.0.0",
      "model_name": "OutputModel",
      "state": {
       "layout": "IPY_MODEL_3d1fb0aa301c431ca02de9f2b02d0c9d",
       "outputs": [
        {
         "data": {
          "image/png": "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\n",
          "text/plain": "<Figure size 432x288 with 1 Axes>"
         },
         "metadata": {},
         "output_type": "display_data"
        }
       ]
      }
     },
     "bff8b4e6d4054812bc1b7d1218f8d308": {
      "model_module": "@jupyter-widgets/controls",
      "model_module_version": "1.2.0",
      "model_name": "ToggleButtonsModel",
      "state": {
       "_options_labels": [
        "REALINC ($)",
        "TVHOURS",
        "EDUC",
        "CHILDS",
        "SIBS",
        "HRS1",
        "REALRINC"
       ],
       "button_style": "",
       "description": "column",
       "icons": [],
       "index": 2,
       "layout": "IPY_MODEL_618f6855af7f4b758349eccf49863f5a",
       "style": "IPY_MODEL_4daeb2c1c513430c91157c15b25b509c",
       "tooltips": []
      }
     },
     "c05481e4519a463496433aee34b5e408": {
      "model_module": "@jupyter-widgets/base",
      "model_module_version": "1.0.0",
      "model_name": "LayoutModel",
      "state": {}
     },
     "c1030c20a61349e3aa1d2bf5b8ffdabb": {
      "model_module": "@jupyter-widgets/output",
      "model_module_version": "1.0.0",
      "model_name": "OutputModel",
      "state": {
       "layout": "IPY_MODEL_5a9a6c07bf784226bb8331fcc0665826",
       "outputs": [
        {
         "name": "stderr",
         "output_type": "stream",
         "text": "C:\\Users\\Keilyn\\Anaconda3\\lib\\site-packages\\matplotlib\\axes\\_axes.py:6462: UserWarning: The 'normed' kwarg is deprecated, and has been replaced by the 'density' kwarg.\n  warnings.warn(\"The 'normed' kwarg is deprecated, and has been \"\n"
        },
        {
         "data": {
          "image/png": "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\n",
          "text/plain": "<Figure size 432x288 with 1 Axes>"
         },
         "metadata": {},
         "output_type": "display_data"
        }
       ]
      }
     },
     "c66fa55d338b4ed3a224739329305c39": {
      "model_module": "@jupyter-widgets/controls",
      "model_module_version": "1.2.0",
      "model_name": "VBoxModel",
      "state": {
       "_dom_classes": [
        "widget-interact"
       ],
       "children": [
        "IPY_MODEL_9b8fb16a98544574a1dc362e1d8140e6",
        "IPY_MODEL_41d13f3f76ab4632a9fe34fd9bae62b2",
        "IPY_MODEL_e688ed274d0e4844a2fff9f43379395f"
       ],
       "layout": "IPY_MODEL_71eff44d0f7b4d42a2fd2a720fdfadf0"
      }
     },
     "c6cd415eda2a4d27b1f450900e5afd40": {
      "model_module": "@jupyter-widgets/base",
      "model_module_version": "1.0.0",
      "model_name": "LayoutModel",
      "state": {}
     },
     "c6f125c48dbd46069e32baeab28e79fa": {
      "model_module": "@jupyter-widgets/output",
      "model_module_version": "1.0.0",
      "model_name": "OutputModel",
      "state": {
       "layout": "IPY_MODEL_63cbdc1790734a3c9182a719ce79956d",
       "outputs": [
        {
         "data": {
          "image/png": "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\n",
          "text/plain": "<Figure size 432x288 with 1 Axes>"
         },
         "metadata": {},
         "output_type": "display_data"
        }
       ]
      }
     },
     "c90f767783424b4ba354f1c7368d8437": {
      "model_module": "@jupyter-widgets/controls",
      "model_module_version": "1.2.0",
      "model_name": "ToggleButtonsStyleModel",
      "state": {
       "button_width": "",
       "description_width": ""
      }
     },
     "cb72cce3a17a41b4a60f9c97d498450a": {
      "model_module": "@jupyter-widgets/controls",
      "model_module_version": "1.2.0",
      "model_name": "SliderStyleModel",
      "state": {
       "description_width": ""
      }
     },
     "cc6246250fe4463e8fa68fc8a542f87c": {
      "model_module": "@jupyter-widgets/base",
      "model_module_version": "1.0.0",
      "model_name": "LayoutModel",
      "state": {}
     },
     "cd699ae19c7844d58f0c9068ecda001d": {
      "model_module": "@jupyter-widgets/controls",
      "model_module_version": "1.2.0",
      "model_name": "ToggleButtonsStyleModel",
      "state": {
       "button_width": "",
       "description_width": ""
      }
     },
     "ce4785d7ef2040eb98afa698cf440627": {
      "model_module": "@jupyter-widgets/controls",
      "model_module_version": "1.2.0",
      "model_name": "IntSliderModel",
      "state": {
       "description": "n",
       "layout": "IPY_MODEL_052f8130a9cb40b1b8024c1c2ef9c244",
       "max": 1500,
       "step": 50,
       "style": "IPY_MODEL_a496d800e8c440c691331c5acb8be0b7",
       "value": 700
      }
     },
     "ce65c1f382ec40ff8ea8adecf60548af": {
      "model_module": "@jupyter-widgets/controls",
      "model_module_version": "1.2.0",
      "model_name": "IntSliderModel",
      "state": {
       "description": "n",
       "layout": "IPY_MODEL_f2513ddab856477bbf0024e63980878f",
       "max": 1500,
       "step": 50,
       "style": "IPY_MODEL_24118128cd324e43907a6deab31be309",
       "value": 750
      }
     },
     "ce7b8f8803eb4525b34c8a3c8f453372": {
      "model_module": "@jupyter-widgets/controls",
      "model_module_version": "1.2.0",
      "model_name": "ToggleButtonsModel",
      "state": {
       "_options_labels": [
        "EDUC",
        "REALINC ($)",
        "CHILDS",
        "SIBS"
       ],
       "button_style": "",
       "description": "column",
       "icons": [],
       "index": 3,
       "layout": "IPY_MODEL_389e22727d694f0aa058473ad292f295",
       "style": "IPY_MODEL_5b18b76c32114f9daf47eb93003ccbf6",
       "tooltips": []
      }
     },
     "d18d244743fb47cfa1880e7bbd3e7b28": {
      "model_module": "@jupyter-widgets/base",
      "model_module_version": "1.0.0",
      "model_name": "LayoutModel",
      "state": {}
     },
     "d2a5b594f6e34c4f8b9a78d949089bc3": {
      "model_module": "@jupyter-widgets/base",
      "model_module_version": "1.0.0",
      "model_name": "LayoutModel",
      "state": {}
     },
     "d5c398fdbefb45f0b4481540b52a8624": {
      "model_module": "@jupyter-widgets/base",
      "model_module_version": "1.0.0",
      "model_name": "LayoutModel",
      "state": {}
     },
     "d5ef99d3e4e04bb5ac972f5166af78ca": {
      "model_module": "@jupyter-widgets/base",
      "model_module_version": "1.0.0",
      "model_name": "LayoutModel",
      "state": {}
     },
     "d69e9857e3f144fdb05be5878f5e8dea": {
      "model_module": "@jupyter-widgets/controls",
      "model_module_version": "1.2.0",
      "model_name": "SliderStyleModel",
      "state": {
       "description_width": ""
      }
     },
     "dadebee699de4e1a82e526e0cedb6608": {
      "model_module": "@jupyter-widgets/controls",
      "model_module_version": "1.2.0",
      "model_name": "VBoxModel",
      "state": {
       "_dom_classes": [
        "widget-interact"
       ],
       "children": [
        "IPY_MODEL_162b01d236d84acda0588bfdf0a9cbae",
        "IPY_MODEL_2db54b1f7d05487986564e0dd5fff9f8"
       ],
       "layout": "IPY_MODEL_70322adc157d4c06be04d9cff05bc67f"
      }
     },
     "db4f3637207143a3be1bb90b72a23fa4": {
      "model_module": "@jupyter-widgets/controls",
      "model_module_version": "1.2.0",
      "model_name": "ToggleButtonsStyleModel",
      "state": {
       "button_width": "",
       "description_width": ""
      }
     },
     "db5fb8a9419849d79e9f149679e9273b": {
      "model_module": "@jupyter-widgets/controls",
      "model_module_version": "1.2.0",
      "model_name": "DropdownModel",
      "state": {
       "_options_labels": [
        "REALINC ($)",
        "EDUC",
        "CHILDS",
        "SIBS"
       ],
       "index": 1,
       "layout": "IPY_MODEL_5dbde075ac2d49658e535072b8a91208",
       "style": "IPY_MODEL_b85a59d0bb6040f782a02417980f10ec"
      }
     },
     "e176d59f2c9a41af8e0309efa934713b": {
      "model_module": "@jupyter-widgets/base",
      "model_module_version": "1.0.0",
      "model_name": "LayoutModel",
      "state": {}
     },
     "e370dc45d0e4473b80d59c35beffdf0e": {
      "model_module": "@jupyter-widgets/controls",
      "model_module_version": "1.2.0",
      "model_name": "IntSliderModel",
      "state": {
       "description": "n",
       "layout": "IPY_MODEL_8d6fd710fb2647b1888b2c9e74cd4edc",
       "max": 1500,
       "step": 50,
       "style": "IPY_MODEL_3bdb4bff7b7c41e58edb64282ea9732a",
       "value": 500
      }
     },
     "e3da352a41c6450e9ea620adad299c5b": {
      "model_module": "@jupyter-widgets/base",
      "model_module_version": "1.0.0",
      "model_name": "LayoutModel",
      "state": {}
     },
     "e3e49addef2b4b09b232c9d65c8925fc": {
      "model_module": "@jupyter-widgets/controls",
      "model_module_version": "1.2.0",
      "model_name": "SliderStyleModel",
      "state": {
       "description_width": ""
      }
     },
     "e688ed274d0e4844a2fff9f43379395f": {
      "model_module": "@jupyter-widgets/output",
      "model_module_version": "1.0.0",
      "model_name": "OutputModel",
      "state": {
       "layout": "IPY_MODEL_03975423ff684e8484b165d7ff3ff9b5",
       "outputs": [
        {
         "data": {
          "image/png": "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\n",
          "text/plain": "<Figure size 432x288 with 1 Axes>"
         },
         "metadata": {},
         "output_type": "display_data"
        }
       ]
      }
     },
     "e69b2fdfa2cf4c37a54427c61ba64c82": {
      "model_module": "@jupyter-widgets/base",
      "model_module_version": "1.0.0",
      "model_name": "LayoutModel",
      "state": {}
     },
     "e89dcaa659254da8b80e64831640227c": {
      "model_module": "@jupyter-widgets/base",
      "model_module_version": "1.0.0",
      "model_name": "LayoutModel",
      "state": {}
     },
     "e8c6f0f1d3b74d0499f711905b8488c3": {
      "model_module": "@jupyter-widgets/base",
      "model_module_version": "1.0.0",
      "model_name": "LayoutModel",
      "state": {}
     },
     "eb6a4426f5b1475199af34c1dc2d0d0d": {
      "model_module": "@jupyter-widgets/controls",
      "model_module_version": "1.2.0",
      "model_name": "ToggleButtonsModel",
      "state": {
       "_options_labels": [
        "REALINC ($)",
        "TVHOURS",
        "EDUC",
        "CHILDS",
        "SIBS",
        "HRS1",
        "REALRINC"
       ],
       "button_style": "",
       "description": "column",
       "icons": [],
       "index": 2,
       "layout": "IPY_MODEL_af0a4ccd90974a20963da7a403e0ec5b",
       "style": "IPY_MODEL_cd699ae19c7844d58f0c9068ecda001d",
       "tooltips": []
      }
     },
     "ecb12d0a70af40fda586866bd798054e": {
      "model_module": "@jupyter-widgets/controls",
      "model_module_version": "1.2.0",
      "model_name": "ToggleButtonsModel",
      "state": {
       "_options_labels": [
        "EDUC",
        "REALINC ($)",
        "CHILDS",
        "SIBS"
       ],
       "button_style": "",
       "description": "column",
       "icons": [],
       "index": 2,
       "layout": "IPY_MODEL_277534fde19948f9bbdda6aec925b94b",
       "style": "IPY_MODEL_6a76d07605874841b5f393ee08b257dc",
       "tooltips": []
      }
     },
     "ed49d8b2706440c286d40264dcad49e8": {
      "model_module": "@jupyter-widgets/controls",
      "model_module_version": "1.2.0",
      "model_name": "ToggleButtonsStyleModel",
      "state": {
       "button_width": "",
       "description_width": ""
      }
     },
     "eecbf293f65947cebddd93c4375f4cf7": {
      "model_module": "@jupyter-widgets/output",
      "model_module_version": "1.0.0",
      "model_name": "OutputModel",
      "state": {
       "layout": "IPY_MODEL_c05481e4519a463496433aee34b5e408",
       "outputs": [
        {
         "data": {
          "image/png": "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\n",
          "text/plain": "<Figure size 432x288 with 1 Axes>"
         },
         "metadata": {},
         "output_type": "display_data"
        }
       ]
      }
     },
     "f2513ddab856477bbf0024e63980878f": {
      "model_module": "@jupyter-widgets/base",
      "model_module_version": "1.0.0",
      "model_name": "LayoutModel",
      "state": {}
     },
     "f563687feec14093a8e6545ee769d8e8": {
      "model_module": "@jupyter-widgets/controls",
      "model_module_version": "1.2.0",
      "model_name": "IntSliderModel",
      "state": {
       "description": "n",
       "layout": "IPY_MODEL_65febb3d21754e07afe66f4246ea8eb3",
       "max": 1500,
       "step": 50,
       "style": "IPY_MODEL_cb72cce3a17a41b4a60f9c97d498450a",
       "value": 500
      }
     },
     "f8c43cf93f0846efa43bbcdefcb79e01": {
      "model_module": "@jupyter-widgets/base",
      "model_module_version": "1.0.0",
      "model_name": "LayoutModel",
      "state": {}
     },
     "faae9d034ec24677ace2d08d4304100e": {
      "model_module": "@jupyter-widgets/controls",
      "model_module_version": "1.2.0",
      "model_name": "IntSliderModel",
      "state": {
       "description": "n",
       "layout": "IPY_MODEL_d18d244743fb47cfa1880e7bbd3e7b28",
       "max": 1500,
       "step": 50,
       "style": "IPY_MODEL_2a8bf9a7fc4440448f76597c5013a2c7",
       "value": 650
      }
     },
     "fb703801fb0947939bd1882420793ca3": {
      "model_module": "@jupyter-widgets/controls",
      "model_module_version": "1.2.0",
      "model_name": "VBoxModel",
      "state": {
       "_dom_classes": [
        "widget-interact"
       ],
       "children": [
        "IPY_MODEL_1c227606217944b394c41de73b6467e6",
        "IPY_MODEL_ce7b8f8803eb4525b34c8a3c8f453372",
        "IPY_MODEL_c1030c20a61349e3aa1d2bf5b8ffdabb"
       ],
       "layout": "IPY_MODEL_939eddc20a5940a2a34febada55cb9ef"
      }
     },
     "fd13f2e0a03543cf8f6f8ff8ace32625": {
      "model_module": "@jupyter-widgets/base",
      "model_module_version": "1.0.0",
      "model_name": "LayoutModel",
      "state": {}
     },
     "fefa770a25394c229083d4b5b3517dbb": {
      "model_module": "@jupyter-widgets/base",
      "model_module_version": "1.0.0",
      "model_name": "LayoutModel",
      "state": {}
     }
    },
    "version_major": 2,
    "version_minor": 0
   }
  }
 },
 "nbformat": 4,
 "nbformat_minor": 1
}
