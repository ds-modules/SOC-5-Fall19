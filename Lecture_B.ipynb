{
 "cells": [
  {
   "cell_type": "markdown",
   "metadata": {},
   "source": [
    "# [SOC-5] Lecture 17: Descriptive Bivariate Statistics\n",
    " \n",
    "---\n",
    "\n",
    "![](jupyter-header-1.png)\n",
    "\n",
    "\n",
    "### Professor David Harding"
   ]
  },
  {
   "cell_type": "markdown",
   "metadata": {},
   "source": [
    "#### Understanding Bivariate Relationships:\n",
    "\n",
    "We can conduct bivariate anylsis to:\n",
    "1. Understand how two variables are associated\n",
    "2. Describe subgroups by comparing means across values of a categorical variable (what the textbook calls a \"conditional\" mean)\n",
    "\n",
    "We will do this through two main methods:\n",
    "1. Cross-Tab - for categorical variables (nominal, ordinal)\n",
    "2. Correlation - for continuous variables (interval, ratio)\n",
    "\n",
    "#### Data Types:\n",
    "\n",
    "The main data types are: **Continuous** and **Categorical**. Categorical data can be further split into **Nominal** and **Ordinal** variables, and continuous can be split into **Interval** and **Ratio**.\n"
   ]
  },
  {
   "cell_type": "markdown",
   "metadata": {},
   "source": [
    "---\n",
    "\n",
    "### Topics Covered\n",
    "- Associations\n",
    "- Correlation and Scatter Plot\n",
    "- Regression line, Intercept and Slope\n",
    "- A brief intro to Sampling Error\n",
    "\n",
    "\n",
    "### Table of Contents\n",
    "\n",
    "[The Data](#data)<br>\n",
    "\n",
    "<!--[Context](#context)<br>-->\n",
    "\n",
    "1 - [Variable Associations Using Cross-Tab Analysis](#1)<br>\n",
    "\n",
    "&nbsp;&nbsp;&nbsp;&nbsp;&nbsp;&nbsp; 1.1 - [Intro - Interpreting Cross-Tab](#s0)\n",
    "\n",
    "\n",
    "&nbsp;&nbsp;&nbsp;&nbsp;&nbsp;&nbsp; 1.2 - [Positive and Negative](#s1)\n",
    "\n",
    "&nbsp;&nbsp;&nbsp;&nbsp;&nbsp;&nbsp; 1.3 - [Strong and Weak](#s2)\n",
    "\n",
    "\n",
    "2 - [Correlation](#2)<br>\n",
    "\n",
    "3 - [Regression Line](#3)<br>\n",
    "\n",
    "&nbsp;&nbsp;&nbsp;&nbsp;&nbsp;&nbsp; 3.1 - [Intercept and Slope](#s5)\n",
    "\n",
    "&nbsp;&nbsp;&nbsp;&nbsp;&nbsp;&nbsp; 3.2 - [Regression Examples](#s7)\n",
    "\n",
    "\n",
    "4 - [Sampling Error](#4)<br>\n",
    "\n",
    "\n",
    " The code in this notebook is hidden for readability. If you would like to look at the code, click the button below.\n",
    "\n",
    "<div class=\"alert alert-warning\">\n",
    "In order to make sure that all of the interactive widgets appear, please click \"Kernel\" in the top bar, then select \"Restart & Run All\", then confirm \"Restart and Run All Cells\". This will hide all of the code cells, but if you want to look at the code come back to the cell below and click the button.\n",
    "</div>\n"
   ]
  },
  {
   "cell_type": "code",
   "execution_count": 1,
   "metadata": {},
   "outputs": [
    {
     "data": {
      "text/html": [
       "<script>\n",
       "code_show=true; \n",
       "function code_toggle() {\n",
       "  if (code_show) {\n",
       "    $('div.input').each(function(id) {\n",
       "      el = $(this).find('.cm-variable:first');\n",
       "      if (id == 0 || el.text() == 'hide_me') {\n",
       "        $(this).hide();\n",
       "      }\n",
       "    });\n",
       "    $('div.output_prompt').css('opacity', 0);\n",
       "  } else {\n",
       "    $('div.input').each(function(id) {\n",
       "      $(this).show();\n",
       "    });\n",
       "    $('div.output_prompt').css('opacity', 1);\n",
       "  }\n",
       "  code_show = !code_show\n",
       "} \n",
       "$( document ).ready(code_toggle);\n",
       "</script>\n",
       "<form action=\"javascript:code_toggle()\"><input style=\"opacity:1\" type=\"submit\" value=\"Click here to reveal the raw code.\"></form>"
      ],
      "text/plain": [
       "<IPython.core.display.HTML object>"
      ]
     },
     "execution_count": 1,
     "metadata": {},
     "output_type": "execute_result"
    }
   ],
   "source": [
    "from IPython.display import HTML\n",
    "\n",
    "hide_me = ''\n",
    "HTML('''<script>\n",
    "code_show=true; \n",
    "function code_toggle() {\n",
    "  if (code_show) {\n",
    "    $('div.input').each(function(id) {\n",
    "      el = $(this).find('.cm-variable:first');\n",
    "      if (id == 0 || el.text() == 'hide_me') {\n",
    "        $(this).hide();\n",
    "      }\n",
    "    });\n",
    "    $('div.output_prompt').css('opacity', 0);\n",
    "  } else {\n",
    "    $('div.input').each(function(id) {\n",
    "      $(this).show();\n",
    "    });\n",
    "    $('div.output_prompt').css('opacity', 1);\n",
    "  }\n",
    "  code_show = !code_show\n",
    "} \n",
    "$( document ).ready(code_toggle);\n",
    "</script>\n",
    "<form action=\"javascript:code_toggle()\"><input style=\"opacity:1\" type=\"submit\" value=\"Click here to reveal the raw code.\"></form>''')\n",
    "\n",
    "#derived from the style modules notebook (by Keeley Takimoto)"
   ]
  },
  {
   "cell_type": "code",
   "execution_count": 2,
   "metadata": {},
   "outputs": [],
   "source": [
    "hide_me\n",
    "\n",
    "import pandas as pd\n",
    "import numpy as np\n",
    "%matplotlib inline\n",
    "import matplotlib.pyplot as plt\n",
    "import seaborn as sns \n",
    "from numpy import arange,array,ones\n",
    "#from scipy import stats\n",
    "\n",
    "import warnings\n",
    "warnings.filterwarnings('ignore')"
   ]
  },
  {
   "cell_type": "markdown",
   "metadata": {},
   "source": [
    "## The Data <a id='data'></a>\n",
    "\n",
    "In this notebook, we will again be working with the data from the <a href=\"https://gss.norc.org\">General Social Survey</a>. "
   ]
  },
  {
   "cell_type": "markdown",
   "metadata": {},
   "source": [
    "Let's take a look at the data! This is just the first five respondents. Respondents are in rows and variables are in columns. This is a very small subset of all the variables in the GSS. "
   ]
  },
  {
   "cell_type": "code",
   "execution_count": 3,
   "metadata": {},
   "outputs": [
    {
     "data": {
      "text/html": [
       "<div>\n",
       "<style scoped>\n",
       "    .dataframe tbody tr th:only-of-type {\n",
       "        vertical-align: middle;\n",
       "    }\n",
       "\n",
       "    .dataframe tbody tr th {\n",
       "        vertical-align: top;\n",
       "    }\n",
       "\n",
       "    .dataframe thead th {\n",
       "        text-align: right;\n",
       "    }\n",
       "</style>\n",
       "<table border=\"1\" class=\"dataframe\">\n",
       "  <thead>\n",
       "    <tr style=\"text-align: right;\">\n",
       "      <th></th>\n",
       "      <th>YEAR</th>\n",
       "      <th>REALINC ($)</th>\n",
       "      <th>TVHOURS</th>\n",
       "      <th>POLHITOK</th>\n",
       "      <th>CLASS</th>\n",
       "      <th>HAPPY</th>\n",
       "      <th>VISIONS</th>\n",
       "      <th>ESP</th>\n",
       "      <th>DEJAVU</th>\n",
       "      <th>REGION</th>\n",
       "      <th>RACE</th>\n",
       "      <th>DEGREE</th>\n",
       "      <th>EDUC</th>\n",
       "      <th>CHILDS</th>\n",
       "      <th>SIBS</th>\n",
       "      <th>HRS1</th>\n",
       "      <th>REALRINC</th>\n",
       "    </tr>\n",
       "  </thead>\n",
       "  <tbody>\n",
       "    <tr>\n",
       "      <th>0</th>\n",
       "      <td>1972</td>\n",
       "      <td>18951.0</td>\n",
       "      <td>NaN</td>\n",
       "      <td>Not applicable</td>\n",
       "      <td>Middle class</td>\n",
       "      <td>Not too happy</td>\n",
       "      <td>Not applicable</td>\n",
       "      <td>Not applicable</td>\n",
       "      <td>Not applicable</td>\n",
       "      <td>E. nor. central</td>\n",
       "      <td>White</td>\n",
       "      <td>Bachelor</td>\n",
       "      <td>16.0</td>\n",
       "      <td>0.0</td>\n",
       "      <td>3.0</td>\n",
       "      <td>NaN</td>\n",
       "      <td>0.0</td>\n",
       "    </tr>\n",
       "    <tr>\n",
       "      <th>1</th>\n",
       "      <td>1972</td>\n",
       "      <td>24366.0</td>\n",
       "      <td>NaN</td>\n",
       "      <td>Not applicable</td>\n",
       "      <td>Middle class</td>\n",
       "      <td>Not too happy</td>\n",
       "      <td>Not applicable</td>\n",
       "      <td>Not applicable</td>\n",
       "      <td>Not applicable</td>\n",
       "      <td>E. nor. central</td>\n",
       "      <td>White</td>\n",
       "      <td>Lt high school</td>\n",
       "      <td>10.0</td>\n",
       "      <td>5.0</td>\n",
       "      <td>4.0</td>\n",
       "      <td>NaN</td>\n",
       "      <td>0.0</td>\n",
       "    </tr>\n",
       "    <tr>\n",
       "      <th>2</th>\n",
       "      <td>1972</td>\n",
       "      <td>24366.0</td>\n",
       "      <td>NaN</td>\n",
       "      <td>Not applicable</td>\n",
       "      <td>Working class</td>\n",
       "      <td>Pretty happy</td>\n",
       "      <td>Not applicable</td>\n",
       "      <td>Not applicable</td>\n",
       "      <td>Not applicable</td>\n",
       "      <td>E. nor. central</td>\n",
       "      <td>White</td>\n",
       "      <td>High school</td>\n",
       "      <td>12.0</td>\n",
       "      <td>4.0</td>\n",
       "      <td>5.0</td>\n",
       "      <td>NaN</td>\n",
       "      <td>0.0</td>\n",
       "    </tr>\n",
       "    <tr>\n",
       "      <th>3</th>\n",
       "      <td>1972</td>\n",
       "      <td>30458.0</td>\n",
       "      <td>NaN</td>\n",
       "      <td>Not applicable</td>\n",
       "      <td>Middle class</td>\n",
       "      <td>Not too happy</td>\n",
       "      <td>Not applicable</td>\n",
       "      <td>Not applicable</td>\n",
       "      <td>Not applicable</td>\n",
       "      <td>E. nor. central</td>\n",
       "      <td>White</td>\n",
       "      <td>Bachelor</td>\n",
       "      <td>17.0</td>\n",
       "      <td>0.0</td>\n",
       "      <td>5.0</td>\n",
       "      <td>NaN</td>\n",
       "      <td>0.0</td>\n",
       "    </tr>\n",
       "    <tr>\n",
       "      <th>4</th>\n",
       "      <td>1972</td>\n",
       "      <td>50763.0</td>\n",
       "      <td>NaN</td>\n",
       "      <td>Not applicable</td>\n",
       "      <td>Working class</td>\n",
       "      <td>Pretty happy</td>\n",
       "      <td>Not applicable</td>\n",
       "      <td>Not applicable</td>\n",
       "      <td>Not applicable</td>\n",
       "      <td>E. nor. central</td>\n",
       "      <td>White</td>\n",
       "      <td>High school</td>\n",
       "      <td>12.0</td>\n",
       "      <td>2.0</td>\n",
       "      <td>2.0</td>\n",
       "      <td>NaN</td>\n",
       "      <td>0.0</td>\n",
       "    </tr>\n",
       "  </tbody>\n",
       "</table>\n",
       "</div>"
      ],
      "text/plain": [
       "   YEAR  REALINC ($)  TVHOURS        POLHITOK          CLASS          HAPPY  \\\n",
       "0  1972      18951.0      NaN  Not applicable   Middle class  Not too happy   \n",
       "1  1972      24366.0      NaN  Not applicable   Middle class  Not too happy   \n",
       "2  1972      24366.0      NaN  Not applicable  Working class   Pretty happy   \n",
       "3  1972      30458.0      NaN  Not applicable   Middle class  Not too happy   \n",
       "4  1972      50763.0      NaN  Not applicable  Working class   Pretty happy   \n",
       "\n",
       "          VISIONS             ESP          DEJAVU           REGION   RACE  \\\n",
       "0  Not applicable  Not applicable  Not applicable  E. nor. central  White   \n",
       "1  Not applicable  Not applicable  Not applicable  E. nor. central  White   \n",
       "2  Not applicable  Not applicable  Not applicable  E. nor. central  White   \n",
       "3  Not applicable  Not applicable  Not applicable  E. nor. central  White   \n",
       "4  Not applicable  Not applicable  Not applicable  E. nor. central  White   \n",
       "\n",
       "           DEGREE  EDUC  CHILDS  SIBS  HRS1  REALRINC  \n",
       "0        Bachelor  16.0     0.0   3.0   NaN       0.0  \n",
       "1  Lt high school  10.0     5.0   4.0   NaN       0.0  \n",
       "2     High school  12.0     4.0   5.0   NaN       0.0  \n",
       "3        Bachelor  17.0     0.0   5.0   NaN       0.0  \n",
       "4     High school  12.0     2.0   2.0   NaN       0.0  "
      ]
     },
     "execution_count": 3,
     "metadata": {},
     "output_type": "execute_result"
    }
   ],
   "source": [
    "hide_me\n",
    "gss = pd.read_csv('cleaned_data.csv', index_col = 0)\n",
    "gss.head(5)\n",
    "\n",
    "#.head(5) just means that I only want for this cell to output 5 top rows of our table"
   ]
  },
  {
   "cell_type": "markdown",
   "metadata": {},
   "source": [
    "### Data Dictionary"
   ]
  },
  {
   "cell_type": "markdown",
   "metadata": {},
   "source": [
    "|Variables |Definition |\n",
    "|-----------|---------------------|\n",
    "|Year |GSS year for this respondent |\n",
    "|REALINC ($)\t |Family income|\n",
    "|TVHOURS |Hours per day watching TV|\n",
    "|POLHITOK |Ever approve of police striking citizen|\n",
    "|CLASS |Subjective class identification|\n",
    "|HAPPY |General happiness|\n",
    "|VISION |Perceived events at great distance|\n",
    "|ESP |Felt in touch with someone far away|\n",
    "|DEJAVU |Thought one was someplace before|\n",
    "|REGION |Region of interview|\n",
    "|RACE |Race of respondent|\n",
    "|DEGREE |Respondent's highest earned degree|\n",
    "|EDUC |Highest year of school completed|\n",
    "|CHILDS |Number of children|\n",
    "|SIBS |Number of brothers and sisters|\n",
    "|HRS1 |Number of hours worked last week|\n",
    "|REALRINC |Respondent's income|"
   ]
  },
  {
   "cell_type": "markdown",
   "metadata": {},
   "source": [
    "---\n",
    "\n",
    "## Variable Associations <a id='1'></a>\n",
    "\n",
    "What is a Cross-Tab and how does it help us see the relationship between two variables?\n",
    " \n",
    "\n",
    "---\n",
    "##  Intro - Interpreting Cross-Tab <a id='s0'></a>"
   ]
  },
  {
   "cell_type": "markdown",
   "metadata": {},
   "source": [
    "### 1) Cross-Tab: Race and Hapiness\n",
    "\n",
    "### (a)\n",
    "Let's begin by exploring the variables RACE and HAPPY. We will start by creating a cross-tab that simply contains the number of respondents who fall into each cell, or what we might call the \"raw counts\" or \"raw frequencies.\" Then we will see cross-tabs with percentages rather than raw counts. \n",
    "\n",
    "* Notice that there are no percentages and no totals displayed on the first table below. "
   ]
  },
  {
   "cell_type": "code",
   "execution_count": 4,
   "metadata": {},
   "outputs": [
    {
     "data": {
      "text/html": [
       "<div>\n",
       "<style scoped>\n",
       "    .dataframe tbody tr th:only-of-type {\n",
       "        vertical-align: middle;\n",
       "    }\n",
       "\n",
       "    .dataframe tbody tr th {\n",
       "        vertical-align: top;\n",
       "    }\n",
       "\n",
       "    .dataframe thead th {\n",
       "        text-align: right;\n",
       "    }\n",
       "</style>\n",
       "<table border=\"1\" class=\"dataframe\">\n",
       "  <thead>\n",
       "    <tr style=\"text-align: right;\">\n",
       "      <th>RACE</th>\n",
       "      <th>Other</th>\n",
       "      <th>Black</th>\n",
       "      <th>White</th>\n",
       "    </tr>\n",
       "    <tr>\n",
       "      <th>HAPPY</th>\n",
       "      <th></th>\n",
       "      <th></th>\n",
       "      <th></th>\n",
       "    </tr>\n",
       "  </thead>\n",
       "  <tbody>\n",
       "    <tr>\n",
       "      <th>Not too happy</th>\n",
       "      <td>497</td>\n",
       "      <td>1772</td>\n",
       "      <td>5399</td>\n",
       "    </tr>\n",
       "    <tr>\n",
       "      <th>Pretty happy</th>\n",
       "      <td>1765</td>\n",
       "      <td>4764</td>\n",
       "      <td>27034</td>\n",
       "    </tr>\n",
       "    <tr>\n",
       "      <th>Very happy</th>\n",
       "      <td>933</td>\n",
       "      <td>1907</td>\n",
       "      <td>15983</td>\n",
       "    </tr>\n",
       "  </tbody>\n",
       "</table>\n",
       "</div>"
      ],
      "text/plain": [
       "RACE           Other  Black  White\n",
       "HAPPY                             \n",
       "Not too happy    497   1772   5399\n",
       "Pretty happy    1765   4764  27034\n",
       "Very happy       933   1907  15983"
      ]
     },
     "execution_count": 4,
     "metadata": {},
     "output_type": "execute_result"
    }
   ],
   "source": [
    "hide_me\n",
    "happy = gss.loc[((gss['HAPPY'] != \"Don't know\") & (gss['HAPPY'] != \"No answer\") & \\\n",
    "                 (gss['HAPPY'] != \"Not applicable\"))]\n",
    "\n",
    "happiness = pd.crosstab(happy.HAPPY, happy.RACE)\n",
    "happiness = happiness.reindex(['Other', 'Black', 'White', 'All'], axis=\"columns\")\n",
    "\n",
    "\n",
    "happiness.drop([\"All\"],axis=1)"
   ]
  },
  {
   "cell_type": "markdown",
   "metadata": {},
   "source": [
    "Now let's look at the percentages. \n",
    "\n",
    "Percentage of people in each HAPPY category for each RACE."
   ]
  },
  {
   "cell_type": "code",
   "execution_count": 5,
   "metadata": {},
   "outputs": [
    {
     "data": {
      "text/html": [
       "<div>\n",
       "<style scoped>\n",
       "    .dataframe tbody tr th:only-of-type {\n",
       "        vertical-align: middle;\n",
       "    }\n",
       "\n",
       "    .dataframe tbody tr th {\n",
       "        vertical-align: top;\n",
       "    }\n",
       "\n",
       "    .dataframe thead th {\n",
       "        text-align: right;\n",
       "    }\n",
       "</style>\n",
       "<table border=\"1\" class=\"dataframe\">\n",
       "  <thead>\n",
       "    <tr style=\"text-align: right;\">\n",
       "      <th>RACE</th>\n",
       "      <th>Other</th>\n",
       "      <th>Black</th>\n",
       "      <th>White</th>\n",
       "      <th>All</th>\n",
       "    </tr>\n",
       "    <tr>\n",
       "      <th>HAPPY</th>\n",
       "      <th></th>\n",
       "      <th></th>\n",
       "      <th></th>\n",
       "      <th></th>\n",
       "    </tr>\n",
       "  </thead>\n",
       "  <tbody>\n",
       "    <tr>\n",
       "      <th>Not too happy</th>\n",
       "      <td>6.481481</td>\n",
       "      <td>23.109025</td>\n",
       "      <td>70.409494</td>\n",
       "      <td>100.0</td>\n",
       "    </tr>\n",
       "    <tr>\n",
       "      <th>Pretty happy</th>\n",
       "      <td>5.258767</td>\n",
       "      <td>14.194202</td>\n",
       "      <td>80.547031</td>\n",
       "      <td>100.0</td>\n",
       "    </tr>\n",
       "    <tr>\n",
       "      <th>Very happy</th>\n",
       "      <td>4.956702</td>\n",
       "      <td>10.131222</td>\n",
       "      <td>84.912076</td>\n",
       "      <td>100.0</td>\n",
       "    </tr>\n",
       "    <tr>\n",
       "      <th>All</th>\n",
       "      <td>5.320212</td>\n",
       "      <td>14.059014</td>\n",
       "      <td>80.620775</td>\n",
       "      <td>100.0</td>\n",
       "    </tr>\n",
       "  </tbody>\n",
       "</table>\n",
       "</div>"
      ],
      "text/plain": [
       "RACE              Other      Black      White    All\n",
       "HAPPY                                               \n",
       "Not too happy  6.481481  23.109025  70.409494  100.0\n",
       "Pretty happy   5.258767  14.194202  80.547031  100.0\n",
       "Very happy     4.956702  10.131222  84.912076  100.0\n",
       "All            5.320212  14.059014  80.620775  100.0"
      ]
     },
     "execution_count": 5,
     "metadata": {},
     "output_type": "execute_result"
    }
   ],
   "source": [
    "hide_me\n",
    "happy = gss.loc[((gss['HAPPY'] != \"Don't know\") & (gss['HAPPY'] != \"No answer\") & \\\n",
    "                 (gss['HAPPY'] != \"Not applicable\"))]\n",
    "\n",
    "happiness = pd.crosstab(happy.HAPPY, happy.RACE, margins=True, normalize = True)\n",
    "happiness = happiness.reindex(['Other', 'Black', 'White', 'All'], axis=\"columns\")\n",
    "\n",
    "\n",
    "happiness.div(happiness.iloc[:,-1], axis=0)*100 "
   ]
  },
  {
   "cell_type": "markdown",
   "metadata": {},
   "source": [
    "<div class=\"alert alert-info\">\n",
    "<b> Question:</b> \n",
    "How easy is it to tell from these percentages whether there is a relationship between HAPPY and RACE? Why? Think of what the percentages represent.\n",
    "\n",
    "</div> "
   ]
  },
  {
   "cell_type": "markdown",
   "metadata": {},
   "source": [
    "*Double click this cell to begin typing your answer*"
   ]
  },
  {
   "cell_type": "markdown",
   "metadata": {},
   "source": [
    "### (b)\n",
    "Now, let's continue to explore the same two variables, but now RACE will be on the Y axis and HAPPY will be on the X axis. In this cross-tab we can notice the increase in happiness and lack of it from **left to right** columns (it changes within race).\n",
    "\n",
    "* Notice that the values in the table are percentages, as in the previous table, but they are different."
   ]
  },
  {
   "cell_type": "code",
   "execution_count": 6,
   "metadata": {},
   "outputs": [
    {
     "data": {
      "text/html": [
       "<div>\n",
       "<style scoped>\n",
       "    .dataframe tbody tr th:only-of-type {\n",
       "        vertical-align: middle;\n",
       "    }\n",
       "\n",
       "    .dataframe tbody tr th {\n",
       "        vertical-align: top;\n",
       "    }\n",
       "\n",
       "    .dataframe thead th {\n",
       "        text-align: right;\n",
       "    }\n",
       "</style>\n",
       "<table border=\"1\" class=\"dataframe\">\n",
       "  <thead>\n",
       "    <tr style=\"text-align: right;\">\n",
       "      <th>HAPPY</th>\n",
       "      <th>Not too happy</th>\n",
       "      <th>Pretty happy</th>\n",
       "      <th>Very happy</th>\n",
       "      <th>All</th>\n",
       "    </tr>\n",
       "    <tr>\n",
       "      <th>RACE</th>\n",
       "      <th></th>\n",
       "      <th></th>\n",
       "      <th></th>\n",
       "      <th></th>\n",
       "    </tr>\n",
       "  </thead>\n",
       "  <tbody>\n",
       "    <tr>\n",
       "      <th>Other</th>\n",
       "      <td>15.555556</td>\n",
       "      <td>55.242567</td>\n",
       "      <td>29.201878</td>\n",
       "      <td>100.0</td>\n",
       "    </tr>\n",
       "    <tr>\n",
       "      <th>Black</th>\n",
       "      <td>20.987801</td>\n",
       "      <td>56.425441</td>\n",
       "      <td>22.586758</td>\n",
       "      <td>100.0</td>\n",
       "    </tr>\n",
       "    <tr>\n",
       "      <th>White</th>\n",
       "      <td>11.151272</td>\n",
       "      <td>55.836913</td>\n",
       "      <td>33.011814</td>\n",
       "      <td>100.0</td>\n",
       "    </tr>\n",
       "    <tr>\n",
       "      <th>All</th>\n",
       "      <td>12.768508</td>\n",
       "      <td>55.888034</td>\n",
       "      <td>31.343458</td>\n",
       "      <td>100.0</td>\n",
       "    </tr>\n",
       "  </tbody>\n",
       "</table>\n",
       "</div>"
      ],
      "text/plain": [
       "HAPPY  Not too happy  Pretty happy  Very happy    All\n",
       "RACE                                                 \n",
       "Other      15.555556     55.242567   29.201878  100.0\n",
       "Black      20.987801     56.425441   22.586758  100.0\n",
       "White      11.151272     55.836913   33.011814  100.0\n",
       "All        12.768508     55.888034   31.343458  100.0"
      ]
     },
     "execution_count": 6,
     "metadata": {},
     "output_type": "execute_result"
    }
   ],
   "source": [
    "hide_me\n",
    "happy = gss.loc[((gss['HAPPY'] != \"Don't know\") & (gss['HAPPY'] != \"No answer\") & \\\n",
    "                 (gss['HAPPY'] != \"Not applicable\"))]\n",
    "\n",
    "happiness = pd.crosstab(happy.RACE,happy.HAPPY, margins=True, normalize = True)\n",
    "happiness = happiness.reindex(['Other', 'Black', 'White', 'All'], axis=\"rows\")\n",
    "\n",
    "\n",
    "\n",
    "\n",
    "happiness.div(happiness.iloc[:,-1], axis=0)*100\n"
   ]
  },
  {
   "cell_type": "markdown",
   "metadata": {},
   "source": [
    "<div class=\"alert alert-info\">\n",
    "<b> Question:</b> \n",
    "Now study the cross-tab above. Is it easier to see how the two variables are related here? Why or why not? \n",
    "    \n",
    "    \n",
    "Hint: [Take a second to compare this cross-table with the one above. How does the interpretation of the relationship between these two variables change?]\n",
    "\n",
    "<div/>"
   ]
  },
  {
   "cell_type": "markdown",
   "metadata": {},
   "source": [
    "*Double click this cell to begin typing your answer*"
   ]
  },
  {
   "cell_type": "markdown",
   "metadata": {},
   "source": [
    "Takeaway: Whenever you create a cross table you should think about which variable will be on the X and Y axis, and whether you will need row or column percentages.\n"
   ]
  },
  {
   "cell_type": "markdown",
   "metadata": {},
   "source": [
    "---\n",
    "##  Cross-Tab:  Positive and Negative Relationships <a id='s1'></a>\n",
    "Now we'll look at the **direction** of the relationship (positive vs. negative).\n",
    "\n",
    "### 1) Positive: DREGREE and REALRINC\n",
    "\n",
    "### (a) Raw Counts \n",
    "\n",
    "We will begin breaking down the variable REALRINC into six categories. Namely, we wil have\n",
    "* $<\\$20K,\\$20K-\\$40K,\\$40K-\\$60K,\\$60K-\\$80K,\\$80K-\\$100K,and >\\$100K$\n",
    "\n",
    "for our categories.\n",
    "\n",
    "Just as before, we removed values where the response was \"Don't Know\" or \"No answer\".\n",
    "\n",
    "Now that the pre-cleaning and categorizing is done, we will begin by showing a cross-tab of raw counts. "
   ]
  },
  {
   "cell_type": "code",
   "execution_count": 7,
   "metadata": {},
   "outputs": [
    {
     "data": {
      "text/html": [
       "<div>\n",
       "<style scoped>\n",
       "    .dataframe tbody tr th:only-of-type {\n",
       "        vertical-align: middle;\n",
       "    }\n",
       "\n",
       "    .dataframe tbody tr th {\n",
       "        vertical-align: top;\n",
       "    }\n",
       "\n",
       "    .dataframe thead th {\n",
       "        text-align: right;\n",
       "    }\n",
       "</style>\n",
       "<table border=\"1\" class=\"dataframe\">\n",
       "  <thead>\n",
       "    <tr style=\"text-align: right;\">\n",
       "      <th>Incomes</th>\n",
       "      <th>&lt;$20K</th>\n",
       "      <th>$20K-40K</th>\n",
       "      <th>$40K-60K</th>\n",
       "      <th>$60K-80K</th>\n",
       "      <th>$80K-100K</th>\n",
       "      <th>&gt;$100K</th>\n",
       "    </tr>\n",
       "    <tr>\n",
       "      <th>DEGREE</th>\n",
       "      <th></th>\n",
       "      <th></th>\n",
       "      <th></th>\n",
       "      <th></th>\n",
       "      <th></th>\n",
       "      <th></th>\n",
       "    </tr>\n",
       "  </thead>\n",
       "  <tbody>\n",
       "    <tr>\n",
       "      <th>Lt high school</th>\n",
       "      <td>12545.0</td>\n",
       "      <td>892.0</td>\n",
       "      <td>100.0</td>\n",
       "      <td>15.0</td>\n",
       "      <td>19.0</td>\n",
       "      <td>16.0</td>\n",
       "    </tr>\n",
       "    <tr>\n",
       "      <th>High school</th>\n",
       "      <td>26569.0</td>\n",
       "      <td>5449.0</td>\n",
       "      <td>810.0</td>\n",
       "      <td>104.0</td>\n",
       "      <td>115.0</td>\n",
       "      <td>148.0</td>\n",
       "    </tr>\n",
       "    <tr>\n",
       "      <th>Junior college</th>\n",
       "      <td>2510.0</td>\n",
       "      <td>948.0</td>\n",
       "      <td>155.0</td>\n",
       "      <td>22.0</td>\n",
       "      <td>10.0</td>\n",
       "      <td>23.0</td>\n",
       "    </tr>\n",
       "    <tr>\n",
       "      <th>Bachelor</th>\n",
       "      <td>5475.0</td>\n",
       "      <td>2680.0</td>\n",
       "      <td>754.0</td>\n",
       "      <td>178.0</td>\n",
       "      <td>149.0</td>\n",
       "      <td>239.0</td>\n",
       "    </tr>\n",
       "    <tr>\n",
       "      <th>Graduate</th>\n",
       "      <td>2045.0</td>\n",
       "      <td>1446.0</td>\n",
       "      <td>622.0</td>\n",
       "      <td>158.0</td>\n",
       "      <td>156.0</td>\n",
       "      <td>289.0</td>\n",
       "    </tr>\n",
       "  </tbody>\n",
       "</table>\n",
       "</div>"
      ],
      "text/plain": [
       "Incomes           <$20K  $20K-40K  $40K-60K  $60K-80K  $80K-100K  >$100K\n",
       "DEGREE                                                                  \n",
       "Lt high school  12545.0     892.0     100.0      15.0       19.0    16.0\n",
       "High school     26569.0    5449.0     810.0     104.0      115.0   148.0\n",
       "Junior college   2510.0     948.0     155.0      22.0       10.0    23.0\n",
       "Bachelor         5475.0    2680.0     754.0     178.0      149.0   239.0\n",
       "Graduate         2045.0    1446.0     622.0     158.0      156.0   289.0"
      ]
     },
     "execution_count": 7,
     "metadata": {},
     "output_type": "execute_result"
    }
   ],
   "source": [
    "hide_me\n",
    "\n",
    "degree = gss.copy()\n",
    "degree[\"Incomes\"] = pd.cut(degree.REALRINC, bins=[-1, 20000, 40000, 60000, 80000, 100000, np.inf],\\\n",
    "                          labels=['<$20K','$20K-40K','$40K-60K','$60K-80K', '$80K-100K', '>$100K'])\n",
    "\n",
    "#degree.head()\n",
    "#degree.fillna(0,inplace=True)\n",
    "\n",
    "degree_income = pd.pivot_table(degree, index='DEGREE', columns='Incomes', values = \"RACE\",aggfunc=\"count\").\\\n",
    "               reindex([\"Lt high school\", \"High school\", \"Junior college\", \"Bachelor\", \"Graduate\"])\n",
    "degree_income\n",
    "\n"
   ]
  },
  {
   "cell_type": "markdown",
   "metadata": {},
   "source": [
    "<div class=\"alert alert-info\">\n",
    "<b> Question:</b> \n",
    "Can you tell anything about the relationship by just looking at the raw counts?\n",
    "</div>    "
   ]
  },
  {
   "cell_type": "markdown",
   "metadata": {},
   "source": [
    "*Double click this cell to begin typing your answer*"
   ]
  },
  {
   "cell_type": "markdown",
   "metadata": {},
   "source": [
    "### (b) Row Percentages \n",
    "\n",
    "\n",
    "Now let's look at the row percentages!\n",
    "\n",
    "Percentage of people in each degree level in each income category.\n",
    "\n",
    "* Notice that this table just shows us percentages.\n",
    "* Notice also that the rows sum to 100 percent"
   ]
  },
  {
   "cell_type": "code",
   "execution_count": 8,
   "metadata": {
    "scrolled": true
   },
   "outputs": [
    {
     "data": {
      "text/html": [
       "<div>\n",
       "<style scoped>\n",
       "    .dataframe tbody tr th:only-of-type {\n",
       "        vertical-align: middle;\n",
       "    }\n",
       "\n",
       "    .dataframe tbody tr th {\n",
       "        vertical-align: top;\n",
       "    }\n",
       "\n",
       "    .dataframe thead th {\n",
       "        text-align: right;\n",
       "    }\n",
       "</style>\n",
       "<table border=\"1\" class=\"dataframe\">\n",
       "  <thead>\n",
       "    <tr style=\"text-align: right;\">\n",
       "      <th>Incomes</th>\n",
       "      <th>&lt;$20K</th>\n",
       "      <th>$20K-40K</th>\n",
       "      <th>$40K-60K</th>\n",
       "      <th>$60K-80K</th>\n",
       "      <th>$80K-100K</th>\n",
       "      <th>&gt;$100K</th>\n",
       "      <th>All</th>\n",
       "    </tr>\n",
       "    <tr>\n",
       "      <th>DEGREE</th>\n",
       "      <th></th>\n",
       "      <th></th>\n",
       "      <th></th>\n",
       "      <th></th>\n",
       "      <th></th>\n",
       "      <th></th>\n",
       "      <th></th>\n",
       "    </tr>\n",
       "  </thead>\n",
       "  <tbody>\n",
       "    <tr>\n",
       "      <th>Lt high school</th>\n",
       "      <td>92.330905</td>\n",
       "      <td>6.565099</td>\n",
       "      <td>0.735998</td>\n",
       "      <td>0.110400</td>\n",
       "      <td>0.139840</td>\n",
       "      <td>0.117760</td>\n",
       "      <td>100.0</td>\n",
       "    </tr>\n",
       "    <tr>\n",
       "      <th>High school</th>\n",
       "      <td>80.039163</td>\n",
       "      <td>16.415123</td>\n",
       "      <td>2.440127</td>\n",
       "      <td>0.313300</td>\n",
       "      <td>0.346438</td>\n",
       "      <td>0.445850</td>\n",
       "      <td>100.0</td>\n",
       "    </tr>\n",
       "    <tr>\n",
       "      <th>Junior college</th>\n",
       "      <td>68.429662</td>\n",
       "      <td>25.845147</td>\n",
       "      <td>4.225736</td>\n",
       "      <td>0.599782</td>\n",
       "      <td>0.272628</td>\n",
       "      <td>0.627045</td>\n",
       "      <td>100.0</td>\n",
       "    </tr>\n",
       "    <tr>\n",
       "      <th>Bachelor</th>\n",
       "      <td>57.783641</td>\n",
       "      <td>28.284960</td>\n",
       "      <td>7.957784</td>\n",
       "      <td>1.878628</td>\n",
       "      <td>1.572559</td>\n",
       "      <td>2.522427</td>\n",
       "      <td>100.0</td>\n",
       "    </tr>\n",
       "    <tr>\n",
       "      <th>Graduate</th>\n",
       "      <td>43.363020</td>\n",
       "      <td>30.661578</td>\n",
       "      <td>13.189143</td>\n",
       "      <td>3.350297</td>\n",
       "      <td>3.307888</td>\n",
       "      <td>6.128075</td>\n",
       "      <td>100.0</td>\n",
       "    </tr>\n",
       "  </tbody>\n",
       "</table>\n",
       "</div>"
      ],
      "text/plain": [
       "Incomes             <$20K   $20K-40K   $40K-60K  $60K-80K  $80K-100K  \\\n",
       "DEGREE                                                                 \n",
       "Lt high school  92.330905   6.565099   0.735998  0.110400   0.139840   \n",
       "High school     80.039163  16.415123   2.440127  0.313300   0.346438   \n",
       "Junior college  68.429662  25.845147   4.225736  0.599782   0.272628   \n",
       "Bachelor        57.783641  28.284960   7.957784  1.878628   1.572559   \n",
       "Graduate        43.363020  30.661578  13.189143  3.350297   3.307888   \n",
       "\n",
       "Incomes           >$100K    All  \n",
       "DEGREE                           \n",
       "Lt high school  0.117760  100.0  \n",
       "High school     0.445850  100.0  \n",
       "Junior college  0.627045  100.0  \n",
       "Bachelor        2.522427  100.0  \n",
       "Graduate        6.128075  100.0  "
      ]
     },
     "execution_count": 8,
     "metadata": {},
     "output_type": "execute_result"
    }
   ],
   "source": [
    "hide_me\n",
    "degree[\"Degree\"] = gss[\"DEGREE\"]\n",
    "degree_income = pd.pivot_table(degree, index='DEGREE', columns='Incomes', values = \"Degree\",aggfunc=\"count\",margins=True).\\\n",
    "               reindex([\"Lt high school\", \"High school\", \"Junior college\", \"Bachelor\", \"Graduate\"])\n",
    "\n",
    "degree_income.div(degree_income.iloc[:,-1], axis=0)*100 "
   ]
  },
  {
   "cell_type": "markdown",
   "metadata": {},
   "source": [
    "<div class=\"alert alert-info\">\n",
    "<b> Question:</b> \n",
    "Now that we have the added the row percentages, What can you conclude about the relationship between the variables? \n",
    "    </div>    "
   ]
  },
  {
   "cell_type": "markdown",
   "metadata": {},
   "source": [
    "*Double click this cell to begin typing your answer*"
   ]
  },
  {
   "cell_type": "markdown",
   "metadata": {},
   "source": [
    "### (c) An alternative: conditional means\n",
    "\n",
    "\n",
    "Notice that above we used the income variable as an ordinal variable by breaking it into categories. That was necessary for the cross-tab. We can also keep it as a ratio variable and look at the mean of income by groups defined by other variables. Now let's visualize that data! We chose a barplot that utilizes vertical bars. This type of visualization is useful when you want to compare categorical and continuous variables.\n",
    "\n",
    "* This plot displays mean yearly income by degree."
   ]
  },
  {
   "cell_type": "code",
   "execution_count": 9,
   "metadata": {},
   "outputs": [
    {
     "data": {
      "text/plain": [
       "<matplotlib.axes._subplots.AxesSubplot at 0x11d0c8128>"
      ]
     },
     "execution_count": 9,
     "metadata": {},
     "output_type": "execute_result"
    },
    {
     "data": {
      "image/png": "[encoded data removed]",
      "text/plain": [
       "<Figure size 576x576 with 1 Axes>"
      ]
     },
     "metadata": {
      "needs_background": "light"
     },
     "output_type": "display_data"
    }
   ],
   "source": [
    "hide_me\n",
    " \n",
    "# Plot 1   \n",
    "#chart = sns.catplot(x='DEGREE', y='REALRINC', data=degree,order=[\"Lt high school\", \"High school\", \"Junior college\", \"Bachelor\", \"Graduate\"]);\n",
    "\n",
    "#chart.set_xticklabels(rotation=30)\n",
    "\n",
    "#plot 2\n",
    "\n",
    "recent_years = gss[gss[\"YEAR\"] > 1970]\n",
    "degree_income = recent_years[['DEGREE', 'REALRINC']].groupby('DEGREE').mean()\n",
    "degree_income.insert(0, \"Values\", [3, 5, 4, 1, 2, 0, 6], True)\n",
    "degree_income = degree_income.sort_values(by='Values')\n",
    "degree_income.reset_index(level=0, inplace=True)\n",
    "degree_income = degree_income[degree_income.DEGREE != \"Don't know\"].drop(['Values'], axis=1)\n",
    "degree_income = degree_income[degree_income.DEGREE != \"No answer\"]\n",
    "\n",
    "degree_income.plot.bar(x='DEGREE', y='REALRINC', rot=0, figsize=(8, 8))"
   ]
  },
  {
   "cell_type": "markdown",
   "metadata": {},
   "source": [
    "<div class=\"alert alert-info\">\n",
    "<b> Question:</b> \n",
    "Study the barplot. Do you think, just by looking at the plot we can tell whether there's a strong relationship between a person's highest degree and their yearly income? Why or why not?\n",
    "</div>    "
   ]
  },
  {
   "cell_type": "markdown",
   "metadata": {},
   "source": [
    "*Double click this cell to begin typing your answer*"
   ]
  },
  {
   "cell_type": "markdown",
   "metadata": {},
   "source": [
    "### 2) Negative Relation : HAPPY and TVHOURS\n",
    "\n",
    "In this section we will explote the relationship between happiness level (HAPPY) and the number of hours spent watching TV per day (TVHOURS)."
   ]
  },
  {
   "cell_type": "markdown",
   "metadata": {},
   "source": [
    "* We will begin by dropping some values. We dropped \"Don't know\", No answer\", Not applicable\", and \"Pretty happy\" in the variable HAPPY. Now we will only work with two values: \"Not too happy\" and \"Very happy\"."
   ]
  },
  {
   "cell_type": "code",
   "execution_count": 10,
   "metadata": {},
   "outputs": [
    {
     "data": {
      "text/html": [
       "<div>\n",
       "<style scoped>\n",
       "    .dataframe tbody tr th:only-of-type {\n",
       "        vertical-align: middle;\n",
       "    }\n",
       "\n",
       "    .dataframe tbody tr th {\n",
       "        vertical-align: top;\n",
       "    }\n",
       "\n",
       "    .dataframe thead th {\n",
       "        text-align: right;\n",
       "    }\n",
       "</style>\n",
       "<table border=\"1\" class=\"dataframe\">\n",
       "  <thead>\n",
       "    <tr style=\"text-align: right;\">\n",
       "      <th>HAPPY</th>\n",
       "      <th>Not too happy</th>\n",
       "      <th>Very happy</th>\n",
       "      <th>All</th>\n",
       "    </tr>\n",
       "    <tr>\n",
       "      <th>tv_week</th>\n",
       "      <th></th>\n",
       "      <th></th>\n",
       "      <th></th>\n",
       "    </tr>\n",
       "  </thead>\n",
       "  <tbody>\n",
       "    <tr>\n",
       "      <th>&lt;5 hrs</th>\n",
       "      <td>25.321409</td>\n",
       "      <td>74.667412</td>\n",
       "      <td>100.0</td>\n",
       "    </tr>\n",
       "    <tr>\n",
       "      <th>5-10 hrs</th>\n",
       "      <td>44.596132</td>\n",
       "      <td>55.403868</td>\n",
       "      <td>100.0</td>\n",
       "    </tr>\n",
       "    <tr>\n",
       "      <th>10-15 hrs</th>\n",
       "      <td>51.562500</td>\n",
       "      <td>48.437500</td>\n",
       "      <td>100.0</td>\n",
       "    </tr>\n",
       "    <tr>\n",
       "      <th>15-20 hrs</th>\n",
       "      <td>54.545455</td>\n",
       "      <td>45.454545</td>\n",
       "      <td>100.0</td>\n",
       "    </tr>\n",
       "    <tr>\n",
       "      <th>20-25 hrs</th>\n",
       "      <td>62.500000</td>\n",
       "      <td>37.500000</td>\n",
       "      <td>100.0</td>\n",
       "    </tr>\n",
       "    <tr>\n",
       "      <th>All</th>\n",
       "      <td>27.510000</td>\n",
       "      <td>72.490000</td>\n",
       "      <td>100.0</td>\n",
       "    </tr>\n",
       "  </tbody>\n",
       "</table>\n",
       "</div>"
      ],
      "text/plain": [
       "HAPPY      Not too happy  Very happy    All\n",
       "tv_week                                    \n",
       "<5 hrs         25.321409   74.667412  100.0\n",
       "5-10 hrs       44.596132   55.403868  100.0\n",
       "10-15 hrs      51.562500   48.437500  100.0\n",
       "15-20 hrs      54.545455   45.454545  100.0\n",
       "20-25 hrs      62.500000   37.500000  100.0\n",
       "All            27.510000   72.490000  100.0"
      ]
     },
     "execution_count": 10,
     "metadata": {},
     "output_type": "execute_result"
    }
   ],
   "source": [
    "hide_me\n",
    "tv_happy = gss.loc[((gss['HAPPY'] != \"Don't know\") & (gss['HAPPY'] != \"No answer\")\\\n",
    "                      & (gss['HAPPY'] != \"Not applicable\") & (gss['HAPPY'] != \"Pretty happy\"))] \n",
    "tv_happy['tv_week'] = pd.cut(x = tv_happy['TVHOURS'], bins=[-1, 5, 10, 15, 20, 25],\\\n",
    "                                        labels = [\"<5 hrs\", \"5-10 hrs\", \"10-15 hrs\", \"15-20 hrs\", \"20-25 hrs\"])\n",
    "tv_happy = pd.crosstab(tv_happy.tv_week, tv_happy.HAPPY, margins=True, normalize = True).round(4)*100\n",
    "\n",
    "100 * tv_happy.div(tv_happy[\"All\"], axis = 0) "
   ]
  },
  {
   "cell_type": "markdown",
   "metadata": {},
   "source": [
    "Notice that \"Not too happy\" and \"Very happy\" are the only two values. This means that a decrease in one directly correspondes with an increase in the other. "
   ]
  },
  {
   "cell_type": "markdown",
   "metadata": {},
   "source": [
    "<div class=\"alert alert-info\">\n",
    "<b> Question:</b> \n",
    "Is there a **positive** or **negative** relationship between TVHOURS and HAPPY? HINT: How does the happiness level change as the number of TV Hours changes?\n",
    "\n",
    "Bonus Question: Can we necessarily conclude from these data that TVHOURS causes HAPPY? (think about the criteria for causality)?\n",
    "</div>    "
   ]
  },
  {
   "cell_type": "markdown",
   "metadata": {},
   "source": [
    "*Double click this cell to begin typing your answer*"
   ]
  },
  {
   "cell_type": "markdown",
   "metadata": {},
   "source": [
    "---\n",
    "##  Cross-Tab:  Strong and Weak <a id='s2'></a>\n",
    "When we we say, \"what is the **strength** of the relationship?\", what we are really asking is **\"how well does one variable predict the other?\"** In other words, if you knew a respondent's value on one variable, how good a job could you do guessing their value on the second variable? If two variables are strongly related, then one variable is a better predictor the other variable, compared to when the two variables are only weakly related. Let's walk you through some examples to try to get the idea."
   ]
  },
  {
   "cell_type": "markdown",
   "metadata": {},
   "source": [
    "### 1)  Strong Relation : RACE and DEGREE\n",
    "\n",
    "In this section below we will explore the variables RACE and DEGREE."
   ]
  },
  {
   "cell_type": "markdown",
   "metadata": {},
   "source": [
    "What is the relationship between RACE and DEGREE? We can look at this with a cross-tab of RACE by DEGREE.  \n",
    "\n",
    "* We removed cases where the DEGREE responses were \"Don't Know\" or \"No answer\"\n",
    "* Notice that the numbers in the table are precentages. Although the row totals are not shown, the percentages sum to 100 across rows. "
   ]
  },
  {
   "cell_type": "code",
   "execution_count": 11,
   "metadata": {},
   "outputs": [
    {
     "data": {
      "text/html": [
       "<div>\n",
       "<style scoped>\n",
       "    .dataframe tbody tr th:only-of-type {\n",
       "        vertical-align: middle;\n",
       "    }\n",
       "\n",
       "    .dataframe tbody tr th {\n",
       "        vertical-align: top;\n",
       "    }\n",
       "\n",
       "    .dataframe thead th {\n",
       "        text-align: right;\n",
       "    }\n",
       "</style>\n",
       "<table border=\"1\" class=\"dataframe\">\n",
       "  <thead>\n",
       "    <tr style=\"text-align: right;\">\n",
       "      <th>DEGREE</th>\n",
       "      <th>Lt high school</th>\n",
       "      <th>High school</th>\n",
       "      <th>Junior college</th>\n",
       "      <th>Bachelor</th>\n",
       "      <th>Graduate</th>\n",
       "    </tr>\n",
       "    <tr>\n",
       "      <th>RACE</th>\n",
       "      <th></th>\n",
       "      <th></th>\n",
       "      <th></th>\n",
       "      <th></th>\n",
       "      <th></th>\n",
       "    </tr>\n",
       "  </thead>\n",
       "  <tbody>\n",
       "    <tr>\n",
       "      <th>Black</th>\n",
       "      <td>29.49</td>\n",
       "      <td>51.64</td>\n",
       "      <td>6.17</td>\n",
       "      <td>8.76</td>\n",
       "      <td>3.86</td>\n",
       "    </tr>\n",
       "    <tr>\n",
       "      <th>Other</th>\n",
       "      <td>27.07</td>\n",
       "      <td>42.01</td>\n",
       "      <td>6.36</td>\n",
       "      <td>15.25</td>\n",
       "      <td>9.26</td>\n",
       "    </tr>\n",
       "    <tr>\n",
       "      <th>White</th>\n",
       "      <td>19.10</td>\n",
       "      <td>51.92</td>\n",
       "      <td>5.54</td>\n",
       "      <td>15.65</td>\n",
       "      <td>7.76</td>\n",
       "    </tr>\n",
       "    <tr>\n",
       "      <th>All</th>\n",
       "      <td>21.01</td>\n",
       "      <td>51.33</td>\n",
       "      <td>5.67</td>\n",
       "      <td>14.65</td>\n",
       "      <td>7.29</td>\n",
       "    </tr>\n",
       "  </tbody>\n",
       "</table>\n",
       "</div>"
      ],
      "text/plain": [
       "DEGREE  Lt high school  High school  Junior college  Bachelor  Graduate\n",
       "RACE                                                                   \n",
       "Black            29.49        51.64            6.17      8.76      3.86\n",
       "Other            27.07        42.01            6.36     15.25      9.26\n",
       "White            19.10        51.92            5.54     15.65      7.76\n",
       "All              21.01        51.33            5.67     14.65      7.29"
      ]
     },
     "execution_count": 11,
     "metadata": {},
     "output_type": "execute_result"
    }
   ],
   "source": [
    "hide_me\n",
    "dr = gss.loc[((gss['DEGREE'] != \"Don’t know\") & (gss[\"DEGREE\"] != \"No answer\"))]\n",
    "degree_race = pd.crosstab(dr.RACE, dr.DEGREE, normalize = \"index\", margins=True).round(4)*100\n",
    "degree_race = degree_race.reindex([\"Lt high school\", \"High school\", \"Junior college\", \"Bachelor\", \"Graduate\"], \\\n",
    "                 axis=\"columns\")\n",
    "\n",
    "degree_race "
   ]
  },
  {
   "cell_type": "markdown",
   "metadata": {},
   "source": [
    "<div class=\"alert alert-info\">\n",
    "<b> Question:</b> \n",
    "Would you say that there is a strong relationship between these variables? Why\n",
    "\n",
    "<b> Another Question:</b> \n",
    "Does it make sense to ask whether this relatinship is positive or negative? HINT: Which type of variable is RACE: ordinal or nominal?\n",
    "     \n",
    "<div/>"
   ]
  },
  {
   "cell_type": "markdown",
   "metadata": {},
   "source": [
    "*Double click this cell to begin typing your answer*"
   ]
  },
  {
   "cell_type": "markdown",
   "metadata": {},
   "source": [
    "### 2)  Weak Relationship: CHILDS and HRS1\n",
    "\n",
    "We will now explore the associations between the number of children (CHILDS) and the number of hours worked last week (HRS1).\n",
    "\n",
    "* We grouped CHILDS into 4 categories,(\"1 or None\", \"2 or 3\", \"4 or 5\", \"more than 5\") and\n",
    "* HRS1 into 6 categories (\"<15\", \"15-30\", \"30-45\",\"45-60\", \"60-75\", \">75\")."
   ]
  },
  {
   "cell_type": "code",
   "execution_count": 12,
   "metadata": {},
   "outputs": [
    {
     "data": {
      "text/html": [
       "<div>\n",
       "<style scoped>\n",
       "    .dataframe tbody tr th:only-of-type {\n",
       "        vertical-align: middle;\n",
       "    }\n",
       "\n",
       "    .dataframe tbody tr th {\n",
       "        vertical-align: top;\n",
       "    }\n",
       "\n",
       "    .dataframe thead th {\n",
       "        text-align: right;\n",
       "    }\n",
       "</style>\n",
       "<table border=\"1\" class=\"dataframe\">\n",
       "  <thead>\n",
       "    <tr style=\"text-align: right;\">\n",
       "      <th>Hours worked per week</th>\n",
       "      <th>&lt;15</th>\n",
       "      <th>15-30</th>\n",
       "      <th>30-45</th>\n",
       "      <th>45-60</th>\n",
       "      <th>60-75</th>\n",
       "      <th>&gt;75</th>\n",
       "      <th>All</th>\n",
       "    </tr>\n",
       "    <tr>\n",
       "      <th>childs</th>\n",
       "      <th></th>\n",
       "      <th></th>\n",
       "      <th></th>\n",
       "      <th></th>\n",
       "      <th></th>\n",
       "      <th></th>\n",
       "      <th></th>\n",
       "    </tr>\n",
       "  </thead>\n",
       "  <tbody>\n",
       "    <tr>\n",
       "      <th>1 or None</th>\n",
       "      <td>4.339317</td>\n",
       "      <td>12.620925</td>\n",
       "      <td>54.946038</td>\n",
       "      <td>22.216630</td>\n",
       "      <td>3.998211</td>\n",
       "      <td>1.878879</td>\n",
       "      <td>100.0</td>\n",
       "    </tr>\n",
       "    <tr>\n",
       "      <th>2 or 3</th>\n",
       "      <td>5.388346</td>\n",
       "      <td>12.583881</td>\n",
       "      <td>52.395190</td>\n",
       "      <td>23.134675</td>\n",
       "      <td>4.358514</td>\n",
       "      <td>2.139393</td>\n",
       "      <td>100.0</td>\n",
       "    </tr>\n",
       "    <tr>\n",
       "      <th>4 or 5</th>\n",
       "      <td>5.823864</td>\n",
       "      <td>14.886364</td>\n",
       "      <td>51.221591</td>\n",
       "      <td>20.738636</td>\n",
       "      <td>4.545455</td>\n",
       "      <td>2.784091</td>\n",
       "      <td>100.0</td>\n",
       "    </tr>\n",
       "    <tr>\n",
       "      <th>more than 5</th>\n",
       "      <td>6.338028</td>\n",
       "      <td>17.464789</td>\n",
       "      <td>51.126761</td>\n",
       "      <td>18.169014</td>\n",
       "      <td>4.366197</td>\n",
       "      <td>2.535211</td>\n",
       "      <td>100.0</td>\n",
       "    </tr>\n",
       "    <tr>\n",
       "      <th>All</th>\n",
       "      <td>4.202992</td>\n",
       "      <td>4.942956</td>\n",
       "      <td>12.913034</td>\n",
       "      <td>53.487246</td>\n",
       "      <td>22.371112</td>\n",
       "      <td>2.082661</td>\n",
       "      <td>100.0</td>\n",
       "    </tr>\n",
       "  </tbody>\n",
       "</table>\n",
       "</div>"
      ],
      "text/plain": [
       "Hours worked per week       <15      15-30      30-45      45-60      60-75  \\\n",
       "childs                                                                        \n",
       "1 or None              4.339317  12.620925  54.946038  22.216630   3.998211   \n",
       "2 or 3                 5.388346  12.583881  52.395190  23.134675   4.358514   \n",
       "4 or 5                 5.823864  14.886364  51.221591  20.738636   4.545455   \n",
       "more than 5            6.338028  17.464789  51.126761  18.169014   4.366197   \n",
       "All                    4.202992   4.942956  12.913034  53.487246  22.371112   \n",
       "\n",
       "Hours worked per week       >75    All  \n",
       "childs                                  \n",
       "1 or None              1.878879  100.0  \n",
       "2 or 3                 2.139393  100.0  \n",
       "4 or 5                 2.784091  100.0  \n",
       "more than 5            2.535211  100.0  \n",
       "All                    2.082661  100.0  "
      ]
     },
     "execution_count": 12,
     "metadata": {},
     "output_type": "execute_result"
    }
   ],
   "source": [
    "hide_me\n",
    "gss[\"childs\"] = pd.cut(x = gss[\"CHILDS\"], bins=[-1, 1, 3, 5, 7],\\\n",
    "           labels = [\"1 or None\", \"2 or 3\", \"4 or 5\", \"more than 5\"])\n",
    "gss[\"Hours worked per week\"] = pd.cut(x = gss[\"HRS1\"], bins=[-1, 15, 30, 45, 60, 75, 90], \\\n",
    "              labels=[\"<15\",\"15-30\",\"30-45\",\"45-60\", \"60-75\", \">75\"])\n",
    "work_child = pd.pivot_table(gss, index = \"childs\", columns = \"Hours worked per week\", values = \"CHILDS\",\\\n",
    "                            aggfunc = \"count\", margins=True)\n",
    "work_child.div(work_child.iloc[:,-1], axis=0)*100\n",
    "\n"
   ]
  },
  {
   "cell_type": "markdown",
   "metadata": {},
   "source": [
    "<div class=\"alert alert-info\">\n",
    "<b> Question:</b> \n",
    "Do you see a relationship between the variables? How do you know?\n",
    "\n",
    "<b> Follow-up Question:</b> Do you think that the way we grouped the variables into categories affected the conclusions? Would you have grouped it differently?\n",
    "\n",
    " </div>  "
   ]
  },
  {
   "cell_type": "markdown",
   "metadata": {},
   "source": [
    "*Double click this cell to begin typing your answer*"
   ]
  },
  {
   "cell_type": "markdown",
   "metadata": {},
   "source": [
    "--- \n",
    "\n",
    "## Correlation <a id='2'></a> \n",
    "\n",
    "### The correlation coefficient - r\n",
    "* r is a numerical measure of correlation ranging from -1 to 1. It gives us information about the strength and direction of the relationship between two continuous (interval or ratio) variables.\n",
    "* Although there are different types of correlation, we will use \"Pearson's correlation\" or \"Pearson's R\".\n",
    "\n",
    "#### How to interpret r\n",
    "* r = 1: a perfect positive relationship\n",
    "* r = -1: a perfect negative relationship\n",
    "* r = 0: no relationship at all\n",
    "\n",
    "These are some examples of different correlations, r:\n",
    "\n",
    "\n",
    "![](correlation-examples.svg) \n",
    "\n",
    "If you would like to learn more about how to calculate the corraltion coefficient please visit https://www.inferentialthinking.com/chapters/15/1/Correlation for more details, but you won't be responsible for that in this course."
   ]
  },
  {
   "cell_type": "markdown",
   "metadata": {},
   "source": [
    "---\n",
    "\n",
    "## Intercept and Slope: Bivariate Regression Line <a id='3'></a>"
   ]
  },
  {
   "cell_type": "markdown",
   "metadata": {},
   "source": [
    "### What is a regression line?\n",
    "* Linear regression allows us to examine the relationships between two or more varaibles. \n",
    "    * For the purpose of this notebook we will only be working with two. Namely X-independent variable and Y-dependent variable.\n",
    "* Linear regression allows us to predict one variable from another. In this case we will predict Y from X.\n",
    "* There are many predictive models that help us estimate the relationships in our data. However, the goal of a simple linear regression is to create a linear model that minimizes the sum of squared errors. Making it the line with the \"best fit\" of all possible lines we could draw.\n",
    "    * The error represents how far off our obervations (real data) are from our predicted values (data from our model).\n",
    "    * For instance, if we had a data point, say with a Y value of 5, and our model predicted that it would be 7. Our squared error would be (5-7)^2= 4.\n",
    "    \n",
    "    \n",
    "![](residuals.png) \n",
    "\n",
    "### The linear regression line as an equation   <a id='s5'></a>\n",
    "First some definitions:\n",
    "\n",
    "General format: $Y_i =\\beta_0 +\\beta_1Xi+\\epsilon_i$ but when we are doing simple linea rgression we write it like this $E(Y_i) =\\beta_0 +\\beta_1Xi$, which is the mean of y, for a given x.\n",
    "\n",
    "$Y_i$: Dependent variable (also called response or outcome variable)\n",
    "\n",
    "$\\beta_0$: Intercept (*intepretation:* the value of Y when X is zero)\n",
    "\n",
    "$\\beta_1$: Slope (*intepretation:* the change in Y corresponding to a one unit change in X)\n",
    "\n",
    "$\\epsilon_0$: Error (unexplained variation in Y, also called a \"residual\")\n",
    "\n",
    "source: https://www.inferentialthinking.com/chapters/15/2/Regression_Line\n",
    "\n",
    "source: http://statisticsbyjim.com/regression/interpret-r-squared-regression/\n",
    "\n",
    "source: http://blog.minitab.com/blog/adventures-in-statistics-2/regression-analysis-how-do-i-interpret-r-squared-and-assess-the-goodness-of-fit\n",
    "\n",
    "---"
   ]
  },
  {
   "cell_type": "markdown",
   "metadata": {},
   "source": [
    "--- \n",
    "\n",
    "### Example equation\n",
    "\n",
    "\n",
    "![](father_son.png) \n",
    "\n",
    "* Notice that in order to find a line that helps us predict values, all we need to do is find the slope and intercept.\n",
    "* In this example, the regression line predeicts the son's height from the father's height.\n",
    "* The equation for the regression line would look like:\n",
    "\n",
    "$SONH_i= \\beta_0 + \\beta_1 FATHERHA + \\epsilon_i$\n",
    "\n",
    "source: https://galton.uchicago.edu/~wichura/Stat200/Handouts/C10.pdf\n",
    "\n",
    "\n",
    "--- \n"
   ]
  },
  {
   "cell_type": "markdown",
   "metadata": {},
   "source": [
    "---\n",
    "## Regression Examples:  <a id='s7'></a>\n",
    "\n",
    "\n",
    "### 1) Positive Relationship\n",
    "\n",
    "In the scatterplot below we will compare a respondent's personal income with their family income. We can see that the relationship between the two values is positive (the regression line is going up from left to right). Each dot represents data from one respondent.\n"
   ]
  },
  {
   "cell_type": "markdown",
   "metadata": {},
   "source": [
    "Scatter plot of respondent's income (REALRINC) and family income (REALINC ($))."
   ]
  },
  {
   "cell_type": "code",
   "execution_count": 13,
   "metadata": {},
   "outputs": [
    {
     "data": {
      "text/plain": [
       "Text(0, 0.5, 'Personal Income')"
      ]
     },
     "execution_count": 13,
     "metadata": {},
     "output_type": "execute_result"
    },
    {
     "data": {
      "image/png": "[encoded data removed]",
      "text/plain": [
       "<Figure size 720x504 with 1 Axes>"
      ]
     },
     "metadata": {
      "needs_background": "light"
     },
     "output_type": "display_data"
    }
   ],
   "source": [
    "hide_me\n",
    "sample_salary = gss.sample(500)\n",
    "sample_salary.plot(kind='scatter', x='REALINC ($)', y='REALRINC', color='green',alpha=0.5, figsize=(10,7))\n",
    "plt.legend(labels=['Income'])\n",
    "plt.title('Salary', size=20)\n",
    "plt.xlabel('Family Income', size=18)\n",
    "plt.ylabel('Personal Income', size=18)"
   ]
  },
  {
   "cell_type": "markdown",
   "metadata": {},
   "source": [
    "Now let's add the regression line for respondent's income (REALRINC) and family income (REALINC)."
   ]
  },
  {
   "cell_type": "code",
   "execution_count": 14,
   "metadata": {},
   "outputs": [
    {
     "data": {
      "image/png": "[encoded data removed]",
      "text/plain": [
       "<Figure size 792x432 with 1 Axes>"
      ]
     },
     "metadata": {
      "needs_background": "light"
     },
     "output_type": "display_data"
    }
   ],
   "source": [
    "hide_me\n",
    "#sns.regplot(x='REALINC ($)', y='REALRINC', data = sample_salary, line_kws={'color': 'red'}).figure.set_size_inches(11, 6)\n",
    "sns.regplot(x='REALINC ($)', y='REALRINC', data =sample_salary , line_kws={'color': 'red'}).figure.set_size_inches(11, 6)\n",
    "\n",
    "\n",
    "\n",
    "#resp_fam_corr = gss['EDUC'].corr(gss['YEAR'], method ='pearson')\n",
    "#resp_fam_corr "
   ]
  },
  {
   "cell_type": "markdown",
   "metadata": {},
   "source": [
    "<div class=\"alert alert-info\">\n",
    "<b> Question:</b> \n",
    "\n",
    "We have seen relationships before, but in cross-tabs. Can you tell just by looking at the plot whether the relationship between variables is positive or negative? Strong or weak?\n",
    "</div>    "
   ]
  },
  {
   "cell_type": "markdown",
   "metadata": {},
   "source": [
    "*Double click this cell to begin typing your answer*"
   ]
  },
  {
   "cell_type": "markdown",
   "metadata": {},
   "source": [
    "### 2) Negative Correlation"
   ]
  },
  {
   "cell_type": "markdown",
   "metadata": {},
   "source": [
    "Scatter plot of number of hours worked last week (HRS1) and number of hours watching TV (TVHOURS)."
   ]
  },
  {
   "cell_type": "code",
   "execution_count": 15,
   "metadata": {},
   "outputs": [
    {
     "data": {
      "text/plain": [
       "Text(0, 0.5, 'Work Hours')"
      ]
     },
     "execution_count": 15,
     "metadata": {},
     "output_type": "execute_result"
    },
    {
     "data": {
      "image/png": "[encoded data removed]",
      "text/plain": [
       "<Figure size 720x504 with 1 Axes>"
      ]
     },
     "metadata": {
      "needs_background": "light"
     },
     "output_type": "display_data"
    }
   ],
   "source": [
    "hide_me\n",
    "gss.plot(kind='scatter', x='TVHOURS', y='EDUC', color='green',alpha=0.5, figsize=(10,7))\n",
    "plt.legend(labels=['Hours'])\n",
    "plt.title('Watching TV vs. Working', size=20)\n",
    "plt.xlabel('TV Hours', size=18)\n",
    "plt.ylabel('Work Hours', size=18)"
   ]
  },
  {
   "cell_type": "markdown",
   "metadata": {},
   "source": [
    "<div class=\"alert alert-info\">\n",
    "<b> Question:</b> \n",
    "\n",
    "Based on the above scatteplot, can you tell whether the relationship is positive or negative? Strong or Weak? Why or why not?\n",
    "\n",
    "</div>    "
   ]
  },
  {
   "cell_type": "markdown",
   "metadata": {},
   "source": [
    "*Double click this cell to begin typing your answer*"
   ]
  },
  {
   "cell_type": "markdown",
   "metadata": {},
   "source": [
    "Now let's add the regression line for number of hours worked last week (HRS1) and number of hours watching TV (TVHOURS)."
   ]
  },
  {
   "cell_type": "code",
   "execution_count": 16,
   "metadata": {},
   "outputs": [
    {
     "data": {
      "image/png": "[encoded data removed]",
      "text/plain": [
       "<Figure size 504x432 with 1 Axes>"
      ]
     },
     "metadata": {
      "needs_background": "light"
     },
     "output_type": "display_data"
    }
   ],
   "source": [
    "hide_me\n",
    "sns.regplot( x='TVHOURS', y='EDUC', data = gss, line_kws={'color': 'red'}).figure.set_size_inches(7, 6)"
   ]
  },
  {
   "cell_type": "markdown",
   "metadata": {},
   "source": [
    "<div class=\"alert alert-info\">\n",
    "<b> Question:</b> \n",
    "Is there a positive or negative relationship? Strong or weak? <br>\n",
    "\n",
    "\n",
    "<b> Follow-up Question:</b> \n",
    "Can you guess what the intercept and slope are from the graph?\n",
    "\n",
    "</div>    "
   ]
  },
  {
   "cell_type": "markdown",
   "metadata": {},
   "source": [
    "*Double click this cell to begin typing your answer*"
   ]
  },
  {
   "cell_type": "markdown",
   "metadata": {},
   "source": [
    "---\n",
    "\n",
    "## Brief Introduction to Sampling Error <a id='4'></a>\n",
    "\n"
   ]
  },
  {
   "cell_type": "markdown",
   "metadata": {},
   "source": [
    "We collect data on a sample (subset) of the population we are interested in because it is usually too expensive to collect data on every member of the population. For example, the GSS is a sample of the US population in each survey year. It would be impossible to collect data from everyone in the United States. <p>\n",
    "\n",
    "If we take a random sample, we usually assume that the sample is representative of the population. That means that any statistic we calcaulte from the sample will approximate the corresponding number (\"parameter\") in the population. For example, if we calculate the mean family income in the sample, we expect that it will be a good approximation of the mean family income in the population as a whole. But is this always true? <p>\n",
    "    \n",
    "Any particular sample may not be perfect representation of the population. This is called **sampling error**. Just by chance, we could get a smaller or larger number for the mean of family income, or any other statistic we want to calculate.<p>\n",
    "    \n",
    "In this section, we will illustrate this idea by pretending that the GSS data are actually the population (not a sample). We will draw small random samples (of 300 people) from the GSS data and see how the mean of family income differs between the sample and the overall GSS, our pretend population. <p>\n",
    "\n",
    "Then we will also look at how much variation there is across these random samples. That will give us a good sense of how much sampling error there might be in any one sample of that same size. "
   ]
  },
  {
   "cell_type": "markdown",
   "metadata": {},
   "source": [
    "Let's first draw our sample of 300 from the GSS. The data from the first five respondents in the new sample follow. "
   ]
  },
  {
   "cell_type": "code",
   "execution_count": 17,
   "metadata": {},
   "outputs": [
    {
     "data": {
      "text/html": [
       "<div>\n",
       "<style scoped>\n",
       "    .dataframe tbody tr th:only-of-type {\n",
       "        vertical-align: middle;\n",
       "    }\n",
       "\n",
       "    .dataframe tbody tr th {\n",
       "        vertical-align: top;\n",
       "    }\n",
       "\n",
       "    .dataframe thead th {\n",
       "        text-align: right;\n",
       "    }\n",
       "</style>\n",
       "<table border=\"1\" class=\"dataframe\">\n",
       "  <thead>\n",
       "    <tr style=\"text-align: right;\">\n",
       "      <th></th>\n",
       "      <th>YEAR</th>\n",
       "      <th>REALINC ($)</th>\n",
       "      <th>TVHOURS</th>\n",
       "      <th>POLHITOK</th>\n",
       "      <th>CLASS</th>\n",
       "      <th>HAPPY</th>\n",
       "      <th>VISIONS</th>\n",
       "      <th>ESP</th>\n",
       "      <th>DEJAVU</th>\n",
       "      <th>REGION</th>\n",
       "      <th>RACE</th>\n",
       "      <th>DEGREE</th>\n",
       "      <th>EDUC</th>\n",
       "      <th>CHILDS</th>\n",
       "      <th>SIBS</th>\n",
       "      <th>HRS1</th>\n",
       "      <th>REALRINC</th>\n",
       "      <th>childs</th>\n",
       "      <th>Hours worked per week</th>\n",
       "    </tr>\n",
       "  </thead>\n",
       "  <tbody>\n",
       "    <tr>\n",
       "      <th>25798</th>\n",
       "      <td>1990</td>\n",
       "      <td>39919.00</td>\n",
       "      <td>2.0</td>\n",
       "      <td>Not applicable</td>\n",
       "      <td>Working class</td>\n",
       "      <td>Very happy</td>\n",
       "      <td>Not applicable</td>\n",
       "      <td>Not applicable</td>\n",
       "      <td>Not applicable</td>\n",
       "      <td>Pacific</td>\n",
       "      <td>White</td>\n",
       "      <td>High school</td>\n",
       "      <td>12.0</td>\n",
       "      <td>2.0</td>\n",
       "      <td>7.0</td>\n",
       "      <td>46.0</td>\n",
       "      <td>39919.00</td>\n",
       "      <td>2 or 3</td>\n",
       "      <td>45-60</td>\n",
       "    </tr>\n",
       "    <tr>\n",
       "      <th>7535</th>\n",
       "      <td>1976</td>\n",
       "      <td>25465.00</td>\n",
       "      <td>NaN</td>\n",
       "      <td>No</td>\n",
       "      <td>Middle class</td>\n",
       "      <td>Very happy</td>\n",
       "      <td>Not applicable</td>\n",
       "      <td>Not applicable</td>\n",
       "      <td>Not applicable</td>\n",
       "      <td>South atlantic</td>\n",
       "      <td>White</td>\n",
       "      <td>Bachelor</td>\n",
       "      <td>16.0</td>\n",
       "      <td>1.0</td>\n",
       "      <td>5.0</td>\n",
       "      <td>50.0</td>\n",
       "      <td>9167.00</td>\n",
       "      <td>1 or None</td>\n",
       "      <td>45-60</td>\n",
       "    </tr>\n",
       "    <tr>\n",
       "      <th>58308</th>\n",
       "      <td>2014</td>\n",
       "      <td>11233.75</td>\n",
       "      <td>NaN</td>\n",
       "      <td>Don't know</td>\n",
       "      <td>Working class</td>\n",
       "      <td>Pretty happy</td>\n",
       "      <td>Not applicable</td>\n",
       "      <td>Not applicable</td>\n",
       "      <td>Not applicable</td>\n",
       "      <td>E. nor. central</td>\n",
       "      <td>Other</td>\n",
       "      <td>Lt high school</td>\n",
       "      <td>5.0</td>\n",
       "      <td>3.0</td>\n",
       "      <td>8.0</td>\n",
       "      <td>NaN</td>\n",
       "      <td>7686.25</td>\n",
       "      <td>2 or 3</td>\n",
       "      <td>NaN</td>\n",
       "    </tr>\n",
       "    <tr>\n",
       "      <th>43664</th>\n",
       "      <td>2002</td>\n",
       "      <td>23463.75</td>\n",
       "      <td>2.0</td>\n",
       "      <td>Yes</td>\n",
       "      <td>Working class</td>\n",
       "      <td>Pretty happy</td>\n",
       "      <td>Not applicable</td>\n",
       "      <td>Not applicable</td>\n",
       "      <td>Not applicable</td>\n",
       "      <td>Middle atlantic</td>\n",
       "      <td>White</td>\n",
       "      <td>Bachelor</td>\n",
       "      <td>16.0</td>\n",
       "      <td>0.0</td>\n",
       "      <td>2.0</td>\n",
       "      <td>40.0</td>\n",
       "      <td>0.00</td>\n",
       "      <td>1 or None</td>\n",
       "      <td>30-45</td>\n",
       "    </tr>\n",
       "    <tr>\n",
       "      <th>2222</th>\n",
       "      <td>1973</td>\n",
       "      <td>45866.00</td>\n",
       "      <td>NaN</td>\n",
       "      <td>Yes</td>\n",
       "      <td>Working class</td>\n",
       "      <td>Pretty happy</td>\n",
       "      <td>Not applicable</td>\n",
       "      <td>Not applicable</td>\n",
       "      <td>Not applicable</td>\n",
       "      <td>Mountain</td>\n",
       "      <td>White</td>\n",
       "      <td>Lt high school</td>\n",
       "      <td>11.0</td>\n",
       "      <td>0.0</td>\n",
       "      <td>4.0</td>\n",
       "      <td>40.0</td>\n",
       "      <td>0.00</td>\n",
       "      <td>1 or None</td>\n",
       "      <td>30-45</td>\n",
       "    </tr>\n",
       "  </tbody>\n",
       "</table>\n",
       "</div>"
      ],
      "text/plain": [
       "       YEAR  REALINC ($)  TVHOURS        POLHITOK          CLASS  \\\n",
       "25798  1990     39919.00      2.0  Not applicable  Working class   \n",
       "7535   1976     25465.00      NaN              No   Middle class   \n",
       "58308  2014     11233.75      NaN      Don't know  Working class   \n",
       "43664  2002     23463.75      2.0             Yes  Working class   \n",
       "2222   1973     45866.00      NaN             Yes  Working class   \n",
       "\n",
       "              HAPPY         VISIONS             ESP          DEJAVU  \\\n",
       "25798    Very happy  Not applicable  Not applicable  Not applicable   \n",
       "7535     Very happy  Not applicable  Not applicable  Not applicable   \n",
       "58308  Pretty happy  Not applicable  Not applicable  Not applicable   \n",
       "43664  Pretty happy  Not applicable  Not applicable  Not applicable   \n",
       "2222   Pretty happy  Not applicable  Not applicable  Not applicable   \n",
       "\n",
       "                REGION   RACE          DEGREE  EDUC  CHILDS  SIBS  HRS1  \\\n",
       "25798          Pacific  White     High school  12.0     2.0   7.0  46.0   \n",
       "7535    South atlantic  White        Bachelor  16.0     1.0   5.0  50.0   \n",
       "58308  E. nor. central  Other  Lt high school   5.0     3.0   8.0   NaN   \n",
       "43664  Middle atlantic  White        Bachelor  16.0     0.0   2.0  40.0   \n",
       "2222          Mountain  White  Lt high school  11.0     0.0   4.0  40.0   \n",
       "\n",
       "       REALRINC     childs Hours worked per week  \n",
       "25798  39919.00     2 or 3                 45-60  \n",
       "7535    9167.00  1 or None                 45-60  \n",
       "58308   7686.25     2 or 3                   NaN  \n",
       "43664      0.00  1 or None                 30-45  \n",
       "2222       0.00  1 or None                 30-45  "
      ]
     },
     "execution_count": 17,
     "metadata": {},
     "output_type": "execute_result"
    }
   ],
   "source": [
    "hide_me\n",
    "our_sample = gss.sample(300, replace = False)\n",
    "our_sample.head()"
   ]
  },
  {
   "cell_type": "markdown",
   "metadata": {},
   "source": [
    "If we look at the mean family income from our initial data and the sample, we can see that they are different.\n",
    "\n",
    "(Note: the mean family income in the sample will be changing every time we rerun the cells above and under, but the median salary from our original data will always stay the same)."
   ]
  },
  {
   "cell_type": "code",
   "execution_count": 18,
   "metadata": {},
   "outputs": [
    {
     "name": "stdout",
     "output_type": "stream",
     "text": [
      "Our population: 28523.42469675533\n",
      "One sample: 30034.72268066667\n"
     ]
    }
   ],
   "source": [
    "hide_me\n",
    "pop_mean = gss['REALINC ($)'].mean()\n",
    "print(\"Our population:\", pop_mean)\n",
    "print(\"One sample:\", our_sample['REALINC ($)'].mean())"
   ]
  },
  {
   "cell_type": "markdown",
   "metadata": {},
   "source": [
    "Now let's do a thought experiment where we imagine taking a sample of size 300 many times, and in each sample calculate the mean family income. We will do this 1000 times, find the mean family income in each sample, and create a new dataset with these 1000 values for the mean of family income."
   ]
  },
  {
   "cell_type": "code",
   "execution_count": 19,
   "metadata": {},
   "outputs": [
    {
     "name": "stdout",
     "output_type": "stream",
     "text": [
      "These are the first 10 means in our list (of 1000 means)\n",
      "[28744.26639133 29002.79366167 26368.39747867 28187.63294067\n",
      " 28928.554053   29577.53204533 29417.49698533 29729.45750833\n",
      " 28249.666844   32193.03930433]\n",
      "Observe that each of the values is different. This is because we are taking random samples from the GSS data\n"
     ]
    }
   ],
   "source": [
    "hide_me\n",
    "sample_means = []\n",
    "\n",
    "for i in np.arange(1000):\n",
    "    new_sample = gss.sample(300, replace = False)\n",
    "    new_mean = new_sample['REALINC ($)'].mean()\n",
    "    sample_means = np.append(sample_means, new_mean)\n",
    "    \n",
    "print(\"These are the first 10 means in our list (of 1000 means)\")\n",
    "print(f'{sample_means[:10]}')\n",
    "print(\"Observe that each of the values is different. This is because we are taking random samples from the GSS data\")"
   ]
  },
  {
   "cell_type": "markdown",
   "metadata": {},
   "source": [
    "In the histogram below, we now plot *all* the mean family incomes from our \"resampling\" procedure. The red line represents the median salary from the original GSS data. "
   ]
  },
  {
   "cell_type": "code",
   "execution_count": 20,
   "metadata": {},
   "outputs": [
    {
     "data": {
      "text/plain": [
       "<matplotlib.lines.Line2D at 0x11f029c18>"
      ]
     },
     "execution_count": 20,
     "metadata": {},
     "output_type": "execute_result"
    },
    {
     "data": {
      "image/png": "[encoded data removed]",
      "text/plain": [
       "<Figure size 432x288 with 1 Axes>"
      ]
     },
     "metadata": {
      "needs_background": "light"
     },
     "output_type": "display_data"
    }
   ],
   "source": [
    "hide_me\n",
    "samples = pd.DataFrame(data = sample_means, columns = ['Sample Means'])\n",
    "samples.hist()\n",
    "plt.axvline(pop_mean, c='red')"
   ]
  },
  {
   "cell_type": "markdown",
   "metadata": {},
   "source": [
    "We can see that most of the means are concentrated between approximately 26,000 and 30,000, in other words, within +/- 2,000 from our actual mean in the \"population.\" But there also are some values that are located even further away and do not seem to close at all to the population mean indicated by the red line. In other words, sometimes our sample can produce a very bad estimate of what is happening in the population. Statisticians have figured out how to put a number on how much such sampling error to expect. This is called the **margin of error**, and it can be used to create a **confidence interval**, the range of values we are confident that the true population value lies within. We will be learning about that in the next lecture."
   ]
  },
  {
   "cell_type": "markdown",
   "metadata": {},
   "source": [
    "---\n",
    "**Congratulations on finishing this notebook!**\n",
    "\n",
    "To transform this notebook into a PDF, simply navigate to **\"File\"** on the upper-left corner > **\"Download as\"** > **\"PDF via Chrome\"**. This will directly download the file for you for easier access throughout the semester. \n",
    "\n",
    "![](navigate.png)"
   ]
  },
  {
   "cell_type": "markdown",
   "metadata": {},
   "source": [
    "---\n",
    "## Bibliography\n",
    "\n",
    "---\n",
    "Notebook developed by: Kseniya Usovich\n",
    "\n",
    "Edited by: Karla Palos Castellanos\n",
    "\n",
    "Data Science Modules: http://data.berkeley.edu/education/modules"
   ]
  }
 ],
 "metadata": {
  "kernelspec": {
   "display_name": "Python 3",
   "language": "python",
   "name": "python3"
  },
  "language_info": {
   "codemirror_mode": {
    "name": "ipython",
    "version": 3
   },
   "file_extension": ".py",
   "mimetype": "text/x-python",
   "name": "python",
   "nbconvert_exporter": "python",
   "pygments_lexer": "ipython3",
   "version": "3.6.6"
  }
 },
 "nbformat": 4,
 "nbformat_minor": 2
}
