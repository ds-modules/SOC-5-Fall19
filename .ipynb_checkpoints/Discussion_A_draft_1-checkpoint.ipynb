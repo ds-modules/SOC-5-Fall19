{
 "cells": [
  {
   "cell_type": "markdown",
   "metadata": {},
   "source": [
    "# [SOC-5] Discussion 1: Descriptive Univariate Statistics\n",
    "\n",
    " \n",
    "---\n",
    "\n",
    "![](jupyter-header-1.png)\n",
    "\n",
    "\n",
    "### Professor David Harding\n",
    "\n",
    "This notebook focuses on \"univariate descriptive statistics\" -- statistics that describe a single variable, including what its typical value is and how much variation it exhibits in the data. We'll also look at graphical ways of describing the values of a single variables. We'll work with data from the <a href=https://gss.norc.org/>General Social Survey</a>. Since this is our first Notebook, we'll start by learning how a Jupyter Notebook works.\n",
    "\n",
    "---\n",
    "\n",
    "### Topics Covered\n",
    "- Jupyter Notebooks\n",
    "- Mean \n",
    "- Median \n",
    "- Mode \n",
    "- Standard Deviation \n",
    "\n",
    "### Table of Contents\n",
    "\n",
    "[Intro to Jupyter](#introJupyter)<br>\n",
    "\n",
    "[The Data](#data)<br>\n",
    "\n",
    "<!--&nbsp;&nbsp;&nbsp;&nbsp;&nbsp;&nbsp; - [Data Dictionary](#data.1)-->\n",
    "\n",
    "<!--[Context](#context)<br>-->\n",
    "\n",
    "\n",
    "1 - [Associations Between Variables](#1)<br>\n",
    "\n",
    "2 - [Mean](#2)<br>\n",
    "\n",
    "3 - [Median](#3)<br>\n",
    "\n",
    "&nbsp;&nbsp;&nbsp;&nbsp;&nbsp;&nbsp; 3.1 - [Comparing Mean and Median in Distributions](#s3.1)\n",
    "\n",
    "4 - [Mode](#4)<br>\n",
    "\n",
    "5 - [Standard Deviation](#5)<br>\n",
    "\n",
    "6 - [Interactive Widgets](#6)<br>\n",
    "\n",
    "&nbsp;&nbsp;&nbsp;&nbsp;&nbsp;&nbsp; 6.1 - [Different Variables](#s6.1)\n",
    "\n",
    "&nbsp;&nbsp;&nbsp;&nbsp;&nbsp;&nbsp; 6.2 - [Variables Across Years](#s6.2)\n",
    "\n",
    "---\n",
    "\n",
    "\n"
   ]
  },
  {
   "cell_type": "markdown",
   "metadata": {},
   "source": [
    "## The Jupyter Notebook <a id = \"hello_world\"></a>"
   ]
  },
  {
   "cell_type": "markdown",
   "metadata": {},
   "source": [
    "Welcome to the Jupyter Notebook! **Notebooks** are documents that can contain text, code, visualizations, and more.\n",
    "\n",
    "A notebook is composed of rectangular sections called **cells**. There are 2 kinds of cells: markdown and code. A **markdown cell**, such as this one, contains text. A **code cell** contains code in Python, a programming language that we will be using for the remainder of this module. You can select any cell by clicking it once. After a cell is selected, you can navigate the notebook using the up and down arrow keys.\n",
    "\n",
    "To run code once it's been selected,\n",
    "   -  press shift + enter or\n",
    "   - click the Run button in the toolbar at the top of the screen.\n",
    "   \n",
    "If a code cell is running, you will see an asterisk (*) appear in the square brackets to the left of the cell. Once the cell has finished running, a number will replace the asterisk and any output from the code will appear under the cell."
   ]
  },
  {
   "cell_type": "code",
   "execution_count": 1,
   "metadata": {},
   "outputs": [
    {
     "name": "stdout",
     "output_type": "stream",
     "text": [
      "Hello World!\n"
     ]
    }
   ],
   "source": [
    "# run this cell\n",
    "print(\"Hello World!\")"
   ]
  },
  {
   "cell_type": "markdown",
   "metadata": {},
   "source": [
    "You'll notice that many code cells contain lines of blue text that start with a #. These are comments. Comments often contain helpful information about what the code does or what you are supposed to do in the cell. The leading # tells the computer to ignore them."
   ]
  },
  {
   "cell_type": "markdown",
   "metadata": {},
   "source": [
    "#### Editing"
   ]
  },
  {
   "cell_type": "markdown",
   "metadata": {},
   "source": [
    "You can edit a Markdown cell by clicking it twice. Text in Markdown cells is written in Markdown, a formatting syntax for plain text, so you may see some funky symbols when you edit a text cell.\n",
    "\n",
    "Once you've made your changes, you can exit text-editing mode by running the cell. Edit the next cell to fix the misspelling."
   ]
  },
  {
   "cell_type": "markdown",
   "metadata": {},
   "source": [
    "GO BAERS!"
   ]
  },
  {
   "cell_type": "markdown",
   "metadata": {},
   "source": [
    "#### Saving and Loading"
   ]
  },
  {
   "cell_type": "markdown",
   "metadata": {},
   "source": [
    "Your notebook can record all of your text and code edits, as well as any graphs you generate or calculations you make. You can save the notebook in its current state by clicking Control-S, clicking the floppy disc icon in the toolbar at the top of the page, or by going to the File menu and selecting \"Save and Checkpoint\".\n",
    "\n",
    "The next time you open the notebook, it will look the same as when you last saved it.\n",
    "\n",
    "**Note**: after loading a notebook you will see all the outputs (graphs, computations, etc) from your last session, but you won't be able to use any variables you assigned or functions you defined. You can get the functions and variables back by re-running the cells where they were defined- the easiest way is to highlight the cell where you left off work, then go to the Cell menu at the top of the screen and click \"Run all above\". You can also use this menu to run all cells in the notebook by clicking \"Run all\"."
   ]
  },
  {
   "cell_type": "markdown",
   "metadata": {},
   "source": [
    "---\n",
    "\n",
    "The code in this notebook is hidden for readability. If you would like to look at the code, click the button below.\n",
    "\n",
    "<div class=\"alert alert-warning\">\n",
    "In order to make sure that all of the interactive widgets appear, please click \"Kernel\" in the top bar, then select \"Restart & Run All\", then confirm \"Restart and Run All Cells\". This will hide all of the code cells, but if you want to look at the code come back to the cell below and click the button.\n",
    "</div>\n",
    "\n"
   ]
  },
  {
   "cell_type": "code",
   "execution_count": 2,
   "metadata": {},
   "outputs": [
    {
     "data": {
      "text/html": [
       "<script>\n",
       "code_show=true; \n",
       "function code_toggle() {\n",
       "  if (code_show) {\n",
       "    $('div.input').each(function(id) {\n",
       "      el = $(this).find('.cm-variable:first');\n",
       "      if (id == 0 || el.text() == 'hide_me') {\n",
       "        $(this).hide();\n",
       "      }\n",
       "    });\n",
       "    $('div.output_prompt').css('opacity', 0);\n",
       "  } else {\n",
       "    $('div.input').each(function(id) {\n",
       "      $(this).show();\n",
       "    });\n",
       "    $('div.output_prompt').css('opacity', 1);\n",
       "  }\n",
       "  code_show = !code_show\n",
       "} \n",
       "$( document ).ready(code_toggle);\n",
       "</script>\n",
       "<form action=\"javascript:code_toggle()\"><input style=\"opacity:1\" type=\"submit\" value=\"Click here to reveal the raw code.\"></form>"
      ],
      "text/plain": [
       "<IPython.core.display.HTML object>"
      ]
     },
     "execution_count": 2,
     "metadata": {},
     "output_type": "execute_result"
    }
   ],
   "source": [
    "\n",
    "from IPython.display import HTML\n",
    "\n",
    "hide_me = ''\n",
    "HTML('''<script>\n",
    "code_show=true; \n",
    "function code_toggle() {\n",
    "  if (code_show) {\n",
    "    $('div.input').each(function(id) {\n",
    "      el = $(this).find('.cm-variable:first');\n",
    "      if (id == 0 || el.text() == 'hide_me') {\n",
    "        $(this).hide();\n",
    "      }\n",
    "    });\n",
    "    $('div.output_prompt').css('opacity', 0);\n",
    "  } else {\n",
    "    $('div.input').each(function(id) {\n",
    "      $(this).show();\n",
    "    });\n",
    "    $('div.output_prompt').css('opacity', 1);\n",
    "  }\n",
    "  code_show = !code_show\n",
    "} \n",
    "$( document ).ready(code_toggle);\n",
    "</script>\n",
    "<form action=\"javascript:code_toggle()\"><input style=\"opacity:1\" type=\"submit\" value=\"Click here to reveal the raw code.\"></form>''')\n",
    "\n",
    "#derived from the style modules notebook (by Keeley Takimoto)"
   ]
  },
  {
   "cell_type": "code",
   "execution_count": 12,
   "metadata": {},
   "outputs": [],
   "source": [
    "hide_me\n",
    "\n",
    "#Imports all necessary libraries\n",
    "#You don't need to know this\n",
    "\n",
    "from datascience import *\n",
    "import pandas as pd\n",
    "import numpy as np\n",
    "%matplotlib inline\n",
    "import matplotlib.pyplot as plt\n",
    "import seaborn as sns\n",
    "plt.style.use('fivethirtyeight')\n",
    "import warnings\n",
    "warnings.simplefilter(action=\"ignore\", category=FutureWarning)\n",
    "warnings.filterwarnings('ignore')\n",
    "import ipywidgets as widgets\n",
    "from ipywidgets import interact, interactive, fixed, interact_manual\n",
    "from IPython.display import Image\n"
   ]
  },
  {
   "cell_type": "code",
   "execution_count": 13,
   "metadata": {},
   "outputs": [],
   "source": [
    "hide_me\n",
    "\n",
    "%run Lect_A_obscure_cover_hide.ipynb"
   ]
  },
  {
   "cell_type": "markdown",
   "metadata": {},
   "source": [
    "---\n",
    "## The Data <a id='data'></a>\n",
    "\n",
    "The General Social Survey (GSS) collects data on American society with the goal to examine sociological and attitudinal explain trends in the United States through the monitoring of different variables over time. Some of the information contained in this data set includes demographics, behaviors, attitudinal questions, and other relevant information such as civil liberties, mortality, social mobility, and psychological well-being. \n",
    "The data ranges from 1972 - 2018. \n",
    "\n",
    "\n",
    "For more information, make sure you visit the [GSS](https://gssdataexplorer.norc.org/) page.\n",
    "\n",
    "\n",
    "Note: The data set below has been filtered and pre-cleaned for the purposes of this class. If you would like to access the raw data and/or a more comprehensive data set, make sure to visit the GSS site. \n",
    "\n",
    "---"
   ]
  },
  {
   "cell_type": "code",
   "execution_count": 4,
   "metadata": {
    "scrolled": true
   },
   "outputs": [
    {
     "data": {
      "text/html": [
       "<div>\n",
       "<style scoped>\n",
       "    .dataframe tbody tr th:only-of-type {\n",
       "        vertical-align: middle;\n",
       "    }\n",
       "\n",
       "    .dataframe tbody tr th {\n",
       "        vertical-align: top;\n",
       "    }\n",
       "\n",
       "    .dataframe thead th {\n",
       "        text-align: right;\n",
       "    }\n",
       "</style>\n",
       "<table border=\"1\" class=\"dataframe\">\n",
       "  <thead>\n",
       "    <tr style=\"text-align: right;\">\n",
       "      <th></th>\n",
       "      <th>YEAR</th>\n",
       "      <th>REALINC ($)</th>\n",
       "      <th>TVHOURS</th>\n",
       "      <th>POLHITOK</th>\n",
       "      <th>CLASS</th>\n",
       "      <th>HAPPY</th>\n",
       "      <th>VISIONS</th>\n",
       "      <th>ESP</th>\n",
       "      <th>DEJAVU</th>\n",
       "      <th>REGION</th>\n",
       "      <th>RACE</th>\n",
       "      <th>DEGREE</th>\n",
       "      <th>EDUC</th>\n",
       "      <th>CHILDS</th>\n",
       "      <th>SIBS</th>\n",
       "      <th>HRS1</th>\n",
       "      <th>REALRINC</th>\n",
       "    </tr>\n",
       "  </thead>\n",
       "  <tbody>\n",
       "    <tr>\n",
       "      <th>0</th>\n",
       "      <td>1972</td>\n",
       "      <td>18951.0</td>\n",
       "      <td>NaN</td>\n",
       "      <td>Not applicable</td>\n",
       "      <td>Middle class</td>\n",
       "      <td>Not too happy</td>\n",
       "      <td>Not applicable</td>\n",
       "      <td>Not applicable</td>\n",
       "      <td>Not applicable</td>\n",
       "      <td>E. nor. central</td>\n",
       "      <td>White</td>\n",
       "      <td>Bachelor</td>\n",
       "      <td>16.0</td>\n",
       "      <td>0.0</td>\n",
       "      <td>3.0</td>\n",
       "      <td>NaN</td>\n",
       "      <td>0.0</td>\n",
       "    </tr>\n",
       "    <tr>\n",
       "      <th>1</th>\n",
       "      <td>1972</td>\n",
       "      <td>24366.0</td>\n",
       "      <td>NaN</td>\n",
       "      <td>Not applicable</td>\n",
       "      <td>Middle class</td>\n",
       "      <td>Not too happy</td>\n",
       "      <td>Not applicable</td>\n",
       "      <td>Not applicable</td>\n",
       "      <td>Not applicable</td>\n",
       "      <td>E. nor. central</td>\n",
       "      <td>White</td>\n",
       "      <td>Lt high school</td>\n",
       "      <td>10.0</td>\n",
       "      <td>5.0</td>\n",
       "      <td>4.0</td>\n",
       "      <td>NaN</td>\n",
       "      <td>0.0</td>\n",
       "    </tr>\n",
       "    <tr>\n",
       "      <th>2</th>\n",
       "      <td>1972</td>\n",
       "      <td>24366.0</td>\n",
       "      <td>NaN</td>\n",
       "      <td>Not applicable</td>\n",
       "      <td>Working class</td>\n",
       "      <td>Pretty happy</td>\n",
       "      <td>Not applicable</td>\n",
       "      <td>Not applicable</td>\n",
       "      <td>Not applicable</td>\n",
       "      <td>E. nor. central</td>\n",
       "      <td>White</td>\n",
       "      <td>High school</td>\n",
       "      <td>12.0</td>\n",
       "      <td>4.0</td>\n",
       "      <td>5.0</td>\n",
       "      <td>NaN</td>\n",
       "      <td>0.0</td>\n",
       "    </tr>\n",
       "    <tr>\n",
       "      <th>3</th>\n",
       "      <td>1972</td>\n",
       "      <td>30458.0</td>\n",
       "      <td>NaN</td>\n",
       "      <td>Not applicable</td>\n",
       "      <td>Middle class</td>\n",
       "      <td>Not too happy</td>\n",
       "      <td>Not applicable</td>\n",
       "      <td>Not applicable</td>\n",
       "      <td>Not applicable</td>\n",
       "      <td>E. nor. central</td>\n",
       "      <td>White</td>\n",
       "      <td>Bachelor</td>\n",
       "      <td>17.0</td>\n",
       "      <td>0.0</td>\n",
       "      <td>5.0</td>\n",
       "      <td>NaN</td>\n",
       "      <td>0.0</td>\n",
       "    </tr>\n",
       "    <tr>\n",
       "      <th>4</th>\n",
       "      <td>1972</td>\n",
       "      <td>50763.0</td>\n",
       "      <td>NaN</td>\n",
       "      <td>Not applicable</td>\n",
       "      <td>Working class</td>\n",
       "      <td>Pretty happy</td>\n",
       "      <td>Not applicable</td>\n",
       "      <td>Not applicable</td>\n",
       "      <td>Not applicable</td>\n",
       "      <td>E. nor. central</td>\n",
       "      <td>White</td>\n",
       "      <td>High school</td>\n",
       "      <td>12.0</td>\n",
       "      <td>2.0</td>\n",
       "      <td>2.0</td>\n",
       "      <td>NaN</td>\n",
       "      <td>0.0</td>\n",
       "    </tr>\n",
       "    <tr>\n",
       "      <th>5</th>\n",
       "      <td>1972</td>\n",
       "      <td>43994.0</td>\n",
       "      <td>NaN</td>\n",
       "      <td>Not applicable</td>\n",
       "      <td>Middle class</td>\n",
       "      <td>Pretty happy</td>\n",
       "      <td>Not applicable</td>\n",
       "      <td>Not applicable</td>\n",
       "      <td>Not applicable</td>\n",
       "      <td>E. nor. central</td>\n",
       "      <td>White</td>\n",
       "      <td>High school</td>\n",
       "      <td>14.0</td>\n",
       "      <td>0.0</td>\n",
       "      <td>1.0</td>\n",
       "      <td>NaN</td>\n",
       "      <td>0.0</td>\n",
       "    </tr>\n",
       "    <tr>\n",
       "      <th>6</th>\n",
       "      <td>1972</td>\n",
       "      <td>37226.0</td>\n",
       "      <td>NaN</td>\n",
       "      <td>Not applicable</td>\n",
       "      <td>Middle class</td>\n",
       "      <td>Not too happy</td>\n",
       "      <td>Not applicable</td>\n",
       "      <td>Not applicable</td>\n",
       "      <td>Not applicable</td>\n",
       "      <td>E. nor. central</td>\n",
       "      <td>White</td>\n",
       "      <td>High school</td>\n",
       "      <td>13.0</td>\n",
       "      <td>2.0</td>\n",
       "      <td>7.0</td>\n",
       "      <td>NaN</td>\n",
       "      <td>0.0</td>\n",
       "    </tr>\n",
       "    <tr>\n",
       "      <th>7</th>\n",
       "      <td>1972</td>\n",
       "      <td>13537.0</td>\n",
       "      <td>NaN</td>\n",
       "      <td>Not applicable</td>\n",
       "      <td>Working class</td>\n",
       "      <td>Not too happy</td>\n",
       "      <td>Not applicable</td>\n",
       "      <td>Not applicable</td>\n",
       "      <td>Not applicable</td>\n",
       "      <td>E. nor. central</td>\n",
       "      <td>White</td>\n",
       "      <td>Bachelor</td>\n",
       "      <td>16.0</td>\n",
       "      <td>0.0</td>\n",
       "      <td>1.0</td>\n",
       "      <td>NaN</td>\n",
       "      <td>0.0</td>\n",
       "    </tr>\n",
       "    <tr>\n",
       "      <th>8</th>\n",
       "      <td>1972</td>\n",
       "      <td>2707.0</td>\n",
       "      <td>NaN</td>\n",
       "      <td>Not applicable</td>\n",
       "      <td>Working class</td>\n",
       "      <td>Pretty happy</td>\n",
       "      <td>Not applicable</td>\n",
       "      <td>Not applicable</td>\n",
       "      <td>Not applicable</td>\n",
       "      <td>W. sou. central</td>\n",
       "      <td>Black</td>\n",
       "      <td>High school</td>\n",
       "      <td>12.0</td>\n",
       "      <td>2.0</td>\n",
       "      <td>2.0</td>\n",
       "      <td>NaN</td>\n",
       "      <td>0.0</td>\n",
       "    </tr>\n",
       "    <tr>\n",
       "      <th>9</th>\n",
       "      <td>1972</td>\n",
       "      <td>18951.0</td>\n",
       "      <td>NaN</td>\n",
       "      <td>Not applicable</td>\n",
       "      <td>Working class</td>\n",
       "      <td>Pretty happy</td>\n",
       "      <td>Not applicable</td>\n",
       "      <td>Not applicable</td>\n",
       "      <td>Not applicable</td>\n",
       "      <td>W. sou. central</td>\n",
       "      <td>Black</td>\n",
       "      <td>High school</td>\n",
       "      <td>12.0</td>\n",
       "      <td>4.0</td>\n",
       "      <td>7.0</td>\n",
       "      <td>NaN</td>\n",
       "      <td>0.0</td>\n",
       "    </tr>\n",
       "  </tbody>\n",
       "</table>\n",
       "</div>"
      ],
      "text/plain": [
       "   YEAR  REALINC ($)  TVHOURS        POLHITOK          CLASS          HAPPY  \\\n",
       "0  1972      18951.0      NaN  Not applicable   Middle class  Not too happy   \n",
       "1  1972      24366.0      NaN  Not applicable   Middle class  Not too happy   \n",
       "2  1972      24366.0      NaN  Not applicable  Working class   Pretty happy   \n",
       "3  1972      30458.0      NaN  Not applicable   Middle class  Not too happy   \n",
       "4  1972      50763.0      NaN  Not applicable  Working class   Pretty happy   \n",
       "5  1972      43994.0      NaN  Not applicable   Middle class   Pretty happy   \n",
       "6  1972      37226.0      NaN  Not applicable   Middle class  Not too happy   \n",
       "7  1972      13537.0      NaN  Not applicable  Working class  Not too happy   \n",
       "8  1972       2707.0      NaN  Not applicable  Working class   Pretty happy   \n",
       "9  1972      18951.0      NaN  Not applicable  Working class   Pretty happy   \n",
       "\n",
       "          VISIONS             ESP          DEJAVU           REGION   RACE  \\\n",
       "0  Not applicable  Not applicable  Not applicable  E. nor. central  White   \n",
       "1  Not applicable  Not applicable  Not applicable  E. nor. central  White   \n",
       "2  Not applicable  Not applicable  Not applicable  E. nor. central  White   \n",
       "3  Not applicable  Not applicable  Not applicable  E. nor. central  White   \n",
       "4  Not applicable  Not applicable  Not applicable  E. nor. central  White   \n",
       "5  Not applicable  Not applicable  Not applicable  E. nor. central  White   \n",
       "6  Not applicable  Not applicable  Not applicable  E. nor. central  White   \n",
       "7  Not applicable  Not applicable  Not applicable  E. nor. central  White   \n",
       "8  Not applicable  Not applicable  Not applicable  W. sou. central  Black   \n",
       "9  Not applicable  Not applicable  Not applicable  W. sou. central  Black   \n",
       "\n",
       "           DEGREE  EDUC  CHILDS  SIBS  HRS1  REALRINC  \n",
       "0        Bachelor  16.0     0.0   3.0   NaN       0.0  \n",
       "1  Lt high school  10.0     5.0   4.0   NaN       0.0  \n",
       "2     High school  12.0     4.0   5.0   NaN       0.0  \n",
       "3        Bachelor  17.0     0.0   5.0   NaN       0.0  \n",
       "4     High school  12.0     2.0   2.0   NaN       0.0  \n",
       "5     High school  14.0     0.0   1.0   NaN       0.0  \n",
       "6     High school  13.0     2.0   7.0   NaN       0.0  \n",
       "7        Bachelor  16.0     0.0   1.0   NaN       0.0  \n",
       "8     High school  12.0     2.0   2.0   NaN       0.0  \n",
       "9     High school  12.0     4.0   7.0   NaN       0.0  "
      ]
     },
     "execution_count": 4,
     "metadata": {},
     "output_type": "execute_result"
    }
   ],
   "source": [
    "hide_me\n",
    "\n",
    "gss = pd.read_csv('cleaned_data.csv', index_col = 0)\n",
    "gss.head(10)"
   ]
  },
  {
   "cell_type": "markdown",
   "metadata": {},
   "source": [
    "### Data Dictionary<a id='data.1'></a>"
   ]
  },
  {
   "cell_type": "markdown",
   "metadata": {},
   "source": [
    "To begin, we have to know what the shortened variable names refer to."
   ]
  },
  {
   "cell_type": "markdown",
   "metadata": {},
   "source": [
    "|Variables |Definition |\n",
    "|-----------|---------------------|\n",
    "|Year |GSS year for this respondent |\n",
    "|REALINC ($) |Family income|\n",
    "|TVHOURS |Hours per day watching TV|\n",
    "|POLHITOK |Ever approve of police striking citizen|\n",
    "|CLASS |Subjective class identification|\n",
    "|HAPPY |General happiness|\n",
    "|VISION |Perceived events at great distance|\n",
    "|ESP |Felt in touch with someone far away|\n",
    "|DEJAVU |Thought one was someplace before|\n",
    "|REGION |Region of interview|\n",
    "|RACE |Race of respondent|\n",
    "|DEGREE |Respondent's highest earned degree|\n",
    "|EDUC |Highest year of school completed|\n",
    "|CHILDS |Number of children|\n",
    "|SIBS |Number of brothers and sisters|\n",
    "|HRS1 |Number of hours worked last week|\n",
    "|REALRINC |Respondent's income|"
   ]
  },
  {
   "cell_type": "markdown",
   "metadata": {},
   "source": [
    "---\n",
    "# Univariate Statistics"
   ]
  },
  {
   "cell_type": "markdown",
   "metadata": {},
   "source": [
    "Today, we will be covering descriptive, univariate statistics such as the mean, median, and mode.\n",
    "\n",
    "---\n",
    "Notes: \n",
    "\n",
    "1) On the following sections, you will not be asked to write any code. Steps on what was done on the code cell will be displayed above.\n",
    "\n",
    "2) After performing calculations **we will only display the first 10 rows** of the data, unless there are fewer than 10 observations after that calculation or filter."
   ]
  },
  {
   "cell_type": "markdown",
   "metadata": {},
   "source": [
    "---\n",
    "## Mean<a id='2'></a>"
   ]
  },
  {
   "cell_type": "markdown",
   "metadata": {},
   "source": [
    "**Definition**: Commonly referred to as the average, it is the sum of all the values divided by the number of values. A measure of central tendency for interval or ratio variables."
   ]
  },
  {
   "cell_type": "markdown",
   "metadata": {},
   "source": [
    "### 1a) Distribution of TVHOURS"
   ]
  },
  {
   "cell_type": "code",
   "execution_count": 22,
   "metadata": {
    "scrolled": true
   },
   "outputs": [
    {
     "data": {
      "image/png": "[encoded data removed]",
      "text/plain": [
       "<Figure size 432x288 with 1 Axes>"
      ]
     },
     "metadata": {},
     "output_type": "display_data"
    }
   ],
   "source": [
    "hide_me\n",
    "\n",
    "gss_na = gss.dropna()\n",
    "sns.distplot(gss_na['TVHOURS'], color = \"red\", kde = False)\n",
    "plt.xlim(0, 25)\n",
    "plt.title(\"Distribution of TVHOURS\");"
   ]
  },
  {
   "cell_type": "markdown",
   "metadata": {},
   "source": [
    "Let's find the **mean** first and then, **plot the mean** and the **distribution** together."
   ]
  },
  {
   "cell_type": "code",
   "execution_count": 15,
   "metadata": {},
   "outputs": [
    {
     "name": "stdout",
     "output_type": "stream",
     "text": [
      "The mean of the number of TVHOURS is: 2.972819670448129\n"
     ]
    }
   ],
   "source": [
    "hide_me\n",
    "\n",
    "sib_mean = np.nanmean(gss['TVHOURS'])\n",
    "print(\"The mean of the number of TVHOURS is: \" + str(sib_mean))"
   ]
  },
  {
   "cell_type": "markdown",
   "metadata": {},
   "source": [
    "Let's mark the location of the mean in the distribution.\n",
    "\n",
    "<!--Note that we observe the value of -1. Earlier, we converted the individuals who didn't report the number of siblings to the value of -1 so that we could perform quantitative analysis.-->"
   ]
  },
  {
   "cell_type": "code",
   "execution_count": 16,
   "metadata": {},
   "outputs": [
    {
     "data": {
      "image/png": "[encoded data removed]",
      "text/plain": [
       "<Figure size 504x288 with 1 Axes>"
      ]
     },
     "metadata": {},
     "output_type": "display_data"
    }
   ],
   "source": [
    "hide_me\n",
    "plt.figure(figsize = (7,4))\n",
    "sns.distplot(gss_na['TVHOURS'], color = \"red\", kde = False)\n",
    "marker(sib_mean)\n",
    "plt.title(\"Distribution of TVHOURS\")\n",
    "plt.xlim(0, 25);"
   ]
  },
  {
   "cell_type": "markdown",
   "metadata": {},
   "source": [
    "<div class=\"alert alert-info\">\n",
    "<b> Question:</b> \n",
    "Briefly note down your observations about the visualization.\n",
    "[HINT: Think about where the median and mode are. What does it imply if the median is higher or lower than the median?]\n",
    "    </div>    "
   ]
  },
  {
   "cell_type": "markdown",
   "metadata": {},
   "source": [
    "*Double click this cell to begin typing your answer*"
   ]
  },
  {
   "cell_type": "markdown",
   "metadata": {},
   "source": [
    "\n",
    "\n",
    "### 1b) Distribution of number of children\n"
   ]
  },
  {
   "cell_type": "code",
   "execution_count": 25,
   "metadata": {
    "scrolled": false
   },
   "outputs": [
    {
     "data": {
      "image/png": "[encoded data removed]",
      "text/plain": [
       "<Figure size 432x288 with 1 Axes>"
      ]
     },
     "metadata": {},
     "output_type": "display_data"
    }
   ],
   "source": [
    "hide_me\n",
    "\n",
    "\n",
    "gss_na = gss.dropna()\n",
    "sns.distplot(gss_na['CHILDS'], color = \"red\", kde = False)\n",
    "plt.xlim(0, 25)\n",
    "plt.title(\"Distribution of CHILDS\");"
   ]
  },
  {
   "cell_type": "markdown",
   "metadata": {},
   "source": [
    "<div class=\"alert alert-info\">\n",
    "<b> Question:</b> \n",
    "How would you describe this distribution of number of children? Where do you predict the mean to lie? \n",
    "</div>"
   ]
  },
  {
   "cell_type": "markdown",
   "metadata": {},
   "source": [
    "*Double click this cell to begin typing your answer*"
   ]
  },
  {
   "cell_type": "markdown",
   "metadata": {},
   "source": [
    "The **black line** represents the location of the mean in the overall distribution. "
   ]
  },
  {
   "cell_type": "code",
   "execution_count": 30,
   "metadata": {},
   "outputs": [
    {
     "name": "stdout",
     "output_type": "stream",
     "text": [
      "The mean of the number of CHILDS is: 1.8501225028269883\n"
     ]
    },
    {
     "data": {
      "image/png": "[encoded data removed]",
      "text/plain": [
       "<Figure size 504x288 with 1 Axes>"
      ]
     },
     "metadata": {},
     "output_type": "display_data"
    }
   ],
   "source": [
    "hide_me\n",
    "\n",
    "\n",
    "CHILDS_mean = np.nanmean(gss['CHILDS'])\n",
    "print(\"The mean of the number of CHILDS is: \" + str(CHILDS_mean))\n",
    "\n",
    "plt.figure(figsize = (7,4))\n",
    "sns.distplot(gss_na['CHILDS'], color = \"red\", kde = False)\n",
    "marker(CHILDS_mean)\n",
    "plt.title(\"Distribution of CHILDS\")\n",
    "plt.xlim(0, 25);"
   ]
  },
  {
   "cell_type": "markdown",
   "metadata": {},
   "source": [
    "---\n",
    "## Median<a id='3'></a>"
   ]
  },
  {
   "cell_type": "markdown",
   "metadata": {},
   "source": [
    "**Definition**: the value that lies exactly in the middle of a sorted array of values in ascending order. A measure of central tendency appropriate for ordinal, interval, and ratio variables."
   ]
  },
  {
   "cell_type": "markdown",
   "metadata": {},
   "source": [
    "### 2a) Median of the highest year of school completed (EDUC)"
   ]
  },
  {
   "cell_type": "markdown",
   "metadata": {},
   "source": [
    "Let's observe a variable that we have yet to explore: the number of children. To calculate the median, we have to sort the array of values in ascending order."
   ]
  },
  {
   "cell_type": "code",
   "execution_count": 31,
   "metadata": {
    "scrolled": false
   },
   "outputs": [
    {
     "name": "stdout",
     "output_type": "stream",
     "text": [
      "These are the first 5 values:\n",
      "       EDUC\n",
      "33204   0.0\n",
      "50539   0.0\n",
      "50532   0.0\n",
      "58648   0.0\n",
      "15403   0.0\n",
      "These are the last 5 values:\n",
      "       EDUC\n",
      "61743   NaN\n",
      "62401   NaN\n",
      "62545   NaN\n",
      "63259   NaN\n",
      "64781   NaN\n"
     ]
    }
   ],
   "source": [
    "hide_me\n",
    "child = gss.sort_values('EDUC', ascending = True)[['EDUC']]\n",
    "print(\"These are the first 5 values:\" ); print(child.head(5))\n",
    "print(\"These are the last 5 values:\" ); print(child.tail(5))"
   ]
  },
  {
   "cell_type": "markdown",
   "metadata": {},
   "source": [
    "Because there are many people who didn't report years of schooling, we will only look at those who reported a valid number. You may notice the consistency in the last 5 IDs because those represent the valid number of years in school unlike the first 5 that we displayed above.\n",
    "<!--#limits the data to only those will valid number-->"
   ]
  },
  {
   "cell_type": "code",
   "execution_count": 32,
   "metadata": {},
   "outputs": [
    {
     "name": "stdout",
     "output_type": "stream",
     "text": [
      "These are the first 5 values:\n",
      "       EDUC\n",
      "33204   0.0\n",
      "50539   0.0\n",
      "50532   0.0\n",
      "58648   0.0\n",
      "15403   0.0\n",
      "These are the last 5 values:\n",
      "       EDUC\n",
      "36999  20.0\n",
      "9023   20.0\n",
      "37035  20.0\n",
      "55192  20.0\n",
      "46817  20.0\n"
     ]
    }
   ],
   "source": [
    "hide_me\n",
    "valid_child = show_greater_equal(child, 'EDUC', 0) \n",
    "print(\"These are the first 5 values:\"); print(valid_child.head(5))\n",
    "print(\"These are the last 5 values:\" ); print(valid_child.tail(5))"
   ]
  },
  {
   "cell_type": "markdown",
   "metadata": {},
   "source": [
    "As we remove the individuals who didn't respond, we should see how much data is being excluded."
   ]
  },
  {
   "cell_type": "code",
   "execution_count": 33,
   "metadata": {},
   "outputs": [
    {
     "name": "stdout",
     "output_type": "stream",
     "text": [
      "Percent excluded: 0.27308914740642454\n"
     ]
    }
   ],
   "source": [
    "hide_me\n",
    "pecentage_excluded =(sum(np.isnan(gss['EDUC']))/len(gss))*100\n",
    "print(\"Percent excluded: \" + str(pecentage_excluded ))"
   ]
  },
  {
   "cell_type": "markdown",
   "metadata": {},
   "source": [
    "Let's see what is the median number of years attending school. "
   ]
  },
  {
   "cell_type": "code",
   "execution_count": 35,
   "metadata": {
    "scrolled": true
   },
   "outputs": [
    {
     "name": "stdout",
     "output_type": "stream",
     "text": [
      "The median of the number of years attending school is: 12.0\n"
     ]
    }
   ],
   "source": [
    "hide_me\n",
    "# sorted array with number of children\n",
    "educ = valid_child['EDUC'].values\n",
    "\n",
    "#to find the median\n",
    "med_educ = np.median(educ)\n",
    "print(\"The median of the number of years attending school is: \" + str(med_educ))"
   ]
  },
  {
   "cell_type": "markdown",
   "metadata": {},
   "source": [
    "<div class=\"alert alert-info\">\n",
    "<b> Question:</b> Interpret the median value for number of years attending school. Is there anything about the US and this data set that could explain this number?\n",
    "</div>"
   ]
  },
  {
   "cell_type": "markdown",
   "metadata": {},
   "source": [
    "*Double click this cell to begin typing your answer*"
   ]
  },
  {
   "cell_type": "markdown",
   "metadata": {},
   "source": [
    "---\n",
    "### Comparing Mean and Median in Distributions<a id='s3.1'></a>"
   ]
  },
  {
   "cell_type": "markdown",
   "metadata": {},
   "source": [
    "The red line represents the median of the distribution and the black line displays the mean."
   ]
  },
  {
   "cell_type": "code",
   "execution_count": 43,
   "metadata": {},
   "outputs": [
    {
     "data": {
      "text/plain": [
       "''"
      ]
     },
     "execution_count": 43,
     "metadata": {},
     "output_type": "execute_result"
    }
   ],
   "source": [
    "hide_me\n",
    "#using the same distribution from above in the mean category, we can compare the mean and median\n",
    "#just run this cell\n",
    "\n",
    "#Number of hours worked last week\n",
    "#distplot('HRS1',gss_na, \"#3498db\");\n",
    "#mean_HRS1 = np.mean(gss_na['HRS1'])\n",
    "\n",
    "#mean in black\n",
    "#plt.axvline(mean_HRS1, color = 'black', linewidth = 1.3, label= 'Mean: ' + str(mean_HRS1))\n",
    "\n",
    "#median in purple\n",
    "#hrs1 = gss_na['HRS1'].sort_values('HRS1', ascending = True)\n",
    "#median_HRS1 = np.median(show_greater_equal(hrs, 'HRS1', 0))\n",
    "\n",
    "#plt.axvline(median_HRS1, color = 'red', linewidth = 1.3, label= 'Median: ' + np.round(median_HRS1, 2))\n",
    "\n",
    "#plt.title(\"Distribution of HRS1\")\n",
    "#plt.legend(loc='upper right');"
   ]
  },
  {
   "cell_type": "markdown",
   "metadata": {},
   "source": [
    "<div class=\"alert alert-info\">\n",
    "<b> Question:</b> Why is the median lower than the mean?\n",
    "</div>"
   ]
  },
  {
   "cell_type": "markdown",
   "metadata": {},
   "source": [
    "*Double click this cell to begin typing your answer*"
   ]
  },
  {
   "cell_type": "markdown",
   "metadata": {},
   "source": [
    "---\n",
    "## Mode<a id='4'></a>"
   ]
  },
  {
   "cell_type": "markdown",
   "metadata": {},
   "source": [
    "**Definition**: The value that appears the most in a distribution of values. A measure of central tendency appropriate for any level of measurement."
   ]
  },
  {
   "cell_type": "markdown",
   "metadata": {},
   "source": [
    "---\n",
    "## Bibliography\n",
    "\n",
    "---\n",
    "Notebook developed by: Ankita Dhingra\n",
    "\n",
    "Edited by: Karla Palos Castellanos\n",
    "\n",
    "Data Science Modules: http://data.berkeley.edu/education/modules"
   ]
  },
  {
   "cell_type": "code",
   "execution_count": null,
   "metadata": {},
   "outputs": [],
   "source": []
  }
 ],
 "metadata": {
  "kernelspec": {
   "display_name": "Python 3",
   "language": "python",
   "name": "python3"
  },
  "language_info": {
   "codemirror_mode": {
    "name": "ipython",
    "version": 3
   },
   "file_extension": ".py",
   "mimetype": "text/x-python",
   "name": "python",
   "nbconvert_exporter": "python",
   "pygments_lexer": "ipython3",
   "version": "3.6.6"
  }
 },
 "nbformat": 4,
 "nbformat_minor": 2
}
