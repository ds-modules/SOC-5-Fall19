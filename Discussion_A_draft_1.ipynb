{
 "cells": [
  {
   "cell_type": "markdown",
   "metadata": {},
   "source": [
    "# [SOC-5] Discussion 1: Descriptive Univariate Statistics\n",
    "\n",
    " \n",
    "---\n",
    "\n",
    "![](jupyter-header-1.png)\n",
    "\n",
    "\n",
    "### Professor David Harding\n",
    "\n",
    "This notebook focuses on \"univariate descriptive statistics\" -- statistics that describe a single variable, including what its typical value is and how much variation it exhibits in the data. We'll also look at graphical ways of describing the values of a single variables. We'll work with data from the <a href=https://gss.norc.org/>General Social Survey</a>. Since this is our first Notebook, we'll start by learning how a Jupyter Notebook works.\n",
    "\n",
    "---\n",
    "\n",
    "### Topics Covered\n",
    "- Jupyter Notebooks\n",
    "- Mean \n",
    "- Median \n",
    "- Mode \n",
    "- Standard Deviation \n",
    "\n",
    "### Table of Contents\n",
    "\n",
    "[Intro to Jupyter](#introJupyter)<br>\n",
    "\n",
    "[The Data](#data)<br>\n",
    "\n",
    "<!--&nbsp;&nbsp;&nbsp;&nbsp;&nbsp;&nbsp; - [Data Dictionary](#data.1)-->\n",
    "\n",
    "<!--[Context](#context)<br>-->\n",
    "\n",
    "\n",
    "1 - [Associations Between Variables](#1)<br>\n",
    "\n",
    "2 - [Mean](#2)<br>\n",
    "\n",
    "3 - [Median](#3)<br>\n",
    "\n",
    "&nbsp;&nbsp;&nbsp;&nbsp;&nbsp;&nbsp; 3.1 - [Comparing Mean and Median in Distributions](#s3.1)\n",
    "\n",
    "4 - [Mode](#4)<br>\n",
    "\n",
    "5 - [Standard Deviation](#5)<br>\n",
    "\n",
    "6 - [Interactive Widgets](#6)<br>\n",
    "\n",
    "&nbsp;&nbsp;&nbsp;&nbsp;&nbsp;&nbsp; 6.1 - [Different Variables](#s6.1)\n",
    "\n",
    "&nbsp;&nbsp;&nbsp;&nbsp;&nbsp;&nbsp; 6.2 - [Variables Across Years](#s6.2)\n",
    "\n",
    "---\n",
    "\n",
    "\n"
   ]
  },
  {
   "cell_type": "markdown",
   "metadata": {},
   "source": [
    "## The Jupyter Notebook <a id = \"hello_world\"></a>"
   ]
  },
  {
   "cell_type": "markdown",
   "metadata": {},
   "source": [
    "Welcome to the Jupyter Notebook! **Notebooks** are documents that can contain text, code, visualizations, and more.\n",
    "\n",
    "A notebook is composed of rectangular sections called **cells**. There are 2 kinds of cells: markdown and code. A **markdown cell**, such as this one, contains text. A **code cell** contains code in Python, a programming language that we will be using for the remainder of this module. You can select any cell by clicking it once. After a cell is selected, you can navigate the notebook using the up and down arrow keys.\n",
    "\n",
    "To run code once it's been selected,\n",
    "   -  press shift + enter or\n",
    "   - click the Run button in the toolbar at the top of the screen.\n",
    "   \n",
    "If a code cell is running, you will see an asterisk (*) appear in the square brackets to the left of the cell. Once the cell has finished running, a number will replace the asterisk and any output from the code will appear under the cell."
   ]
  },
  {
   "cell_type": "code",
   "execution_count": 4,
   "metadata": {},
   "outputs": [
    {
     "name": "stdout",
     "output_type": "stream",
     "text": [
      "Hello World!\n"
     ]
    }
   ],
   "source": [
    "# run this cell\n",
    "print(\"Hello World!\")"
   ]
  },
  {
   "cell_type": "markdown",
   "metadata": {},
   "source": [
    "You'll notice that many code cells contain lines of blue text that start with a #. These are comments. Comments often contain helpful information about what the code does or what you are supposed to do in the cell. The leading # tells the computer to ignore them."
   ]
  },
  {
   "cell_type": "markdown",
   "metadata": {},
   "source": [
    "#### Editing"
   ]
  },
  {
   "cell_type": "markdown",
   "metadata": {},
   "source": [
    "You can edit a Markdown cell by clicking it twice. Text in Markdown cells is written in Markdown, a formatting syntax for plain text, so you may see some funky symbols when you edit a text cell.\n",
    "\n",
    "Once you've made your changes, you can exit text-editing mode by running the cell. Edit the next cell to fix the misspelling."
   ]
  },
  {
   "cell_type": "markdown",
   "metadata": {},
   "source": [
    "GO BAERS!"
   ]
  },
  {
   "cell_type": "markdown",
   "metadata": {},
   "source": [
    "#### Saving and Loading"
   ]
  },
  {
   "cell_type": "markdown",
   "metadata": {},
   "source": [
    "Your notebook can record all of your text and code edits, as well as any graphs you generate or calculations you make. You can save the notebook in its current state by clicking Control-S, clicking the floppy disc icon in the toolbar at the top of the page, or by going to the File menu and selecting \"Save and Checkpoint\".\n",
    "\n",
    "The next time you open the notebook, it will look the same as when you last saved it.\n",
    "\n",
    "**Note**: after loading a notebook you will see all the outputs (graphs, computations, etc) from your last session, but you won't be able to use any variables you assigned or functions you defined. You can get the functions and variables back by re-running the cells where they were defined- the easiest way is to highlight the cell where you left off work, then go to the Cell menu at the top of the screen and click \"Run all above\". You can also use this menu to run all cells in the notebook by clicking \"Run all\"."
   ]
  },
  {
   "cell_type": "markdown",
   "metadata": {},
   "source": [
    "---\n",
    "\n",
    "The code in this notebook is hidden for readability. If you would like to look at the code, click the button below.\n",
    "\n",
    "<div class=\"alert alert-warning\">\n",
    "In order to make sure that all of the interactive widgets appear, please click \"Kernel\" in the top bar, then select \"Restart & Run All\", then confirm \"Restart and Run All Cells\". This will hide all of the code cells, but if you want to look at the code come back to the cell below and click the button.\n",
    "</div>\n",
    "\n"
   ]
  },
  {
   "cell_type": "code",
   "execution_count": 5,
   "metadata": {},
   "outputs": [
    {
     "data": {
      "text/html": [
       "<script>\n",
       "code_show=true; \n",
       "function code_toggle() {\n",
       "  if (code_show) {\n",
       "    $('div.input').each(function(id) {\n",
       "      el = $(this).find('.cm-variable:first');\n",
       "      if (id == 0 || el.text() == 'hide_me') {\n",
       "        $(this).hide();\n",
       "      }\n",
       "    });\n",
       "    $('div.output_prompt').css('opacity', 0);\n",
       "  } else {\n",
       "    $('div.input').each(function(id) {\n",
       "      $(this).show();\n",
       "    });\n",
       "    $('div.output_prompt').css('opacity', 1);\n",
       "  }\n",
       "  code_show = !code_show\n",
       "} \n",
       "$( document ).ready(code_toggle);\n",
       "</script>\n",
       "<form action=\"javascript:code_toggle()\"><input style=\"opacity:1\" type=\"submit\" value=\"Click here to reveal the raw code.\"></form>"
      ],
      "text/plain": [
       "<IPython.core.display.HTML object>"
      ]
     },
     "execution_count": 5,
     "metadata": {},
     "output_type": "execute_result"
    }
   ],
   "source": [
    "\n",
    "from IPython.display import HTML\n",
    "\n",
    "hide_me = ''\n",
    "HTML('''<script>\n",
    "code_show=true; \n",
    "function code_toggle() {\n",
    "  if (code_show) {\n",
    "    $('div.input').each(function(id) {\n",
    "      el = $(this).find('.cm-variable:first');\n",
    "      if (id == 0 || el.text() == 'hide_me') {\n",
    "        $(this).hide();\n",
    "      }\n",
    "    });\n",
    "    $('div.output_prompt').css('opacity', 0);\n",
    "  } else {\n",
    "    $('div.input').each(function(id) {\n",
    "      $(this).show();\n",
    "    });\n",
    "    $('div.output_prompt').css('opacity', 1);\n",
    "  }\n",
    "  code_show = !code_show\n",
    "} \n",
    "$( document ).ready(code_toggle);\n",
    "</script>\n",
    "<form action=\"javascript:code_toggle()\"><input style=\"opacity:1\" type=\"submit\" value=\"Click here to reveal the raw code.\"></form>''')\n",
    "\n",
    "#derived from the style modules notebook (by Keeley Takimoto)"
   ]
  },
  {
   "cell_type": "code",
   "execution_count": 6,
   "metadata": {},
   "outputs": [],
   "source": [
    "hide_me\n",
    "\n",
    "#Imports all necessary libraries\n",
    "#You don't need to know this\n",
    "\n",
    "from datascience import *\n",
    "import pandas as pd\n",
    "import numpy as np\n",
    "%matplotlib inline\n",
    "import matplotlib.pyplot as plt\n",
    "import seaborn as sns\n",
    "plt.style.use('fivethirtyeight')\n",
    "import warnings\n",
    "warnings.simplefilter(action=\"ignore\", category=FutureWarning)\n",
    "warnings.filterwarnings('ignore')\n",
    "import ipywidgets as widgets\n",
    "from ipywidgets import interact, interactive, fixed, interact_manual\n",
    "from IPython.display import Image\n"
   ]
  },
  {
   "cell_type": "code",
   "execution_count": 7,
   "metadata": {},
   "outputs": [],
   "source": [
    "hide_me\n",
    "\n",
    "%run Lect_A_obscure_cover_hide.ipynb"
   ]
  },
  {
   "cell_type": "markdown",
   "metadata": {},
   "source": [
    "---\n",
    "## The Data <a id='data'></a>\n",
    "\n",
    "The General Social Survey (GSS) collects data on American society with the goal to examine sociological and attitudinal explain trends in the United States through the monitoring of different variables over time. Some of the information contained in this data set includes demographics, behaviors, attitudinal questions, and other relevant information such as civil liberties, mortality, social mobility, and psychological well-being. \n",
    "The data ranges from 1972 - 2018. \n",
    "\n",
    "\n",
    "For more information, make sure you visit the [GSS](https://gssdataexplorer.norc.org/) page.\n",
    "\n",
    "\n",
    "Note: The data set below has been filtered and pre-cleaned for the purposes of this class. If you would like to access the raw data and/or a more comprehensive data set, make sure to visit the GSS site. \n",
    "\n",
    "---"
   ]
  },
  {
   "cell_type": "code",
   "execution_count": 8,
   "metadata": {
    "scrolled": true
   },
   "outputs": [
    {
     "data": {
      "text/html": [
       "<div>\n",
       "<style scoped>\n",
       "    .dataframe tbody tr th:only-of-type {\n",
       "        vertical-align: middle;\n",
       "    }\n",
       "\n",
       "    .dataframe tbody tr th {\n",
       "        vertical-align: top;\n",
       "    }\n",
       "\n",
       "    .dataframe thead th {\n",
       "        text-align: right;\n",
       "    }\n",
       "</style>\n",
       "<table border=\"1\" class=\"dataframe\">\n",
       "  <thead>\n",
       "    <tr style=\"text-align: right;\">\n",
       "      <th></th>\n",
       "      <th>YEAR</th>\n",
       "      <th>REALINC ($)</th>\n",
       "      <th>TVHOURS</th>\n",
       "      <th>POLHITOK</th>\n",
       "      <th>CLASS</th>\n",
       "      <th>HAPPY</th>\n",
       "      <th>VISIONS</th>\n",
       "      <th>ESP</th>\n",
       "      <th>DEJAVU</th>\n",
       "      <th>REGION</th>\n",
       "      <th>RACE</th>\n",
       "      <th>DEGREE</th>\n",
       "      <th>EDUC</th>\n",
       "      <th>CHILDS</th>\n",
       "      <th>SIBS</th>\n",
       "      <th>HRS1</th>\n",
       "      <th>REALRINC</th>\n",
       "    </tr>\n",
       "  </thead>\n",
       "  <tbody>\n",
       "    <tr>\n",
       "      <th>0</th>\n",
       "      <td>1972</td>\n",
       "      <td>18951.0</td>\n",
       "      <td>NaN</td>\n",
       "      <td>Not applicable</td>\n",
       "      <td>Middle class</td>\n",
       "      <td>Not too happy</td>\n",
       "      <td>Not applicable</td>\n",
       "      <td>Not applicable</td>\n",
       "      <td>Not applicable</td>\n",
       "      <td>E. nor. central</td>\n",
       "      <td>White</td>\n",
       "      <td>Bachelor</td>\n",
       "      <td>16.0</td>\n",
       "      <td>0.0</td>\n",
       "      <td>3.0</td>\n",
       "      <td>NaN</td>\n",
       "      <td>0.0</td>\n",
       "    </tr>\n",
       "    <tr>\n",
       "      <th>1</th>\n",
       "      <td>1972</td>\n",
       "      <td>24366.0</td>\n",
       "      <td>NaN</td>\n",
       "      <td>Not applicable</td>\n",
       "      <td>Middle class</td>\n",
       "      <td>Not too happy</td>\n",
       "      <td>Not applicable</td>\n",
       "      <td>Not applicable</td>\n",
       "      <td>Not applicable</td>\n",
       "      <td>E. nor. central</td>\n",
       "      <td>White</td>\n",
       "      <td>Lt high school</td>\n",
       "      <td>10.0</td>\n",
       "      <td>5.0</td>\n",
       "      <td>4.0</td>\n",
       "      <td>NaN</td>\n",
       "      <td>0.0</td>\n",
       "    </tr>\n",
       "    <tr>\n",
       "      <th>2</th>\n",
       "      <td>1972</td>\n",
       "      <td>24366.0</td>\n",
       "      <td>NaN</td>\n",
       "      <td>Not applicable</td>\n",
       "      <td>Working class</td>\n",
       "      <td>Pretty happy</td>\n",
       "      <td>Not applicable</td>\n",
       "      <td>Not applicable</td>\n",
       "      <td>Not applicable</td>\n",
       "      <td>E. nor. central</td>\n",
       "      <td>White</td>\n",
       "      <td>High school</td>\n",
       "      <td>12.0</td>\n",
       "      <td>4.0</td>\n",
       "      <td>5.0</td>\n",
       "      <td>NaN</td>\n",
       "      <td>0.0</td>\n",
       "    </tr>\n",
       "    <tr>\n",
       "      <th>3</th>\n",
       "      <td>1972</td>\n",
       "      <td>30458.0</td>\n",
       "      <td>NaN</td>\n",
       "      <td>Not applicable</td>\n",
       "      <td>Middle class</td>\n",
       "      <td>Not too happy</td>\n",
       "      <td>Not applicable</td>\n",
       "      <td>Not applicable</td>\n",
       "      <td>Not applicable</td>\n",
       "      <td>E. nor. central</td>\n",
       "      <td>White</td>\n",
       "      <td>Bachelor</td>\n",
       "      <td>17.0</td>\n",
       "      <td>0.0</td>\n",
       "      <td>5.0</td>\n",
       "      <td>NaN</td>\n",
       "      <td>0.0</td>\n",
       "    </tr>\n",
       "    <tr>\n",
       "      <th>4</th>\n",
       "      <td>1972</td>\n",
       "      <td>50763.0</td>\n",
       "      <td>NaN</td>\n",
       "      <td>Not applicable</td>\n",
       "      <td>Working class</td>\n",
       "      <td>Pretty happy</td>\n",
       "      <td>Not applicable</td>\n",
       "      <td>Not applicable</td>\n",
       "      <td>Not applicable</td>\n",
       "      <td>E. nor. central</td>\n",
       "      <td>White</td>\n",
       "      <td>High school</td>\n",
       "      <td>12.0</td>\n",
       "      <td>2.0</td>\n",
       "      <td>2.0</td>\n",
       "      <td>NaN</td>\n",
       "      <td>0.0</td>\n",
       "    </tr>\n",
       "    <tr>\n",
       "      <th>5</th>\n",
       "      <td>1972</td>\n",
       "      <td>43994.0</td>\n",
       "      <td>NaN</td>\n",
       "      <td>Not applicable</td>\n",
       "      <td>Middle class</td>\n",
       "      <td>Pretty happy</td>\n",
       "      <td>Not applicable</td>\n",
       "      <td>Not applicable</td>\n",
       "      <td>Not applicable</td>\n",
       "      <td>E. nor. central</td>\n",
       "      <td>White</td>\n",
       "      <td>High school</td>\n",
       "      <td>14.0</td>\n",
       "      <td>0.0</td>\n",
       "      <td>1.0</td>\n",
       "      <td>NaN</td>\n",
       "      <td>0.0</td>\n",
       "    </tr>\n",
       "    <tr>\n",
       "      <th>6</th>\n",
       "      <td>1972</td>\n",
       "      <td>37226.0</td>\n",
       "      <td>NaN</td>\n",
       "      <td>Not applicable</td>\n",
       "      <td>Middle class</td>\n",
       "      <td>Not too happy</td>\n",
       "      <td>Not applicable</td>\n",
       "      <td>Not applicable</td>\n",
       "      <td>Not applicable</td>\n",
       "      <td>E. nor. central</td>\n",
       "      <td>White</td>\n",
       "      <td>High school</td>\n",
       "      <td>13.0</td>\n",
       "      <td>2.0</td>\n",
       "      <td>7.0</td>\n",
       "      <td>NaN</td>\n",
       "      <td>0.0</td>\n",
       "    </tr>\n",
       "    <tr>\n",
       "      <th>7</th>\n",
       "      <td>1972</td>\n",
       "      <td>13537.0</td>\n",
       "      <td>NaN</td>\n",
       "      <td>Not applicable</td>\n",
       "      <td>Working class</td>\n",
       "      <td>Not too happy</td>\n",
       "      <td>Not applicable</td>\n",
       "      <td>Not applicable</td>\n",
       "      <td>Not applicable</td>\n",
       "      <td>E. nor. central</td>\n",
       "      <td>White</td>\n",
       "      <td>Bachelor</td>\n",
       "      <td>16.0</td>\n",
       "      <td>0.0</td>\n",
       "      <td>1.0</td>\n",
       "      <td>NaN</td>\n",
       "      <td>0.0</td>\n",
       "    </tr>\n",
       "    <tr>\n",
       "      <th>8</th>\n",
       "      <td>1972</td>\n",
       "      <td>2707.0</td>\n",
       "      <td>NaN</td>\n",
       "      <td>Not applicable</td>\n",
       "      <td>Working class</td>\n",
       "      <td>Pretty happy</td>\n",
       "      <td>Not applicable</td>\n",
       "      <td>Not applicable</td>\n",
       "      <td>Not applicable</td>\n",
       "      <td>W. sou. central</td>\n",
       "      <td>Black</td>\n",
       "      <td>High school</td>\n",
       "      <td>12.0</td>\n",
       "      <td>2.0</td>\n",
       "      <td>2.0</td>\n",
       "      <td>NaN</td>\n",
       "      <td>0.0</td>\n",
       "    </tr>\n",
       "    <tr>\n",
       "      <th>9</th>\n",
       "      <td>1972</td>\n",
       "      <td>18951.0</td>\n",
       "      <td>NaN</td>\n",
       "      <td>Not applicable</td>\n",
       "      <td>Working class</td>\n",
       "      <td>Pretty happy</td>\n",
       "      <td>Not applicable</td>\n",
       "      <td>Not applicable</td>\n",
       "      <td>Not applicable</td>\n",
       "      <td>W. sou. central</td>\n",
       "      <td>Black</td>\n",
       "      <td>High school</td>\n",
       "      <td>12.0</td>\n",
       "      <td>4.0</td>\n",
       "      <td>7.0</td>\n",
       "      <td>NaN</td>\n",
       "      <td>0.0</td>\n",
       "    </tr>\n",
       "  </tbody>\n",
       "</table>\n",
       "</div>"
      ],
      "text/plain": [
       "   YEAR  REALINC ($)  TVHOURS        POLHITOK          CLASS          HAPPY  \\\n",
       "0  1972      18951.0      NaN  Not applicable   Middle class  Not too happy   \n",
       "1  1972      24366.0      NaN  Not applicable   Middle class  Not too happy   \n",
       "2  1972      24366.0      NaN  Not applicable  Working class   Pretty happy   \n",
       "3  1972      30458.0      NaN  Not applicable   Middle class  Not too happy   \n",
       "4  1972      50763.0      NaN  Not applicable  Working class   Pretty happy   \n",
       "5  1972      43994.0      NaN  Not applicable   Middle class   Pretty happy   \n",
       "6  1972      37226.0      NaN  Not applicable   Middle class  Not too happy   \n",
       "7  1972      13537.0      NaN  Not applicable  Working class  Not too happy   \n",
       "8  1972       2707.0      NaN  Not applicable  Working class   Pretty happy   \n",
       "9  1972      18951.0      NaN  Not applicable  Working class   Pretty happy   \n",
       "\n",
       "          VISIONS             ESP          DEJAVU           REGION   RACE  \\\n",
       "0  Not applicable  Not applicable  Not applicable  E. nor. central  White   \n",
       "1  Not applicable  Not applicable  Not applicable  E. nor. central  White   \n",
       "2  Not applicable  Not applicable  Not applicable  E. nor. central  White   \n",
       "3  Not applicable  Not applicable  Not applicable  E. nor. central  White   \n",
       "4  Not applicable  Not applicable  Not applicable  E. nor. central  White   \n",
       "5  Not applicable  Not applicable  Not applicable  E. nor. central  White   \n",
       "6  Not applicable  Not applicable  Not applicable  E. nor. central  White   \n",
       "7  Not applicable  Not applicable  Not applicable  E. nor. central  White   \n",
       "8  Not applicable  Not applicable  Not applicable  W. sou. central  Black   \n",
       "9  Not applicable  Not applicable  Not applicable  W. sou. central  Black   \n",
       "\n",
       "           DEGREE  EDUC  CHILDS  SIBS  HRS1  REALRINC  \n",
       "0        Bachelor  16.0     0.0   3.0   NaN       0.0  \n",
       "1  Lt high school  10.0     5.0   4.0   NaN       0.0  \n",
       "2     High school  12.0     4.0   5.0   NaN       0.0  \n",
       "3        Bachelor  17.0     0.0   5.0   NaN       0.0  \n",
       "4     High school  12.0     2.0   2.0   NaN       0.0  \n",
       "5     High school  14.0     0.0   1.0   NaN       0.0  \n",
       "6     High school  13.0     2.0   7.0   NaN       0.0  \n",
       "7        Bachelor  16.0     0.0   1.0   NaN       0.0  \n",
       "8     High school  12.0     2.0   2.0   NaN       0.0  \n",
       "9     High school  12.0     4.0   7.0   NaN       0.0  "
      ]
     },
     "execution_count": 8,
     "metadata": {},
     "output_type": "execute_result"
    }
   ],
   "source": [
    "hide_me\n",
    "\n",
    "gss = pd.read_csv('cleaned_data.csv', index_col = 0)\n",
    "gss.head(10)"
   ]
  },
  {
   "cell_type": "markdown",
   "metadata": {},
   "source": [
    "### Data Dictionary<a id='data.1'></a>"
   ]
  },
  {
   "cell_type": "markdown",
   "metadata": {},
   "source": [
    "To begin, we have to know what the shortened variable names refer to."
   ]
  },
  {
   "cell_type": "markdown",
   "metadata": {},
   "source": [
    "|Variables |Definition |\n",
    "|-----------|---------------------|\n",
    "|Year |GSS year for this respondent |\n",
    "|REALINC ($) |Family income|\n",
    "|TVHOURS |Hours per day watching TV|\n",
    "|POLHITOK |Ever approve of police striking citizen|\n",
    "|CLASS |Subjective class identification|\n",
    "|HAPPY |General happiness|\n",
    "|VISION |Perceived events at great distance|\n",
    "|ESP |Felt in touch with someone far away|\n",
    "|DEJAVU |Thought one was someplace before|\n",
    "|REGION |Region of interview|\n",
    "|RACE |Race of respondent|\n",
    "|DEGREE |Respondent's highest earned degree|\n",
    "|EDUC |Highest year of school completed|\n",
    "|CHILDS |Number of children|\n",
    "|SIBS |Number of brothers and sisters|\n",
    "|HRS1 |Number of hours worked last week|\n",
    "|REALRINC |Respondent's income|"
   ]
  },
  {
   "cell_type": "markdown",
   "metadata": {},
   "source": [
    "---\n",
    "# Univariate Statistics"
   ]
  },
  {
   "cell_type": "markdown",
   "metadata": {},
   "source": [
    "Today, we will be covering descriptive, univariate statistics such as the mean, median, and mode.\n",
    "\n",
    "---\n",
    "Notes: \n",
    "\n",
    "1) On the following sections, you will not be asked to write any code. Steps on what was done on the code cell will be displayed above.\n",
    "\n",
    "2) After performing calculations **we will only display the first 10 rows** of the data, unless there are fewer than 10 observations after that calculation or filter."
   ]
  },
  {
   "cell_type": "markdown",
   "metadata": {},
   "source": [
    "---\n",
    "## Mean<a id='2'></a>"
   ]
  },
  {
   "cell_type": "markdown",
   "metadata": {},
   "source": [
    "**Definition**: Commonly referred to as the average, it is the sum of all the values divided by the number of values. A measure of central tendency for interval or ratio variables."
   ]
  },
  {
   "cell_type": "markdown",
   "metadata": {},
   "source": [
    "### 1a) Distribution of Siblings"
   ]
  },
  {
   "cell_type": "code",
   "execution_count": 9,
   "metadata": {
    "scrolled": true
   },
   "outputs": [
    {
     "data": {
      "image/png": "[encoded data removed]",
      "text/plain": [
       "<Figure size 432x288 with 1 Axes>"
      ]
     },
     "metadata": {},
     "output_type": "display_data"
    }
   ],
   "source": [
    "hide_me\n",
    "\n",
    "gss_na = gss.dropna()\n",
    "sns.distplot(gss_na['REALINC ($)'], color = \"red\", kde = False)\n",
    "plt.xlim(0, 25)\n",
    "plt.title(\"Distribution of SIBS\");"
   ]
  },
  {
   "cell_type": "markdown",
   "metadata": {},
   "source": [
    "If we look at the data,the number of siblings goes all the way to 70. This may be either inaccurate data points or true values that are simply outliers. We might be worried that these outliers will have a big influence on the mean. The majority of our points are concentrated on the range 0-20. So, let's break our data into buckets to understand this distribution. \n",
    "\n",
    "Let's begin with the variables that have siblings > 35. "
   ]
  },
  {
   "cell_type": "code",
   "execution_count": 88,
   "metadata": {
    "scrolled": false
   },
   "outputs": [
    {
     "data": {
      "text/html": [
       "<div>\n",
       "<style scoped>\n",
       "    .dataframe tbody tr th:only-of-type {\n",
       "        vertical-align: middle;\n",
       "    }\n",
       "\n",
       "    .dataframe tbody tr th {\n",
       "        vertical-align: top;\n",
       "    }\n",
       "\n",
       "    .dataframe thead th {\n",
       "        text-align: right;\n",
       "    }\n",
       "</style>\n",
       "<table border=\"1\" class=\"dataframe\">\n",
       "  <thead>\n",
       "    <tr style=\"text-align: right;\">\n",
       "      <th></th>\n",
       "      <th>YEAR</th>\n",
       "      <th>REALINC ($)</th>\n",
       "      <th>TVHOURS</th>\n",
       "      <th>POLHITOK</th>\n",
       "      <th>CLASS</th>\n",
       "      <th>HAPPY</th>\n",
       "      <th>VISIONS</th>\n",
       "      <th>ESP</th>\n",
       "      <th>DEJAVU</th>\n",
       "      <th>REGION</th>\n",
       "      <th>RACE</th>\n",
       "      <th>DEGREE</th>\n",
       "      <th>EDUC</th>\n",
       "      <th>CHILDS</th>\n",
       "      <th>SIBS</th>\n",
       "      <th>HRS1</th>\n",
       "      <th>REALRINC</th>\n",
       "    </tr>\n",
       "  </thead>\n",
       "  <tbody>\n",
       "    <tr>\n",
       "      <th>18132</th>\n",
       "      <td>1985</td>\n",
       "      <td>6861.00</td>\n",
       "      <td>2.0</td>\n",
       "      <td>Not applicable</td>\n",
       "      <td>Working class</td>\n",
       "      <td>Pretty happy</td>\n",
       "      <td>Not applicable</td>\n",
       "      <td>Not applicable</td>\n",
       "      <td>Not applicable</td>\n",
       "      <td>Mountain</td>\n",
       "      <td>White</td>\n",
       "      <td>High school</td>\n",
       "      <td>12.0</td>\n",
       "      <td>NaN</td>\n",
       "      <td>68.0</td>\n",
       "      <td>50.0</td>\n",
       "      <td>6861.000</td>\n",
       "    </tr>\n",
       "    <tr>\n",
       "      <th>51386</th>\n",
       "      <td>2008</td>\n",
       "      <td>14726.25</td>\n",
       "      <td>2.0</td>\n",
       "      <td>Yes</td>\n",
       "      <td>Middle class</td>\n",
       "      <td>Very happy</td>\n",
       "      <td>Not applicable</td>\n",
       "      <td>Not applicable</td>\n",
       "      <td>Not applicable</td>\n",
       "      <td>South atlantic</td>\n",
       "      <td>White</td>\n",
       "      <td>High school</td>\n",
       "      <td>12.0</td>\n",
       "      <td>5.0</td>\n",
       "      <td>37.0</td>\n",
       "      <td>80.0</td>\n",
       "      <td>7363.125</td>\n",
       "    </tr>\n",
       "    <tr>\n",
       "      <th>52812</th>\n",
       "      <td>2008</td>\n",
       "      <td>4819.50</td>\n",
       "      <td>5.0</td>\n",
       "      <td>Not applicable</td>\n",
       "      <td>Working class</td>\n",
       "      <td>Very happy</td>\n",
       "      <td>Not applicable</td>\n",
       "      <td>Not applicable</td>\n",
       "      <td>Not applicable</td>\n",
       "      <td>W. sou. central</td>\n",
       "      <td>Black</td>\n",
       "      <td>Lt high school</td>\n",
       "      <td>11.0</td>\n",
       "      <td>2.0</td>\n",
       "      <td>55.0</td>\n",
       "      <td>NaN</td>\n",
       "      <td>0.000</td>\n",
       "    </tr>\n",
       "    <tr>\n",
       "      <th>62057</th>\n",
       "      <td>2016</td>\n",
       "      <td>0.00</td>\n",
       "      <td>NaN</td>\n",
       "      <td>Yes</td>\n",
       "      <td>Working class</td>\n",
       "      <td>Pretty happy</td>\n",
       "      <td>Not applicable</td>\n",
       "      <td>Not applicable</td>\n",
       "      <td>Not applicable</td>\n",
       "      <td>Pacific</td>\n",
       "      <td>White</td>\n",
       "      <td>High school</td>\n",
       "      <td>12.0</td>\n",
       "      <td>0.0</td>\n",
       "      <td>43.0</td>\n",
       "      <td>NaN</td>\n",
       "      <td>0.000</td>\n",
       "    </tr>\n",
       "  </tbody>\n",
       "</table>\n",
       "</div>"
      ],
      "text/plain": [
       "       YEAR  REALINC ($)  TVHOURS        POLHITOK          CLASS  \\\n",
       "18132  1985      6861.00      2.0  Not applicable  Working class   \n",
       "51386  2008     14726.25      2.0             Yes   Middle class   \n",
       "52812  2008      4819.50      5.0  Not applicable  Working class   \n",
       "62057  2016         0.00      NaN             Yes  Working class   \n",
       "\n",
       "              HAPPY         VISIONS             ESP          DEJAVU  \\\n",
       "18132  Pretty happy  Not applicable  Not applicable  Not applicable   \n",
       "51386    Very happy  Not applicable  Not applicable  Not applicable   \n",
       "52812    Very happy  Not applicable  Not applicable  Not applicable   \n",
       "62057  Pretty happy  Not applicable  Not applicable  Not applicable   \n",
       "\n",
       "                REGION   RACE          DEGREE  EDUC  CHILDS  SIBS  HRS1  \\\n",
       "18132         Mountain  White     High school  12.0     NaN  68.0  50.0   \n",
       "51386   South atlantic  White     High school  12.0     5.0  37.0  80.0   \n",
       "52812  W. sou. central  Black  Lt high school  11.0     2.0  55.0   NaN   \n",
       "62057          Pacific  White     High school  12.0     0.0  43.0   NaN   \n",
       "\n",
       "       REALRINC  \n",
       "18132  6861.000  \n",
       "51386  7363.125  \n",
       "52812     0.000  \n",
       "62057     0.000  "
      ]
     },
     "execution_count": 88,
     "metadata": {},
     "output_type": "execute_result"
    }
   ],
   "source": [
    "hide_me\n",
    "show_greater_than(gss, 'SIBS', 35)"
   ]
  },
  {
   "cell_type": "markdown",
   "metadata": {},
   "source": [
    "Although these may be real data points, we should focus on where majority of values lie (range of 0-20). It is typical to drop outliers from the data, especially if we believe they are not real values. Let's find the **mean** first and then, **plot the mean** and the **distribution** together."
   ]
  },
  {
   "cell_type": "code",
   "execution_count": 89,
   "metadata": {},
   "outputs": [
    {
     "name": "stdout",
     "output_type": "stream",
     "text": [
      "The mean of the number of siblings is: 3.909439462593872\n"
     ]
    }
   ],
   "source": [
    "hide_me\n",
    "\n",
    "sib_mean = np.nanmean(gss['SIBS'])\n",
    "print(\"The mean of the number of siblings is: \" + str(sib_mean))"
   ]
  },
  {
   "cell_type": "markdown",
   "metadata": {},
   "source": [
    "We only want to focus on the data where the number of siblings is below 20 in order to get a more representative and comprehendable visualization. We will also mark the location of the mean in the distribution.\n",
    "\n",
    "<!--Note that we observe the value of -1. Earlier, we converted the individuals who didn't report the number of siblings to the value of -1 so that we could perform quantitative analysis.-->"
   ]
  },
  {
   "cell_type": "code",
   "execution_count": 90,
   "metadata": {},
   "outputs": [
    {
     "data": {
      "image/png": "[encoded data removed]",
      "text/plain": [
       "<Figure size 504x288 with 1 Axes>"
      ]
     },
     "metadata": {},
     "output_type": "display_data"
    }
   ],
   "source": [
    "hide_me\n",
    "plt.figure(figsize = (7,4))\n",
    "sibs = show_less_than(gss, 'SIBS', 20)\n",
    "sns.distplot(sibs['SIBS'], color = \"red\", kde = False)\n",
    "marker(sib_mean)\n",
    "plt.title(\"Distribution of SIBS\")\n",
    "plt.xlim(0, 25);"
   ]
  },
  {
   "cell_type": "markdown",
   "metadata": {},
   "source": [
    "<div class=\"alert alert-info\">\n",
    "<b> Question:</b> \n",
    "Briefly note down your observations about the visualization.\n",
    "[HINT: Think about where the median and mode are. What does it imply if the median is higher or lower than the median?]\n",
    "    </div>    "
   ]
  },
  {
   "cell_type": "markdown",
   "metadata": {},
   "source": [
    "*Double click this cell to begin typing your answer*"
   ]
  },
  {
   "cell_type": "markdown",
   "metadata": {},
   "source": [
    "\n",
    "\n",
    "### 1b) Distribution of Family Income\n"
   ]
  },
  {
   "cell_type": "code",
   "execution_count": 91,
   "metadata": {
    "scrolled": false
   },
   "outputs": [
    {
     "data": {
      "image/png": "[encoded data removed]",
      "text/plain": [
       "<Figure size 576x288 with 1 Axes>"
      ]
     },
     "metadata": {},
     "output_type": "display_data"
    }
   ],
   "source": [
    "hide_me\n",
    "\n",
    "#average family income\n",
    "distplot('REALINC ($)', gss, 'orange')\n",
    "plt.title(\"Distribution of REALINC\");"
   ]
  },
  {
   "cell_type": "markdown",
   "metadata": {},
   "source": [
    "<div class=\"alert alert-info\">\n",
    "<b> Question:</b> \n",
    "How would you describe this distribution of family incomes? Where do you predict the mean to lie? \n",
    "</div>"
   ]
  },
  {
   "cell_type": "markdown",
   "metadata": {},
   "source": [
    "*Double click this cell to begin typing your answer*"
   ]
  },
  {
   "cell_type": "markdown",
   "metadata": {},
   "source": [
    "The **black line** represents the location of the mean in the overall distribution. "
   ]
  },
  {
   "cell_type": "code",
   "execution_count": 92,
   "metadata": {
    "scrolled": true
   },
   "outputs": [
    {
     "name": "stdout",
     "output_type": "stream",
     "text": [
      "The mean of family income over all the years is: 28523.0\n"
     ]
    }
   ],
   "source": [
    "#the actual mean - run the cell below\n",
    "hide_me\n",
    "\n",
    "mean_inc = np.nanmean(gss['REALINC ($)'])\n",
    "print(\"The mean of family income over all the years is: \" + str(round(mean_inc)))"
   ]
  },
  {
   "cell_type": "code",
   "execution_count": 93,
   "metadata": {
    "scrolled": true
   },
   "outputs": [
    {
     "data": {
      "image/png": "[encoded data removed]",
      "text/plain": [
       "<Figure size 576x288 with 1 Axes>"
      ]
     },
     "metadata": {},
     "output_type": "display_data"
    }
   ],
   "source": [
    "hide_me\n",
    "distplot('REALINC ($)', gss, 'orange')\n",
    "marker(mean_inc)\n",
    "plt.title(\"Distribution of REALINC\");"
   ]
  },
  {
   "cell_type": "markdown",
   "metadata": {},
   "source": [
    "### 1c) Distribution of the Respondent's yearly income"
   ]
  },
  {
   "cell_type": "markdown",
   "metadata": {},
   "source": [
    "The Respondent's yearly income is different from the family yearly income. What do you think the difference is?"
   ]
  },
  {
   "cell_type": "code",
   "execution_count": 94,
   "metadata": {
    "scrolled": true
   },
   "outputs": [
    {
     "data": {
      "image/png": "[encoded data removed]",
      "text/plain": [
       "<Figure size 576x288 with 1 Axes>"
      ]
     },
     "metadata": {},
     "output_type": "display_data"
    }
   ],
   "source": [
    "hide_me\n",
    "#average number of respondent's income\n",
    "distplot('REALRINC', gss, \"green\");\n",
    "plt.title(\"Distribution of REALRINC\");"
   ]
  },
  {
   "cell_type": "code",
   "execution_count": 95,
   "metadata": {},
   "outputs": [
    {
     "name": "stdout",
     "output_type": "stream",
     "text": [
      "The mean of the respondent's yearly income is: 13051.0\n"
     ]
    }
   ],
   "source": [
    "hide_me\n",
    "#find the actual mean of real respondent's income \n",
    "realrinc_mean = np.mean(gss.REALRINC)\n",
    "print(\"The mean of the respondent's yearly income is: \" + str(round(realrinc_mean)))"
   ]
  },
  {
   "cell_type": "markdown",
   "metadata": {},
   "source": [
    "Once again, will limit the view of our distribution where majority of the values are concentrated and mark the location of the mean."
   ]
  },
  {
   "cell_type": "code",
   "execution_count": 96,
   "metadata": {
    "scrolled": true
   },
   "outputs": [
    {
     "data": {
      "image/png": "[encoded data removed]",
      "text/plain": [
       "<Figure size 576x288 with 1 Axes>"
      ]
     },
     "metadata": {},
     "output_type": "display_data"
    }
   ],
   "source": [
    "hide_me\n",
    "\n",
    "realrinc = show_less_than(gss, 'REALRINC', 80000)\n",
    "distplot('REALRINC', realrinc, \"green\");\n",
    "marker(realrinc_mean)\n",
    "plt.title(\"Distribution of REALRINC\");"
   ]
  },
  {
   "cell_type": "markdown",
   "metadata": {},
   "source": [
    "<div class=\"alert alert-info\">\n",
    "<b> Question:</b> \n",
    "Why is the respondent income mean lower than the family income mean? \n",
    "\n",
    "</div>"
   ]
  },
  {
   "cell_type": "markdown",
   "metadata": {},
   "source": [
    "*Double click this cell to begin typing your answer*"
   ]
  },
  {
   "cell_type": "markdown",
   "metadata": {},
   "source": [
    "---\n",
    "## Median<a id='3'></a>"
   ]
  },
  {
   "cell_type": "markdown",
   "metadata": {},
   "source": [
    "**Definition**: the value that lies exactly in the middle of a sorted array of values in ascending order. A measure of central tendency appropriate for ordinal, interval, and ratio variables."
   ]
  },
  {
   "cell_type": "code",
   "execution_count": 97,
   "metadata": {
    "scrolled": true
   },
   "outputs": [
    {
     "data": {
      "text/plain": [
       "array([ 0,  1,  2,  3,  4,  5,  6,  7,  8,  9, 10])"
      ]
     },
     "execution_count": 97,
     "metadata": {},
     "output_type": "execute_result"
    }
   ],
   "source": [
    "hide_me\n",
    "arr = np.array([0,1,2,3,4,5,6,7,8,9,10])\n",
    "arr"
   ]
  },
  {
   "cell_type": "markdown",
   "metadata": {},
   "source": [
    "<div class=\"alert alert-info\">\n",
    "<b> Question:</b> \n",
    " What do you think the median of this set of numbers is?\n",
    "</div>"
   ]
  },
  {
   "cell_type": "markdown",
   "metadata": {},
   "source": [
    "*Double click this cell to begin typing your answer*"
   ]
  },
  {
   "cell_type": "markdown",
   "metadata": {},
   "source": [
    "Confirm your answer by running the following cell. \n",
    "The computation behind this is as follows: \n",
    "\n",
    "\n",
    "$\\frac{4 + 5}{2}$"
   ]
  },
  {
   "cell_type": "code",
   "execution_count": 98,
   "metadata": {},
   "outputs": [
    {
     "name": "stdout",
     "output_type": "stream",
     "text": [
      "The median of these values is: 5.0\n"
     ]
    }
   ],
   "source": [
    "hide_me\n",
    "\n",
    "print(\"The median of these values is: \" + str(np.median(arr)))"
   ]
  },
  {
   "cell_type": "markdown",
   "metadata": {},
   "source": [
    "### 2a) Median of the Children (CHILDS)"
   ]
  },
  {
   "cell_type": "markdown",
   "metadata": {},
   "source": [
    "Let's observe a variable that we have yet to explore: the number of children. To calculate the median, we have to sort the array of values in ascending order."
   ]
  },
  {
   "cell_type": "code",
   "execution_count": 99,
   "metadata": {
    "scrolled": false
   },
   "outputs": [
    {
     "name": "stdout",
     "output_type": "stream",
     "text": [
      "These are the first 5 values:\n",
      "       CHILDS\n",
      "0         0.0\n",
      "20316     0.0\n",
      "20309     0.0\n",
      "20307     0.0\n",
      "20305     0.0\n",
      "These are the last 5 values:\n",
      "       CHILDS\n",
      "64347     NaN\n",
      "64355     NaN\n",
      "64428     NaN\n",
      "64622     NaN\n",
      "64687     NaN\n"
     ]
    }
   ],
   "source": [
    "hide_me\n",
    "child = gss.sort_values('CHILDS', ascending = True)[['CHILDS']]\n",
    "print(\"These are the first 5 values:\" ); print(child.head(5))\n",
    "print(\"These are the last 5 values:\" ); print(child.tail(5))"
   ]
  },
  {
   "cell_type": "markdown",
   "metadata": {},
   "source": [
    "Because there are many people who didn't report the number of children, we will only look at those who reported a valid number. You may notice the consistency in the last 5 IDs because those represent the valid number of children unlike the first 5 that we displayed above.\n",
    "<!--#limits the data to only those will valid number-->"
   ]
  },
  {
   "cell_type": "code",
   "execution_count": 100,
   "metadata": {},
   "outputs": [
    {
     "name": "stdout",
     "output_type": "stream",
     "text": [
      "These are the first 5 values:\n",
      "       CHILDS\n",
      "0         0.0\n",
      "20316     0.0\n",
      "20309     0.0\n",
      "20307     0.0\n",
      "20305     0.0\n",
      "These are the last 5 values:\n",
      "       CHILDS\n",
      "8519      7.0\n",
      "33609     7.0\n",
      "864       7.0\n",
      "38291     7.0\n",
      "6835      7.0\n"
     ]
    }
   ],
   "source": [
    "hide_me\n",
    "valid_child = show_greater_equal(child, 'CHILDS', 0) \n",
    "print(\"These are the first 5 values:\"); print(valid_child.head(5))\n",
    "print(\"These are the last 5 values:\" ); print(valid_child.tail(5))"
   ]
  },
  {
   "cell_type": "markdown",
   "metadata": {},
   "source": [
    "As we remove the individuals who didn't respond, we should see how much data is being excluded."
   ]
  },
  {
   "cell_type": "code",
   "execution_count": 101,
   "metadata": {},
   "outputs": [
    {
     "name": "stdout",
     "output_type": "stream",
     "text": [
      "Percent excluded: 1.761965007560095\n"
     ]
    }
   ],
   "source": [
    "hide_me\n",
    "pecentage_excluded =(sum(np.isnan(gss['CHILDS']))/len(gss))*100\n",
    "print(\"Percent excluded: \" + str(pecentage_excluded ))"
   ]
  },
  {
   "cell_type": "markdown",
   "metadata": {},
   "source": [
    "In this case, 1.76% isn't such a large percentage of the entire dataset; thus, we can still make applicable conclusions."
   ]
  },
  {
   "cell_type": "code",
   "execution_count": 102,
   "metadata": {
    "scrolled": true
   },
   "outputs": [
    {
     "name": "stdout",
     "output_type": "stream",
     "text": [
      "The median of the number of children is: 2.0\n"
     ]
    }
   ],
   "source": [
    "hide_me\n",
    "# sorted array with number of children\n",
    "children = valid_child['CHILDS'].values\n",
    "\n",
    "#to find the median\n",
    "med_children = np.median(children)\n",
    "print(\"The median of the number of children is: \" + str(med_children))"
   ]
  },
  {
   "cell_type": "markdown",
   "metadata": {},
   "source": [
    "<div class=\"alert alert-info\">\n",
    "<b> Question:</b> Interpret the median value for number of children.\n",
    "</div>"
   ]
  },
  {
   "cell_type": "markdown",
   "metadata": {},
   "source": [
    "*Double click this cell to begin typing your answer*"
   ]
  },
  {
   "cell_type": "markdown",
   "metadata": {},
   "source": [
    "---\n",
    "### Comparing Mean and Median in Distributions<a id='s3.1'></a>"
   ]
  },
  {
   "cell_type": "markdown",
   "metadata": {},
   "source": [
    "The red line represents the median of the distribution and the black line displays the mean."
   ]
  },
  {
   "cell_type": "code",
   "execution_count": 103,
   "metadata": {},
   "outputs": [
    {
     "data": {
      "image/png": "[encoded data removed]",
      "text/plain": [
       "<Figure size 576x288 with 1 Axes>"
      ]
     },
     "metadata": {},
     "output_type": "display_data"
    }
   ],
   "source": [
    "hide_me\n",
    "#using the same distribution from above in the mean category, we can compare the mean and median\n",
    "#just run this cell\n",
    "distplot('REALINC ($)',gss, \"#3498db\");\n",
    "\n",
    "#mean in black\n",
    "plt.axvline(mean_inc, color = 'black', linewidth = 1.3, label= 'Mean: ' + str(np.round(mean_inc)))\n",
    "\n",
    "#median in purple\n",
    "inc = gss[['REALINC ($)']].sort_values('REALINC ($)', ascending = True)\n",
    "median_inc = np.median(show_greater_equal(inc, 'REALINC ($)', 0))\n",
    "\n",
    "plt.axvline(median_inc, color = 'red', linewidth = 1.3, label= 'Median: ' + str(np.round(median_inc, 2)))\n",
    "\n",
    "plt.title(\"Distribution of REALINC\")\n",
    "plt.legend(loc='upper right');"
   ]
  },
  {
   "cell_type": "markdown",
   "metadata": {},
   "source": [
    "<div class=\"alert alert-info\">\n",
    "<b> Question:</b> Why is the median lower than the mean?\n",
    "</div>"
   ]
  },
  {
   "cell_type": "markdown",
   "metadata": {},
   "source": [
    "*Double click this cell to begin typing your answer*"
   ]
  },
  {
   "cell_type": "markdown",
   "metadata": {},
   "source": [
    "---\n",
    "## Mode<a id='4'></a>"
   ]
  },
  {
   "cell_type": "markdown",
   "metadata": {},
   "source": [
    "**Definition**: The value that appears the most in a distribution of values. A measure of central tendency appropriate for any level of measurement."
   ]
  },
  {
   "cell_type": "markdown",
   "metadata": {},
   "source": [
    "### 3a) Distribution of hours worked last week (HRS1)"
   ]
  },
  {
   "cell_type": "code",
   "execution_count": 104,
   "metadata": {},
   "outputs": [
    {
     "data": {
      "image/png": "[encoded data removed]",
      "text/plain": [
       "<Figure size 432x288 with 1 Axes>"
      ]
     },
     "metadata": {},
     "output_type": "display_data"
    }
   ],
   "source": [
    "hide_me\n",
    "\n",
    "sns.distplot(gss[np.isfinite(gss['HRS1'])]['HRS1'], color = \"purple\", kde = False)\n",
    "plt.xlim(-2, 80);\n",
    "plt.title(\"Distribution of HRS1\");"
   ]
  },
  {
   "cell_type": "markdown",
   "metadata": {},
   "source": [
    "<div class=\"alert alert-info\">\n",
    "<b> Question:</b>\n",
    "Through visual observation, what is the mode of this distribution of hours worked last night?\n",
    "</div>"
   ]
  },
  {
   "cell_type": "markdown",
   "metadata": {},
   "source": [
    "*Double click this cell to begin typing your answer*"
   ]
  },
  {
   "cell_type": "markdown",
   "metadata": {},
   "source": [
    "### 3b) Distribution of TV hours watched (TVHOURS)"
   ]
  },
  {
   "cell_type": "code",
   "execution_count": 105,
   "metadata": {},
   "outputs": [
    {
     "data": {
      "image/png": "[encoded data removed]",
      "text/plain": [
       "<Figure size 432x288 with 1 Axes>"
      ]
     },
     "metadata": {},
     "output_type": "display_data"
    }
   ],
   "source": [
    "hide_me\n",
    "\n",
    "sns.distplot(gss[np.isfinite(gss[\"TVHOURS\"])]['TVHOURS'], color = \"orange\", kde = False)\n",
    "#distplot('TVHOURS', gss[np.isfinite(gss[\"TVHOURS\"])], \"orange\")\n",
    "plt.xlim(-2,12);\n",
    "plt.title(\"Distribution of TVHOURS\");"
   ]
  },
  {
   "cell_type": "markdown",
   "metadata": {},
   "source": [
    "<div class=\"alert alert-info\">\n",
    "<b> Question:</b>\n",
    "What is the mode of this distribution of TVHOURS?\n",
    "</div>"
   ]
  },
  {
   "cell_type": "markdown",
   "metadata": {},
   "source": [
    "*Double click this cell to begin typing your answer*"
   ]
  },
  {
   "cell_type": "markdown",
   "metadata": {},
   "source": [
    "---\n",
    "## Standard Deviation<a id='5'></a>"
   ]
  },
  {
   "cell_type": "markdown",
   "metadata": {},
   "source": [
    "**Standard Deviation**: Measures how far your values lie from the mean. \n",
    "\n",
    "> A small standard deviation means that the values in the set are close to the mean of the data set  \n",
    "\n",
    "> A large standard deviation means that the values in the set are far away from the mean of the data set. \n",
    "\n",
    "> A standard deviation of 0 means that all of the points are the same."
   ]
  },
  {
   "cell_type": "markdown",
   "metadata": {},
   "source": [
    "### 4a) Example 1: Two Random Distributions"
   ]
  },
  {
   "cell_type": "code",
   "execution_count": 106,
   "metadata": {},
   "outputs": [
    {
     "data": {
      "image/png": "[encoded data removed]",
      "text/plain": [
       "<Figure size 648x288 with 1 Axes>"
      ]
     },
     "metadata": {},
     "output_type": "display_data"
    }
   ],
   "source": [
    "hide_me\n",
    "\n",
    "arr1 = np.array([0, 1,1,1,1,3,4,5,5,5,5,7,8,8.5, 9, 10])\n",
    "arr2 = np.array([0,10,30,40])\n",
    "plt.figure(figsize = (9, 4))\n",
    "sns.distplot(arr1, hist = False, color = \"orange\", label = \n",
    "             \"Distribution 1 - STD: \" + str(np.round(np.std(arr1))) + \", Mean: \" + str(np.round(np.mean(arr1))))\n",
    "sns.distplot(arr2, hist = False, color = \"green\", label = \n",
    "             \"Distribution 2 - STD: \" + str(np.round(np.std(arr2))) + \", Mean: \" + str(np.round(np.mean(arr2))));\n",
    "plt.title(\"Two Different Distributions\");"
   ]
  },
  {
   "cell_type": "markdown",
   "metadata": {},
   "source": [
    "**Key Observations:**\n",
    "- Distribution 1\n",
    ">- Distribution 1 is narrower than Distribution 2. <br>\n",
    ">- The values of Distribution 1 are closer to the mean of 5 because its range of values are from 0 to 10.<br>\n",
    ">- Standard deviation of 3 for Dist. 1 implies that the spread is small and the values are closer to each other.<br>\n",
    "- Distribution 2\n",
    ">- Distribution 2 is extremely wide by comparison.<br>\n",
    ">- The wide distribution, as exemplified through the large  highlights that the spread of the values is really large and the values are far apart from each other.<br>"
   ]
  },
  {
   "cell_type": "markdown",
   "metadata": {},
   "source": [
    "### 4b) Example 2: Family Income & Respondent's Income"
   ]
  },
  {
   "cell_type": "code",
   "execution_count": 107,
   "metadata": {},
   "outputs": [
    {
     "data": {
      "image/png": "[encoded data removed]",
      "text/plain": [
       "<Figure size 648x288 with 1 Axes>"
      ]
     },
     "metadata": {},
     "output_type": "display_data"
    }
   ],
   "source": [
    "hide_me\n",
    "\n",
    "rinc = gss[gss['REALRINC'] > -1]['REALRINC']\n",
    "inc = gss[gss['REALINC ($)'] > -1]['REALINC ($)']\n",
    "\n",
    "plt.figure(figsize = (9,4))\n",
    "sns.distplot(rinc, hist = False, kde_kws = {'linewidth': 1.5}, label = 'REALRINC: Mean = ' + str(np.round(np.mean(rinc))))\n",
    "#plt.axvline(np.mean(rinc), color = 'blue', linewidth = 1.3)\n",
    "\n",
    "sns.distplot(inc, hist = False, kde_kws = {'linewidth': 1.5}, label = 'REALINC: Mean = ' + str(np.round(np.mean(inc))))\n",
    "#plt.axvline(np.mean(inc), color = 'red', linewidth = 1.3)\n",
    "plt.xlim(0,200000)\n",
    "plt.xlabel(\"Income ($)\")\n",
    "plt.legend();"
   ]
  },
  {
   "cell_type": "markdown",
   "metadata": {},
   "source": [
    "#### 4b.1) Analyzing Family Income: "
   ]
  },
  {
   "cell_type": "code",
   "execution_count": 108,
   "metadata": {},
   "outputs": [
    {
     "name": "stdout",
     "output_type": "stream",
     "text": [
      "Standard Deviation is: 29532.58463142311\n",
      "Variance is: 872173555.0121685\n"
     ]
    }
   ],
   "source": [
    "hide_me\n",
    "#REALINC ($) Income\n",
    "inc_meanREALINC = np.nanmean(gss['REALINC ($)'])\n",
    "#print(\"The family income mean is \" + str(np.round((inc_mean), 2)))\n",
    "sdREALINC = pd.DataFrame({'REALINC': gss['REALINC ($)'].values})\n",
    "#Find the difference of each value from the mean\n",
    "diffREALINC = sdREALINC['REALINC'] - inc_meanREALINC\n",
    "sdREALINC.insert(1, 'Diff: Value - Mean', diffREALINC)\n",
    "sdREALINC.insert(2, 'Squared Diff', diff **2)\n",
    "sq_meanREALINC = np.mean(sdREALINC['Squared Diff'])\n",
    "stan_devREALINC = sq_meanREALINC**0.5\n",
    "print('Standard Deviation is: ' + str(stan_devREALINC));\n",
    "print('Variance is: ' + str(sq_meanREALINC))\n",
    "\n",
    "#sd.head(10)\n",
    "#sd.head(10)"
   ]
  },
  {
   "cell_type": "markdown",
   "metadata": {},
   "source": [
    "#### 4b.2) Analyzing Respondent's Income: "
   ]
  },
  {
   "cell_type": "code",
   "execution_count": 109,
   "metadata": {},
   "outputs": [
    {
     "name": "stdout",
     "output_type": "stream",
     "text": [
      "Standard Deviation is: 24465.696551164034\n",
      "Variance is: 598570307.7336397\n"
     ]
    }
   ],
   "source": [
    "hide_me\n",
    "#'REALRINC -- real \n",
    "inc_meanREALRINC = np.nanmean(gss['REALRINC'])\n",
    "#print(\"The family income mean is \" + str(np.round((inc_mean), 2)))\n",
    "sdREALRINC = pd.DataFrame({'REALRINC': gss['REALRINC'].values})\n",
    "#Find the difference of each value from the mean\n",
    "diffREALRINC = sdREALRINC['REALRINC'] - inc_meanREALRINC\n",
    "sdREALRINC.insert(1, 'Diff: Value - Mean', diffREALRINC)\n",
    "sdREALRINC.insert(2, 'Squared Diff', diffREALRINC **2)\n",
    "sq_meanREALRINC = np.mean(sdREALRINC['Squared Diff'])\n",
    "stan_devREALRINC = sq_meanREALRINC**0.5\n",
    "print('Standard Deviation is: ' + str(stan_devREALRINC));\n",
    "print('Variance is: ' + str(sq_meanREALRINC))\n",
    "\n",
    "#sd.head(10)\n",
    "#sd.head(10)"
   ]
  },
  {
   "cell_type": "markdown",
   "metadata": {},
   "source": [
    "<div class=\"alert alert-info\">\n",
    "<b> Question:</b>\n",
    "<!--Using the explanation provided in the previous example, what are some key observations that you notice in terms of the spread of the data (standard deviation) and spread between the values (variance)?-->\n",
    "Compare the standard deviation for family income and respondent's income. \n",
    "\n",
    "Hint: Look at how the statistics from the previous example are used. How does the mean and standard deviation show how widespread the data is? When answering this question think about:\n",
    "1. Which standard deviation is larger?\n",
    "2. How does it relate to the graph?\n",
    "\n",
    "    \n",
    "<!--(Hint: Look at how the statistics from the previous example are used. How does the mean and standard deviation show how widespread the data is?)-->\n",
    "</div>"
   ]
  },
  {
   "cell_type": "markdown",
   "metadata": {},
   "source": [
    "*Double click this cell to begin typing your answer*"
   ]
  },
  {
   "cell_type": "markdown",
   "metadata": {},
   "source": [
    "<!--Recall the mean of the family income? Run the cell below to view the output. -->\n",
    "<!--Now that we have the mean, we need to iterate through each individual value of family incomes and see how far it lies from the mean.-->\n",
    "<!--To avoid being overwhelmed, we will limit our view of the data to only the first 10 rows, but rest assured, the remainder of the data is also being transformed.-->\n",
    "<!--Square the differences-->\n",
    "<!--Take the square root of the squared mean of differences to find **standard deviation.**-->"
   ]
  },
  {
   "cell_type": "markdown",
   "metadata": {},
   "source": [
    "**Relationship between standard deviation and variance**:\n",
    "\n",
    "$\\sqrt{Variance}$ = Standard Deviation\n",
    "\n",
    "=\n",
    "\n",
    "${Standard Deviation}^{2}$ = Variance"
   ]
  },
  {
   "cell_type": "markdown",
   "metadata": {},
   "source": [
    "<!--<div class=\"alert alert-info\">\n",
    "<b> Question:</b> Interpret the standard deviation and variance from the example above.\n",
    "</div>-->"
   ]
  },
  {
   "cell_type": "markdown",
   "metadata": {},
   "source": [
    "---\n",
    "## Interactive Widgets<a id='6'></a>\n"
   ]
  },
  {
   "cell_type": "markdown",
   "metadata": {},
   "source": [
    "These two widgets will allow us to look at how the data have changed over time."
   ]
  },
  {
   "cell_type": "markdown",
   "metadata": {},
   "source": [
    "### Widget 1 <a id = \"attempt\"></a>\n",
    "\n",
    "You can choose the variable that you would like to view. This widget creates a distribution graph of that variable by taking the mean across all the years and displaying the distribution of those means."
   ]
  },
  {
   "cell_type": "code",
   "execution_count": 110,
   "metadata": {
    "scrolled": true
   },
   "outputs": [
    {
     "data": {
      "application/vnd.jupyter.widget-view+json": {
       "model_id": "391cc3dbc05b436fb94f986fed910e9c",
       "version_major": 2,
       "version_minor": 0
      },
      "text/plain": [
       "interactive(children=(Dropdown(description='Variables', options=('REALINC ($)', 'TVHOURS', 'EDUC', 'CHILDS', '…"
      ]
     },
     "metadata": {},
     "output_type": "display_data"
    }
   ],
   "source": [
    "hide_me\n",
    "def mean(feature):\n",
    "    #x is a column string in the gss table\n",
    "    table = gss[['YEAR', feature]].dropna().groupby('YEAR').mean()\n",
    "    table.reset_index(level=0, inplace=True)\n",
    "    print(\"The mean of \" + str(feature) + \" across all the years is \" + str(np.round(np.mean(table[feature]), 3)))\n",
    "    return sns.distplot(table[feature])\n",
    "\n",
    "options = widgets.Dropdown(options = [\"REALINC ($)\", \n",
    "                                           \"TVHOURS\", \"EDUC\", \n",
    "                                           \"CHILDS\", 'SIBS', 'HRS1', \n",
    "                                           \"REALRINC\"], description = \"Variables\")\n",
    "display(widgets.interactive(mean, feature = options))"
   ]
  },
  {
   "cell_type": "markdown",
   "metadata": {},
   "source": [
    "<div class=\"alert alert-info\">\n",
    "<b> Question:</b> Which variables seem to have more or less variation over time? (remember that this widget is graphing a dataset that contains the mean for a single year as the unit of analysis)\n",
    "</div>"
   ]
  },
  {
   "cell_type": "markdown",
   "metadata": {},
   "source": [
    "*Double click this cell to begin typing your answer*"
   ]
  },
  {
   "cell_type": "markdown",
   "metadata": {},
   "source": [
    "### Widget 2 <a id = \"success\"></a>\n",
    "\n",
    "In contrast to the previous widget, this one allows you to choose years available on the slider and it creates plots of all the different variables during that time. This will allow you to view multiple distributions at the same time and see how it varies across time. (Note: The graphs are displayed in 2-year intervals)\n",
    "\n",
    "**Note**: After you slide across a year, give it a few seconds for the data to process and produce a visualization."
   ]
  },
  {
   "cell_type": "code",
   "execution_count": 111,
   "metadata": {
    "scrolled": true
   },
   "outputs": [
    {
     "data": {
      "application/vnd.jupyter.widget-view+json": {
       "model_id": "3b93ac64f109450baa8079746db7b653",
       "version_major": 2,
       "version_minor": 0
      },
      "text/plain": [
       "interactive(children=(IntSlider(value=1970, continuous_update=False, description='Years: ', max=2019, min=1970…"
      ]
     },
     "metadata": {},
     "output_type": "display_data"
    }
   ],
   "source": [
    "hide_me\n",
    "\n",
    "slider = widgets.IntSlider(value = 1970, min = 1970, \n",
    "                            max = 2019, step = 2, \n",
    "                            description = 'Years: ', \n",
    "                            disabled = False, \n",
    "                            continuous_update = False, \n",
    "                            orientation = 'horizontal')\n",
    "\n",
    "variables = [\"REALINC ($)\",\"TVHOURS\", \"EDUC\", \"CHILDS\", 'SIBS', 'HRS1']\n",
    "colors = [\"red\", \"orange\", \"pink\", \"green\", \"blue\", \"purple\"]\n",
    "coord = [[0,0], [0,1], [1,0], [1,1], [2, 0], [2,1]]\n",
    "\n",
    "def plots_by_year(year):\n",
    "    f, axes = plt.subplots(3, 2, figsize=(10, 15))\n",
    "    j = 0\n",
    "    for i in variables:\n",
    "        index = coord[j]\n",
    "        sns.distplot(gss[gss['YEAR'] == year][i].dropna(), color = colors[j], ax = axes[index[0], index[1]])\n",
    "        j += 1\n",
    "    return f\n",
    "\n",
    "\n",
    "display(widgets.interactive(plots_by_year, year = slider))"
   ]
  },
  {
   "cell_type": "markdown",
   "metadata": {},
   "source": [
    "<div class=\"alert alert-info\">\n",
    "<b> Question:</b> How is the distribution of each variable chaning over time? What sort of social changes might these changes reflect?\n",
    "</div>"
   ]
  },
  {
   "cell_type": "markdown",
   "metadata": {},
   "source": [
    "*Double click this cell to begin typing your answer*"
   ]
  },
  {
   "cell_type": "markdown",
   "metadata": {},
   "source": [
    "---\n",
    "## Bibliography\n",
    "\n",
    "---\n",
    "Notebook developed by: Ankita Dhingra\n",
    "\n",
    "Edited by: Karla Palos Castellanos\n",
    "\n",
    "Data Science Modules: http://data.berkeley.edu/education/modules"
   ]
  },
  {
   "cell_type": "code",
   "execution_count": null,
   "metadata": {},
   "outputs": [],
   "source": []
  }
 ],
 "metadata": {
  "kernelspec": {
   "display_name": "Python 3",
   "language": "python",
   "name": "python3"
  },
  "language_info": {
   "codemirror_mode": {
    "name": "ipython",
    "version": 3
   },
   "file_extension": ".py",
   "mimetype": "text/x-python",
   "name": "python",
   "nbconvert_exporter": "python",
   "pygments_lexer": "ipython3",
   "version": "3.6.6"
  }
 },
 "nbformat": 4,
 "nbformat_minor": 2
}
